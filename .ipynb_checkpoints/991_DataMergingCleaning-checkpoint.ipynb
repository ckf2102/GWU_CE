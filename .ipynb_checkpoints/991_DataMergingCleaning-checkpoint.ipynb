{
 "cells": [
  {
   "cell_type": "markdown",
   "metadata": {},
   "source": [
    "#Merging, Cleaning Data Sets and Adding Variables#\n",
    "\n",
    "This notebook will be used to explore merging the data sets, cleaning the data sets (changing various values to np.NaN, converting fields to the appropriate value type), and adding calculated variables. This code will be repeated in the exploratory and modeling notebooks."
   ]
  },
  {
   "cell_type": "code",
   "execution_count": 1,
   "metadata": {
    "collapsed": false
   },
   "outputs": [],
   "source": [
    "import pandas as pd\n",
    "import numpy as np\n",
    "\n",
    "cross = pd.read_csv('000_Cross-Sectional.csv', low_memory=False)\n",
    "base = pd.read_csv('00_Baseline.csv', low_memory=False)\n",
    "visit1 = pd.read_csv('01_Visit1.csv', low_memory=False)\n",
    "visit2 = pd.read_csv('02_Visit2.csv', low_memory=False)\n",
    "visit3 = pd.read_csv('03_Visit3.csv', low_memory=False)\n",
    "visit4 = pd.read_csv('04_Visit4.csv', low_memory=False)\n",
    "visit5 = pd.read_csv('05_Visit5.csv', low_memory=False)\n",
    "visit6 = pd.read_csv('06_Visit6.csv', low_memory=False)\n",
    "visit7 = pd.read_csv('07_Visit7.csv', low_memory=False)\n",
    "visit8 = pd.read_csv('08_Visit8.csv', low_memory=False)\n",
    "visit9 = pd.read_csv('09_Visit9.csv', low_memory=False)\n",
    "visit10 = pd.read_csv('10_Visit10.csv', low_memory=False)\n",
    "\n",
    "pd.set_option('display.max_rows', 120)\n",
    "cross.rename(columns={'ID':'SWANID'}, inplace=True)"
   ]
  },
  {
   "cell_type": "markdown",
   "metadata": {},
   "source": [
    "##Merging Data Sets##"
   ]
  },
  {
   "cell_type": "code",
   "execution_count": 2,
   "metadata": {
    "collapsed": false
   },
   "outputs": [],
   "source": [
    "data = pd.merge(cross, base)\n",
    "data = pd.merge(data, visit1, on='SWANID', how='outer')\n",
    "data = pd.merge(data, visit2, on='SWANID', how='outer')\n",
    "data = pd.merge(data, visit3, on='SWANID', how='outer')\n",
    "data = pd.merge(data, visit4, on='SWANID', how='outer')\n",
    "data = pd.merge(data, visit5, on='SWANID', how='outer')\n",
    "data = pd.merge(data, visit6, on='SWANID', how='outer')\n",
    "data = pd.merge(data, visit7, on='SWANID', how='outer')\n",
    "data = pd.merge(data, visit8, on='SWANID', how='outer')\n",
    "data = pd.merge(data, visit9, on='SWANID', how='outer')\n",
    "data = pd.merge(data, visit10, on='SWANID', how='outer')"
   ]
  },
  {
   "cell_type": "code",
   "execution_count": 3,
   "metadata": {
    "collapsed": false
   },
   "outputs": [
    {
     "data": {
      "text/plain": [
       "(3302, 9214)"
      ]
     },
     "execution_count": 3,
     "metadata": {},
     "output_type": "execute_result"
    }
   ],
   "source": [
    "data.shape"
   ]
  },
  {
   "cell_type": "markdown",
   "metadata": {},
   "source": [
    "That's a lot of fields."
   ]
  },
  {
   "cell_type": "markdown",
   "metadata": {},
   "source": [
    "##Cleaning Data Sets##"
   ]
  },
  {
   "cell_type": "markdown",
   "metadata": {},
   "source": [
    "**Changing coded values for missing/null data to np.NaN**"
   ]
  },
  {
   "cell_type": "code",
   "execution_count": 4,
   "metadata": {
    "collapsed": false
   },
   "outputs": [],
   "source": [
    "data.replace(' ', np.nan, inplace=True)\n",
    "data.replace('-9', np.nan, inplace=True)\n",
    "data.replace('-1', np.nan, inplace=True)\n",
    "data.replace('-7', np.nan, inplace=True)\n",
    "data.replace('-8', np.nan, inplace=True)"
   ]
  },
  {
   "cell_type": "markdown",
   "metadata": {},
   "source": [
    "**Correcting data types**"
   ]
  },
  {
   "cell_type": "markdown",
   "metadata": {},
   "source": [
    "Discrimination scores"
   ]
  },
  {
   "cell_type": "code",
   "execution_count": 5,
   "metadata": {
    "collapsed": false
   },
   "outputs": [],
   "source": [
    "data[['COURTES0', 'RESPECT0', 'POORSER0', 'NOTSMAR0', 'AFRAIDO0', 'DISHONS0', 'BETTER0', 'INSULTE0', 'HARASSE0', 'IGNORED0']] = data[['COURTES0', 'RESPECT0', 'POORSER0', 'NOTSMAR0', 'AFRAIDO0', 'DISHONS0', 'BETTER0', 'INSULTE0', 'HARASSE0', 'IGNORED0']].astype(float)\n",
    "data[['COURTES1', 'RESPECT1', 'POORSER1', 'NOTSMAR1', 'AFRAIDO1', 'DISHONS1', 'BETTER1', 'INSULTE1', 'HARASSE1', 'IGNORED1']] = data[['COURTES1', 'RESPECT1', 'POORSER1', 'NOTSMAR1', 'AFRAIDO1', 'DISHONS1', 'BETTER1', 'INSULTE1', 'HARASSE1', 'IGNORED1']].astype(float)\n",
    "data[['COURTES2', 'RESPECT2', 'POORSER2', 'NOTSMAR2', 'AFRAIDO2', 'DISHONS2', 'BETTER2', 'INSULTE2', 'HARASSE2', 'IGNORED2']] = data[['COURTES2', 'RESPECT2', 'POORSER2', 'NOTSMAR2', 'AFRAIDO2', 'DISHONS2', 'BETTER2', 'INSULTE2', 'HARASSE2', 'IGNORED2']].astype(float)\n",
    "data[['COURTES3', 'RESPECT3', 'POORSER3', 'NOTSMAR3', 'AFRAIDO3', 'DISHONS3', 'BETTER3', 'INSULTE3', 'HARASSE3', 'IGNORED3']] = data[['COURTES3', 'RESPECT3', 'POORSER3', 'NOTSMAR3', 'AFRAIDO3', 'DISHONS3', 'BETTER3', 'INSULTE3', 'HARASSE3', 'IGNORED3']].astype(float)\n",
    "data[['COURTES7', 'RESPECT7', 'POORSER7', 'NOTSMAR7', 'AFRAIDO7', 'DISHONS7', 'BETTER7', 'INSULTE7', 'HARASSE7', 'IGNORED7']] = data[['COURTES7', 'RESPECT7', 'POORSER7', 'NOTSMAR7', 'AFRAIDO7', 'DISHONS7', 'BETTER7', 'INSULTE7', 'HARASSE7', 'IGNORED7']].astype(float)\n",
    "data[['COURTES10', 'RESPECT10', 'POORSER10', 'NOTSMAR10', 'AFRAIDO10', 'DISHONS10', 'BETTER10', 'INSULTE10', 'HARASSE10', 'IGNORED10']] = data[['COURTES10', 'RESPECT10', 'POORSER10', 'NOTSMAR10', 'AFRAIDO10', 'DISHONS10', 'BETTER10', 'INSULTE10', 'HARASSE10', 'IGNORED10']].astype(float)"
   ]
  },
  {
   "cell_type": "markdown",
   "metadata": {},
   "source": [
    "Ages"
   ]
  },
  {
   "cell_type": "code",
   "execution_count": 6,
   "metadata": {
    "collapsed": false
   },
   "outputs": [],
   "source": [
    "data[['AGE0', 'AGE1', 'AGE2', 'AGE3', 'AGE4', 'AGE5', 'AGE6', 'AGE7', 'AGE8', 'AGE9', 'AGE10']] = data[['AGE0', 'AGE1', 'AGE2', 'AGE3', 'AGE4', 'AGE5', 'AGE6', 'AGE7', 'AGE8', 'AGE9', 'AGE10']].astype(float)"
   ]
  },
  {
   "cell_type": "markdown",
   "metadata": {},
   "source": [
    "**Adding Calculated Variables**"
   ]
  },
  {
   "cell_type": "markdown",
   "metadata": {},
   "source": [
    "*Average Discrimination Score*"
   ]
  },
  {
   "cell_type": "code",
   "execution_count": 7,
   "metadata": {
    "collapsed": true
   },
   "outputs": [],
   "source": [
    "data.loc[:, 'DISC_SCORE0'] = 5 - data[['COURTES0', 'RESPECT0', 'POORSER0', 'NOTSMAR0', 'AFRAIDO0', 'DISHONS0', \n",
    "                                   'BETTER0', 'INSULTE0', 'HARASSE0', 'IGNORED0']].mean(axis=1)\n",
    "data.loc[:, 'DISC_SCORE1'] = 5 - data[['COURTES1', 'RESPECT1', 'POORSER1', 'NOTSMAR1', 'AFRAIDO1', 'DISHONS1', \n",
    "                                   'BETTER1', 'INSULTE1', 'HARASSE1', 'IGNORED1']].mean(axis=1)\n",
    "data.loc[:, 'DISC_SCORE2'] = 5 - data[['COURTES2', 'RESPECT2', 'POORSER2', 'NOTSMAR2', 'AFRAIDO2', 'DISHONS2', \n",
    "                                    'BETTER2', 'INSULTE2', 'HARASSE2', 'IGNORED2']].mean(axis=1)\n",
    "data.loc[:, 'DISC_SCORE3'] = 5 - data[['COURTES3', 'RESPECT3', 'POORSER3', 'NOTSMAR3', 'AFRAIDO3', 'DISHONS3', \n",
    "                                    'BETTER3', 'INSULTE3', 'HARASSE3', 'IGNORED3']].mean(axis=1)\n",
    "data.loc[:, 'DISC_SCORE7'] = 5 - data[['COURTES7', 'RESPECT7', 'POORSER7', 'NOTSMAR7', 'AFRAIDO7', 'DISHONS7', \n",
    "                                    'BETTER7', 'INSULTE7', 'HARASSE7', 'IGNORED7']].mean(axis=1)\n",
    "data.loc[:, 'DISC_SCORE10'] = 5 - data[['COURTES10', 'RESPECT10', 'POORSER10', 'NOTSMAR10', 'AFRAIDO10', 'DISHONS10', \n",
    "                                    'BETTER10', 'INSULTE10', 'HARASSE10', 'IGNORED10']].mean(axis=1)"
   ]
  },
  {
   "cell_type": "markdown",
   "metadata": {},
   "source": [
    "*Reason for Discrimination*"
   ]
  },
  {
   "cell_type": "code",
   "execution_count": 8,
   "metadata": {
    "collapsed": false
   },
   "outputs": [],
   "source": [
    "def convert_binary(cols):\n",
    "    data[cols] = data[cols].map({'1':0, '2':1})\n",
    "    # data[cols].replace(np.nan, 0, inplace=True)\n",
    "    print data[cols].value_counts(dropna=False)\n",
    "\n",
    "def convert_binary_float(cols):\n",
    "    data[cols] = data[cols].map({1:0, 2:1})\n",
    "    # data[cols].replace(np.nan, 0, inplace=True) # this may need to come out for certain variables\n",
    "    print data[cols].value_counts(dropna=False)"
   ]
  },
  {
   "cell_type": "code",
   "execution_count": 9,
   "metadata": {
    "collapsed": true
   },
   "outputs": [],
   "source": [
    "data['RACE_REASON0'] = data.MAINREA0.map({'1':1, '2':1, '3':0, '4':0, '5':0, '6':0, '7':0, '8':0, '9':0})"
   ]
  },
  {
   "cell_type": "code",
   "execution_count": 10,
   "metadata": {
    "collapsed": false
   },
   "outputs": [
    {
     "name": "stdout",
     "output_type": "stream",
     "text": [
      "NaN    2005\n",
      " 0      743\n",
      " 1      554\n",
      "Name: BCRACE1, dtype: int64\n",
      "NaN    2021\n",
      " 0      859\n",
      " 1      422\n",
      "Name: BCETHN1, dtype: int64\n",
      "NaN    2097\n",
      " 0      704\n",
      " 1      501\n",
      "Name: BCRACE2, dtype: int64\n",
      "NaN    2103\n",
      " 0      855\n",
      " 1      344\n",
      "Name: BCETHN2, dtype: int64\n",
      "NaN    2208\n",
      " 0      645\n",
      " 1      449\n",
      "Name: BCRACE3, dtype: int64\n",
      "NaN    2217\n",
      " 0      762\n",
      " 1      323\n",
      "Name: BCETHN3, dtype: int64\n",
      "NaN    2333\n",
      " 0      600\n",
      " 1      369\n",
      "Name: BCRACE7, dtype: int64\n",
      "NaN    2338\n",
      " 0      661\n",
      " 1      303\n",
      "Name: BCETHN7, dtype: int64\n",
      "NaN    2479\n",
      " 0      507\n",
      " 1      316\n",
      "Name: BCRACE10, dtype: int64\n",
      "NaN    2480\n",
      " 0      561\n",
      " 1      261\n",
      "Name: BCETHN10, dtype: int64\n"
     ]
    }
   ],
   "source": [
    "race_conversion = ['BCRACE1', 'BCETHN1', 'BCRACE2', 'BCETHN2', 'BCRACE3', 'BCETHN3', \n",
    "                   'BCRACE7', 'BCETHN7', 'BCRACE10', 'BCETHN10']\n",
    "\n",
    "for x in race_conversion:\n",
    "    if(data[x].dtype == np.float64):\n",
    "            convert_binary_float(x)\n",
    "    else:\n",
    "        convert_binary(x)"
   ]
  },
  {
   "cell_type": "code",
   "execution_count": 11,
   "metadata": {
    "collapsed": true
   },
   "outputs": [],
   "source": [
    "data.loc[:, 'RACE_REASON1'] = data.BCRACE1 + data.BCETHN1\n",
    "data['RACE_REASON1'] = data.RACE_REASON1.map({0:0, 1:1, 2:1})\n",
    "\n",
    "data.loc[:, 'RACE_REASON2'] = data.BCRACE2 + data.BCETHN2\n",
    "data['RACE_REASON2'] = data.RACE_REASON2.map({0:0, 1:1, 2:1})\n",
    "\n",
    "data.loc[:, 'RACE_REASON3'] = data.BCRACE3 + data.BCETHN3\n",
    "data['RACE_REASON3'] = data.RACE_REASON3.map({0:0, 1:1, 2:1})\n",
    "\n",
    "data.loc[:, 'RACE_REASON7'] = data.BCRACE7 + data.BCETHN7\n",
    "data['RACE_REASON7'] = data.RACE_REASON7.map({0:0, 1:1, 2:1})\n",
    "\n",
    "data.loc[:, 'RACE_REASON10'] = data.BCRACE10 + data.BCETHN10\n",
    "data['RACE_REASON10'] = data.RACE_REASON10.map({0:0, 1:1, 2:1})"
   ]
  },
  {
   "cell_type": "code",
   "execution_count": 14,
   "metadata": {
    "collapsed": true
   },
   "outputs": [],
   "source": [
    "data[['INTDAY1', 'INTDAY2', 'INTDAY3', 'INTDAY4', 'INTDAY5', 'INTDAY6', 'INTDAY7', 'INTDAY8', 'INTDAY9', 'INTDAY10']] = data[[\n",
    "        'INTDAY1', 'INTDAY2', 'INTDAY3', 'INTDAY4', 'INTDAY5', 'INTDAY6', 'INTDAY7', 'INTDAY8', \n",
    "        'INTDAY9', 'INTDAY10']].astype(float)"
   ]
  },
  {
   "cell_type": "code",
   "execution_count": 24,
   "metadata": {
    "collapsed": true
   },
   "outputs": [],
   "source": [
    "# Difference between Lipid Vascular Age and actual age at each visit\n",
    "\n",
    "data['LV_AGE_DIFF0'] = data.LV_AGE0 - data.AGE0\n",
    "data['LV_AGE_DIFF1'] = data.LV_AGE1 - data.AGE1\n",
    "data['LV_AGE_DIFF3'] = data.LV_AGE3 - data.AGE3\n",
    "data['LV_AGE_DIFF4'] = data.LV_AGE4 - data.AGE4\n",
    "data['LV_AGE_DIFF5'] = data.LV_AGE5 - data.AGE5\n",
    "data['LV_AGE_DIFF6'] = data.LV_AGE6 - data.AGE6\n",
    "data['LV_AGE_DIFF7'] = data.LV_AGE7 - data.AGE7\n",
    "\n",
    "# Difference between BMI Vascular Age and actual age at each visit\n",
    "\n",
    "data['BV_AGE_DIFF0'] = data.BV_AGE0 - data.AGE0\n",
    "data['BV_AGE_DIFF1'] = data.BV_AGE1 - data.AGE1\n",
    "data['BV_AGE_DIFF2'] = data.BV_AGE2 - data.AGE2\n",
    "data['BV_AGE_DIFF3'] = data.BV_AGE3 - data.AGE3\n",
    "data['BV_AGE_DIFF4'] = data.BV_AGE4 - data.AGE4\n",
    "data['BV_AGE_DIFF5'] = data.BV_AGE5 - data.AGE5\n",
    "data['BV_AGE_DIFF6'] = data.BV_AGE6 - data.AGE6\n",
    "data['BV_AGE_DIFF7'] = data.BV_AGE7 - data.AGE7\n",
    "data['BV_AGE_DIFF8'] = data.BV_AGE8 - data.AGE8\n",
    "data['BV_AGE_DIFF9'] = data.BV_AGE9 - data.AGE9\n",
    "data['BV_AGE_DIFF10'] = data.BV_AGE10 - data.AGE10\n",
    "\n",
    "# Ratio of Change in Lipid Age from Visit X to Baseline to the number of days between Visit X and Baseline\n",
    "\n",
    "data['LV_AGE_RATIO1'] = (data.LV_AGE1 - data.LV_AGE0) / data.INTDAY1\n",
    "data['LV_AGE_RATIO3'] = (data.LV_AGE3 - data.LV_AGE0) / data.INTDAY3\n",
    "data['LV_AGE_RATIO4'] = (data.LV_AGE4 - data.LV_AGE0) / data.INTDAY4\n",
    "data['LV_AGE_RATIO5'] = (data.LV_AGE5 - data.LV_AGE0) / data.INTDAY5\n",
    "data['LV_AGE_RATIO6'] = (data.LV_AGE6 - data.LV_AGE0) / data.INTDAY6\n",
    "data['LV_AGE_RATIO7'] = (data.LV_AGE7 - data.LV_AGE0) / data.INTDAY7\n",
    "\n",
    "# Ratio of Change in BMI Age from Visit X to Baseline to the number of days between Visit X and Baseline\n",
    "\n",
    "data['BV_AGE_RATIO1'] = (data.BV_AGE1 - data.BV_AGE0) / data.INTDAY1\n",
    "data['BV_AGE_RATIO2'] = (data.BV_AGE2 - data.BV_AGE0) / data.INTDAY2\n",
    "data['BV_AGE_RATIO3'] = (data.BV_AGE3 - data.BV_AGE0) / data.INTDAY3\n",
    "data['BV_AGE_RATIO4'] = (data.BV_AGE4 - data.BV_AGE0) / data.INTDAY4\n",
    "data['BV_AGE_RATIO5'] = (data.BV_AGE5 - data.BV_AGE0) / data.INTDAY5\n",
    "data['BV_AGE_RATIO6'] = (data.BV_AGE6 - data.BV_AGE0) / data.INTDAY6\n",
    "data['BV_AGE_RATIO7'] = (data.BV_AGE7 - data.BV_AGE0) / data.INTDAY7\n",
    "data['BV_AGE_RATIO8'] = (data.BV_AGE8 - data.BV_AGE0) / data.INTDAY8\n",
    "data['BV_AGE_RATIO9'] = (data.BV_AGE9 - data.BV_AGE0) / data.INTDAY9\n",
    "data['BV_AGE_RATIO10'] = (data.BV_AGE10 - data.BV_AGE0) / data.INTDAY10\n"
   ]
  },
  {
   "cell_type": "code",
   "execution_count": 23,
   "metadata": {
    "collapsed": false
   },
   "outputs": [
    {
     "data": {
      "text/html": [
       "<div>\n",
       "<table border=\"1\" class=\"dataframe\">\n",
       "  <thead>\n",
       "    <tr style=\"text-align: right;\">\n",
       "      <th></th>\n",
       "      <th>SWANID</th>\n",
       "      <th>LV_AGE1</th>\n",
       "      <th>LV_AGE0</th>\n",
       "      <th>INTDAY1</th>\n",
       "      <th>LV_AGE_RATIO1</th>\n",
       "      <th>AGE1</th>\n",
       "      <th>LV_AGE_DIFF1</th>\n",
       "    </tr>\n",
       "  </thead>\n",
       "  <tbody>\n",
       "    <tr>\n",
       "      <th>0</th>\n",
       "      <td>87737</td>\n",
       "      <td>NaN</td>\n",
       "      <td>64</td>\n",
       "      <td>NaN</td>\n",
       "      <td>NaN</td>\n",
       "      <td>NaN</td>\n",
       "      <td>NaN</td>\n",
       "    </tr>\n",
       "    <tr>\n",
       "      <th>1</th>\n",
       "      <td>33094</td>\n",
       "      <td>36</td>\n",
       "      <td>44</td>\n",
       "      <td>429</td>\n",
       "      <td>-0.018648</td>\n",
       "      <td>44</td>\n",
       "      <td>-8</td>\n",
       "    </tr>\n",
       "    <tr>\n",
       "      <th>2</th>\n",
       "      <td>23588</td>\n",
       "      <td>57</td>\n",
       "      <td>67</td>\n",
       "      <td>399</td>\n",
       "      <td>-0.025063</td>\n",
       "      <td>49</td>\n",
       "      <td>8</td>\n",
       "    </tr>\n",
       "    <tr>\n",
       "      <th>3</th>\n",
       "      <td>26343</td>\n",
       "      <td>38</td>\n",
       "      <td>34</td>\n",
       "      <td>355</td>\n",
       "      <td>0.011268</td>\n",
       "      <td>46</td>\n",
       "      <td>-8</td>\n",
       "    </tr>\n",
       "    <tr>\n",
       "      <th>4</th>\n",
       "      <td>37347</td>\n",
       "      <td>53</td>\n",
       "      <td>57</td>\n",
       "      <td>365</td>\n",
       "      <td>-0.010959</td>\n",
       "      <td>49</td>\n",
       "      <td>4</td>\n",
       "    </tr>\n",
       "    <tr>\n",
       "      <th>5</th>\n",
       "      <td>81061</td>\n",
       "      <td>36</td>\n",
       "      <td>45</td>\n",
       "      <td>441</td>\n",
       "      <td>-0.020408</td>\n",
       "      <td>44</td>\n",
       "      <td>-8</td>\n",
       "    </tr>\n",
       "    <tr>\n",
       "      <th>6</th>\n",
       "      <td>63273</td>\n",
       "      <td>58</td>\n",
       "      <td>75</td>\n",
       "      <td>455</td>\n",
       "      <td>-0.037363</td>\n",
       "      <td>47</td>\n",
       "      <td>11</td>\n",
       "    </tr>\n",
       "    <tr>\n",
       "      <th>7</th>\n",
       "      <td>79029</td>\n",
       "      <td>45</td>\n",
       "      <td>41</td>\n",
       "      <td>403</td>\n",
       "      <td>0.009926</td>\n",
       "      <td>49</td>\n",
       "      <td>-4</td>\n",
       "    </tr>\n",
       "    <tr>\n",
       "      <th>8</th>\n",
       "      <td>73009</td>\n",
       "      <td>27</td>\n",
       "      <td>23</td>\n",
       "      <td>364</td>\n",
       "      <td>0.010989</td>\n",
       "      <td>43</td>\n",
       "      <td>-16</td>\n",
       "    </tr>\n",
       "    <tr>\n",
       "      <th>9</th>\n",
       "      <td>19650</td>\n",
       "      <td>30</td>\n",
       "      <td>30</td>\n",
       "      <td>376</td>\n",
       "      <td>0.000000</td>\n",
       "      <td>48</td>\n",
       "      <td>-18</td>\n",
       "    </tr>\n",
       "  </tbody>\n",
       "</table>\n",
       "</div>"
      ],
      "text/plain": [
       "   SWANID  LV_AGE1  LV_AGE0  INTDAY1  LV_AGE_RATIO1  AGE1  LV_AGE_DIFF1\n",
       "0   87737      NaN       64      NaN            NaN   NaN           NaN\n",
       "1   33094       36       44      429      -0.018648    44            -8\n",
       "2   23588       57       67      399      -0.025063    49             8\n",
       "3   26343       38       34      355       0.011268    46            -8\n",
       "4   37347       53       57      365      -0.010959    49             4\n",
       "5   81061       36       45      441      -0.020408    44            -8\n",
       "6   63273       58       75      455      -0.037363    47            11\n",
       "7   79029       45       41      403       0.009926    49            -4\n",
       "8   73009       27       23      364       0.010989    43           -16\n",
       "9   19650       30       30      376       0.000000    48           -18"
      ]
     },
     "execution_count": 23,
     "metadata": {},
     "output_type": "execute_result"
    }
   ],
   "source": [
    "data[['SWANID', 'LV_AGE1', 'LV_AGE0', 'INTDAY1', 'LV_AGE_RATIO1', 'AGE1', 'LV_AGE_DIFF1']].head(10)"
   ]
  },
  {
   "cell_type": "code",
   "execution_count": 21,
   "metadata": {
    "collapsed": false
   },
   "outputs": [
    {
     "data": {
      "text/plain": [
       "count    2731.000000\n",
       "mean       -1.196997\n",
       "std        13.642210\n",
       "min       -25.000000\n",
       "25%       -11.000000\n",
       "50%        -4.000000\n",
       "75%         4.000000\n",
       "max       104.000000\n",
       "Name: LV_AGE_DIFF1, dtype: float64"
      ]
     },
     "execution_count": 21,
     "metadata": {},
     "output_type": "execute_result"
    }
   ],
   "source": [
    "data.LV_AGE_DIFF1.describe()"
   ]
  },
  {
   "cell_type": "code",
   "execution_count": 19,
   "metadata": {
    "collapsed": false
   },
   "outputs": [
    {
     "data": {
      "text/plain": [
       "count    2731.000000\n",
       "mean       45.719150\n",
       "std        14.189038\n",
       "min        21.000000\n",
       "25%        36.000000\n",
       "50%        43.000000\n",
       "75%        52.000000\n",
       "max       150.000000\n",
       "Name: LV_AGE1, dtype: float64"
      ]
     },
     "execution_count": 19,
     "metadata": {},
     "output_type": "execute_result"
    }
   ],
   "source": [
    "data.LV_AGE1.describe()"
   ]
  }
 ],
 "metadata": {
  "kernelspec": {
   "display_name": "Python 2",
   "language": "python",
   "name": "python2"
  },
  "language_info": {
   "codemirror_mode": {
    "name": "ipython",
    "version": 2
   },
   "file_extension": ".py",
   "mimetype": "text/x-python",
   "name": "python",
   "nbconvert_exporter": "python",
   "pygments_lexer": "ipython2",
   "version": "2.7.10"
  }
 },
 "nbformat": 4,
 "nbformat_minor": 0
}
