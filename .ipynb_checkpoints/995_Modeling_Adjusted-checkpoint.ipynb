{
 "cells": [
  {
   "cell_type": "code",
   "execution_count": 14,
   "metadata": {
    "collapsed": true
   },
   "outputs": [],
   "source": [
    "import pandas as pd\n",
    "import numpy as np\n",
    "import matplotlib.pyplot as plt\n",
    "import scipy as sp\n",
    "from scipy import stats\n",
    "import scipy.stats.mstats as mst\n",
    "import statsmodels.formula.api as smf\n",
    "\n",
    "import seaborn as sns\n",
    "import matplotlib.pyplot as plt\n",
    "%matplotlib inline\n",
    "\n",
    "all_data = pd.read_csv('991_CleanedData.csv', low_memory=False)"
   ]
  },
  {
   "cell_type": "code",
   "execution_count": 11,
   "metadata": {
    "collapsed": true
   },
   "outputs": [],
   "source": [
    "data = all_data[['SWANID', 'DISC_SCORE0', 'LV_AGE_DIFF0', 'RACE', 'CRPRESU0', 'MOD_PSTRESS', 'CVD', 'DEGREE', 'INCOME0']]"
   ]
  },
  {
   "cell_type": "markdown",
   "metadata": {},
   "source": [
    "#Features Selection#\n",
    "\n",
    "**Race**: since race seems to be significantly associated with many of the variables of interest, all of the spearman correlation coefficients will be stratified by race first."
   ]
  },
  {
   "cell_type": "markdown",
   "metadata": {},
   "source": [
    "Variables of interest:\n",
    "\n",
    "- C-Reactive Protein levels\n",
    "- Perceived stress score\n",
    "- CVD (binary)\n",
    "- Education (will need to add dummy variables)\n",
    "- Income (will need to add dummy variables)"
   ]
  },
  {
   "cell_type": "code",
   "execution_count": 12,
   "metadata": {
    "collapsed": true
   },
   "outputs": [],
   "source": [
    "black = data[data.RACE == 'Black']\n",
    "asian = data[data.RACE == 'Asian']\n",
    "white = data[data.RACE == 'Caucasian']\n",
    "hispanic = data[data.RACE == 'Hispanic']"
   ]
  },
  {
   "cell_type": "code",
   "execution_count": 16,
   "metadata": {
    "collapsed": false
   },
   "outputs": [],
   "source": [
    "corr_matrix = black.corr(method='spearman')"
   ]
  },
  {
   "cell_type": "code",
   "execution_count": 17,
   "metadata": {
    "collapsed": false,
    "scrolled": true
   },
   "outputs": [
    {
     "data": {
      "text/plain": [
       "<matplotlib.axes._subplots.AxesSubplot at 0x1f22fac8>"
      ]
     },
     "execution_count": 17,
     "metadata": {},
     "output_type": "execute_result"
    },
    {
     "data": {
      "image/png": "[encoded data removed]",
      "text/plain": [
       "<matplotlib.figure.Figure at 0x1f138208>"
      ]
     },
     "metadata": {},
     "output_type": "display_data"
    }
   ],
   "source": [
    "sns.heatmap(corr_matrix)"
   ]
  },
  {
   "cell_type": "code",
   "execution_count": 19,
   "metadata": {
    "collapsed": false
   },
   "outputs": [
    {
     "data": {
      "text/html": [
       "<div>\n",
       "<table border=\"1\" class=\"dataframe\">\n",
       "  <thead>\n",
       "    <tr style=\"text-align: right;\">\n",
       "      <th></th>\n",
       "      <th>SWANID</th>\n",
       "      <th>DISC_SCORE0</th>\n",
       "      <th>LV_AGE_DIFF0</th>\n",
       "      <th>CRPRESU0</th>\n",
       "      <th>MOD_PSTRESS</th>\n",
       "      <th>CVD</th>\n",
       "      <th>DEGREE</th>\n",
       "      <th>INCOME0</th>\n",
       "    </tr>\n",
       "  </thead>\n",
       "  <tbody>\n",
       "    <tr>\n",
       "      <th>SWANID</th>\n",
       "      <td>1.000000</td>\n",
       "      <td>0.013520</td>\n",
       "      <td>0.025311</td>\n",
       "      <td>-0.035890</td>\n",
       "      <td>0.015618</td>\n",
       "      <td>-0.041252</td>\n",
       "      <td>0.015882</td>\n",
       "      <td>0.002015</td>\n",
       "    </tr>\n",
       "    <tr>\n",
       "      <th>DISC_SCORE0</th>\n",
       "      <td>0.013520</td>\n",
       "      <td>1.000000</td>\n",
       "      <td>0.039373</td>\n",
       "      <td>0.047928</td>\n",
       "      <td>0.268666</td>\n",
       "      <td>0.023997</td>\n",
       "      <td>0.017706</td>\n",
       "      <td>-0.047268</td>\n",
       "    </tr>\n",
       "    <tr>\n",
       "      <th>LV_AGE_DIFF0</th>\n",
       "      <td>0.025311</td>\n",
       "      <td>0.039373</td>\n",
       "      <td>1.000000</td>\n",
       "      <td>0.278407</td>\n",
       "      <td>0.106730</td>\n",
       "      <td>0.162531</td>\n",
       "      <td>-0.115529</td>\n",
       "      <td>-0.118797</td>\n",
       "    </tr>\n",
       "    <tr>\n",
       "      <th>CRPRESU0</th>\n",
       "      <td>-0.035890</td>\n",
       "      <td>0.047928</td>\n",
       "      <td>0.278407</td>\n",
       "      <td>1.000000</td>\n",
       "      <td>0.049017</td>\n",
       "      <td>0.034957</td>\n",
       "      <td>-0.052187</td>\n",
       "      <td>-0.131619</td>\n",
       "    </tr>\n",
       "    <tr>\n",
       "      <th>MOD_PSTRESS</th>\n",
       "      <td>0.015618</td>\n",
       "      <td>0.268666</td>\n",
       "      <td>0.106730</td>\n",
       "      <td>0.049017</td>\n",
       "      <td>1.000000</td>\n",
       "      <td>0.108744</td>\n",
       "      <td>-0.168614</td>\n",
       "      <td>-0.236133</td>\n",
       "    </tr>\n",
       "    <tr>\n",
       "      <th>CVD</th>\n",
       "      <td>-0.041252</td>\n",
       "      <td>0.023997</td>\n",
       "      <td>0.162531</td>\n",
       "      <td>0.034957</td>\n",
       "      <td>0.108744</td>\n",
       "      <td>1.000000</td>\n",
       "      <td>-0.083504</td>\n",
       "      <td>-0.151675</td>\n",
       "    </tr>\n",
       "    <tr>\n",
       "      <th>DEGREE</th>\n",
       "      <td>0.015882</td>\n",
       "      <td>0.017706</td>\n",
       "      <td>-0.115529</td>\n",
       "      <td>-0.052187</td>\n",
       "      <td>-0.168614</td>\n",
       "      <td>-0.083504</td>\n",
       "      <td>1.000000</td>\n",
       "      <td>0.387076</td>\n",
       "    </tr>\n",
       "    <tr>\n",
       "      <th>INCOME0</th>\n",
       "      <td>0.002015</td>\n",
       "      <td>-0.047268</td>\n",
       "      <td>-0.118797</td>\n",
       "      <td>-0.131619</td>\n",
       "      <td>-0.236133</td>\n",
       "      <td>-0.151675</td>\n",
       "      <td>0.387076</td>\n",
       "      <td>1.000000</td>\n",
       "    </tr>\n",
       "  </tbody>\n",
       "</table>\n",
       "</div>"
      ],
      "text/plain": [
       "                SWANID  DISC_SCORE0  LV_AGE_DIFF0  CRPRESU0  MOD_PSTRESS  \\\n",
       "SWANID        1.000000     0.013520      0.025311 -0.035890     0.015618   \n",
       "DISC_SCORE0   0.013520     1.000000      0.039373  0.047928     0.268666   \n",
       "LV_AGE_DIFF0  0.025311     0.039373      1.000000  0.278407     0.106730   \n",
       "CRPRESU0     -0.035890     0.047928      0.278407  1.000000     0.049017   \n",
       "MOD_PSTRESS   0.015618     0.268666      0.106730  0.049017     1.000000   \n",
       "CVD          -0.041252     0.023997      0.162531  0.034957     0.108744   \n",
       "DEGREE        0.015882     0.017706     -0.115529 -0.052187    -0.168614   \n",
       "INCOME0       0.002015    -0.047268     -0.118797 -0.131619    -0.236133   \n",
       "\n",
       "                   CVD    DEGREE   INCOME0  \n",
       "SWANID       -0.041252  0.015882  0.002015  \n",
       "DISC_SCORE0   0.023997  0.017706 -0.047268  \n",
       "LV_AGE_DIFF0  0.162531 -0.115529 -0.118797  \n",
       "CRPRESU0      0.034957 -0.052187 -0.131619  \n",
       "MOD_PSTRESS   0.108744 -0.168614 -0.236133  \n",
       "CVD           1.000000 -0.083504 -0.151675  \n",
       "DEGREE       -0.083504  1.000000  0.387076  \n",
       "INCOME0      -0.151675  0.387076  1.000000  "
      ]
     },
     "execution_count": 19,
     "metadata": {},
     "output_type": "execute_result"
    }
   ],
   "source": [
    "corr_matrix"
   ]
  },
  {
   "cell_type": "code",
   "execution_count": 20,
   "metadata": {
    "collapsed": true
   },
   "outputs": [],
   "source": [
    "corr_matrix.to_csv('SpearmanUnadjusted.csv', index = False)"
   ]
  },
  {
   "cell_type": "code",
   "execution_count": 21,
   "metadata": {
    "collapsed": true
   },
   "outputs": [],
   "source": [
    "new_black = black[['DISC_SCORE0', 'LV_AGE_DIFF0', 'CRPRESU0']]"
   ]
  },
  {
   "cell_type": "code",
   "execution_count": 22,
   "metadata": {
    "collapsed": true
   },
   "outputs": [],
   "source": [
    "new_corr_matrix = new_black.corr(method='spearman')"
   ]
  },
  {
   "cell_type": "code",
   "execution_count": 23,
   "metadata": {
    "collapsed": false
   },
   "outputs": [
    {
     "data": {
      "text/html": [
       "<div>\n",
       "<table border=\"1\" class=\"dataframe\">\n",
       "  <thead>\n",
       "    <tr style=\"text-align: right;\">\n",
       "      <th></th>\n",
       "      <th>DISC_SCORE0</th>\n",
       "      <th>LV_AGE_DIFF0</th>\n",
       "      <th>CRPRESU0</th>\n",
       "    </tr>\n",
       "  </thead>\n",
       "  <tbody>\n",
       "    <tr>\n",
       "      <th>DISC_SCORE0</th>\n",
       "      <td>1.000000</td>\n",
       "      <td>0.039373</td>\n",
       "      <td>0.047928</td>\n",
       "    </tr>\n",
       "    <tr>\n",
       "      <th>LV_AGE_DIFF0</th>\n",
       "      <td>0.039373</td>\n",
       "      <td>1.000000</td>\n",
       "      <td>0.278407</td>\n",
       "    </tr>\n",
       "    <tr>\n",
       "      <th>CRPRESU0</th>\n",
       "      <td>0.047928</td>\n",
       "      <td>0.278407</td>\n",
       "      <td>1.000000</td>\n",
       "    </tr>\n",
       "  </tbody>\n",
       "</table>\n",
       "</div>"
      ],
      "text/plain": [
       "              DISC_SCORE0  LV_AGE_DIFF0  CRPRESU0\n",
       "DISC_SCORE0      1.000000      0.039373  0.047928\n",
       "LV_AGE_DIFF0     0.039373      1.000000  0.278407\n",
       "CRPRESU0         0.047928      0.278407  1.000000"
      ]
     },
     "execution_count": 23,
     "metadata": {},
     "output_type": "execute_result"
    }
   ],
   "source": [
    "new_corr_matrix"
   ]
  }
 ],
 "metadata": {
  "kernelspec": {
   "display_name": "Python 2",
   "language": "python",
   "name": "python2"
  },
  "language_info": {
   "codemirror_mode": {
    "name": "ipython",
    "version": 2
   },
   "file_extension": ".py",
   "mimetype": "text/x-python",
   "name": "python",
   "nbconvert_exporter": "python",
   "pygments_lexer": "ipython2",
   "version": "2.7.10"
  }
 },
 "nbformat": 4,
 "nbformat_minor": 0
}
