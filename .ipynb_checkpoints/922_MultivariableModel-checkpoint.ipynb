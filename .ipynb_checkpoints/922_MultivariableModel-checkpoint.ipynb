{
 "cells": [
  {
   "cell_type": "code",
   "execution_count": 1,
   "metadata": {
    "collapsed": true
   },
   "outputs": [],
   "source": [
    "import pandas as pd\n",
    "import numpy as np\n",
    "import statsmodels.formula.api as smf\n",
    "import scipy as sp\n",
    "from scipy import stats\n",
    "import scipy.stats.mstats as mst\n",
    "import patsy\n",
    "from statsmodels.stats.anova import anova_lm\n",
    "from statsmodels.stats.multicomp import (pairwise_tukeyhsd, MultiComparison)\n",
    "\n",
    "import matplotlib.pyplot as plt\n",
    "import seaborn as sns\n",
    "\n",
    "%matplotlib inline\n",
    "\n",
    "data = pd.read_csv('901_CleanedData.csv', low_memory=False)"
   ]
  },
  {
   "cell_type": "code",
   "execution_count": 2,
   "metadata": {
    "collapsed": true
   },
   "outputs": [],
   "source": [
    "def newIV(row):\n",
    "    if row['DISC_SCORE0'] < 2:\n",
    "        val = 0\n",
    "    else:\n",
    "        val = 1\n",
    "    return val\n",
    "\n",
    "data['DISC'] = data.apply(newIV, axis=1)"
   ]
  },
  {
   "cell_type": "code",
   "execution_count": 19,
   "metadata": {
    "collapsed": false
   },
   "outputs": [],
   "source": [
    "def ancova_lm(formula):\n",
    "    lm = smf.ols(formula, data).fit()\n",
    "    y,X = patsy.dmatrices(formula, data, return_type='dataframe')\n",
    "    p_lm = smf.OLS(y, X).fit()\n",
    "    anova = anova_lm(p_lm, typ=3)\n",
    "    print \"F stats\"\n",
    "    print anova\n",
    "    print \"\"\n",
    "    print \"OLS Results\"\n",
    "    print p_lm.summary()\n",
    "    return"
   ]
  },
  {
   "cell_type": "code",
   "execution_count": 4,
   "metadata": {
    "collapsed": false
   },
   "outputs": [
    {
     "name": "stdout",
     "output_type": "stream",
     "text": [
      "\n",
      "F stats\n",
      "                   sum_sq    df           F        PR(>F)\n",
      "Intercept    25795.505369     1  162.535877  2.316773e-36\n",
      "C(DISC)        401.636411     1    2.530686  1.117490e-01\n",
      "C(RACE)       9573.290607     3   20.106903  6.561023e-13\n",
      "C(DEGREE)     7540.037670     4   11.877327  1.398991e-09\n",
      "C(INCOME0)    1271.330835     3    2.670192  4.597151e-02\n",
      "C(CVD)        5763.510207     1   36.315520  1.866361e-09\n",
      "BMI0         64332.494495     1  405.355051  4.734401e-85\n",
      "Residual    515478.817336  3248         NaN           NaN\n"
     ]
    }
   ],
   "source": [
    "formula = 'LV_AGE_DIFF0 ~ C(DISC) + C(RACE) + C(DEGREE) + C(INCOME0) + C(CVD) + BMI0'\n",
    "\n",
    "ancova_lm(formula)"
   ]
  },
  {
   "cell_type": "code",
   "execution_count": 5,
   "metadata": {
    "collapsed": false
   },
   "outputs": [
    {
     "name": "stdout",
     "output_type": "stream",
     "text": [
      "\n",
      "F stats\n",
      "                  sum_sq    df           F         PR(>F)\n",
      "Intercept  109924.199813     1  647.977507  1.588688e-130\n",
      "C(DISC)       712.256286     1    4.198585   4.053764e-02\n",
      "BMI0       113104.752294     1  666.726122  6.427339e-134\n",
      "Residual   552863.275577  3259         NaN            NaN\n"
     ]
    }
   ],
   "source": [
    "formula = 'LV_AGE_DIFF0 ~ C(DISC) + BMI0'\n",
    "\n",
    "ancova_lm(formula)"
   ]
  },
  {
   "cell_type": "code",
   "execution_count": 6,
   "metadata": {
    "collapsed": false
   },
   "outputs": [
    {
     "name": "stdout",
     "output_type": "stream",
     "text": [
      "\n",
      "F stats\n",
      "                     sum_sq    df           F        PR(>F)\n",
      "Intercept      76108.726867     1  448.687005  2.100116e-93\n",
      "C(DISC)          446.538345     1    2.632496  1.047937e-01\n",
      "BMI0           75883.623957     1  447.359946  3.768221e-93\n",
      "C(DISC):BMI0     223.619425     1    1.318313  2.509793e-01\n",
      "Residual      552639.656152  3258         NaN           NaN\n"
     ]
    }
   ],
   "source": [
    "formula = 'LV_AGE_DIFF0 ~ C(DISC) + BMI0 + C(DISC)*BMI0'\n",
    "\n",
    "ancova_lm(formula)"
   ]
  },
  {
   "cell_type": "code",
   "execution_count": 9,
   "metadata": {
    "collapsed": false
   },
   "outputs": [
    {
     "name": "stdout",
     "output_type": "stream",
     "text": [
      "\n",
      "F stats\n",
      "                           sum_sq    df           F        PR(>F)\n",
      "Intercept            24835.457334     1  157.253132  2.936707e-35\n",
      "C(DISC)               2439.867096     1   15.448749  8.654707e-05\n",
      "C(RACE)               6882.137125     3   14.525437  2.133383e-09\n",
      "C(DEGREE)             5703.446692     4    9.028270  2.999554e-07\n",
      "C(INCOME0)             286.150000     3    0.603948  6.124102e-01\n",
      "C(CVD)                2002.494315     1   12.679392  3.750313e-04\n",
      "C(DISC):C(RACE)       2185.793638     3    4.613336  3.171617e-03\n",
      "C(DISC):C(DEGREE)     1604.234849     4    2.539423  3.805606e-02\n",
      "C(DISC):C(INCOME0)     560.869225     3    1.183770  3.143461e-01\n",
      "C(DISC):C(CVD)         269.209139     1    1.704578  1.917831e-01\n",
      "BMI0                 41615.088936     1  263.498392  5.003531e-57\n",
      "C(DISC):BMI0            45.561576     1    0.288487  5.912288e-01\n",
      "Residual            511071.155584  3236         NaN           NaN\n"
     ]
    }
   ],
   "source": [
    "#disc two way interactions\n",
    "disc_int = 'C(DISC)*C(RACE) + C(DISC)*C(DEGREE) + C(DISC)*C(INCOME0) + C(DISC)*C(CVD) + C(DISC)*BMI0'\n",
    "formula = 'LV_AGE_DIFF0 ~ C(DISC) + C(RACE) + C(DEGREE) + C(INCOME0) + C(CVD) + BMI0 + ' + disc_int\n",
    "\n",
    "ancova_lm(formula)"
   ]
  },
  {
   "cell_type": "code",
   "execution_count": 10,
   "metadata": {
    "collapsed": false,
    "scrolled": true
   },
   "outputs": [
    {
     "name": "stdout",
     "output_type": "stream",
     "text": [
      "\n",
      "F stats\n",
      "                          sum_sq    df           F        PR(>F)\n",
      "Intercept           27460.454554     1  173.820086  1.055710e-38\n",
      "C(DISC)              2800.855879     1   17.728949  2.616478e-05\n",
      "C(RACE)              6742.995810     3   14.227345  3.283732e-09\n",
      "C(DEGREE)            5569.818593     4    8.814005  4.480374e-07\n",
      "C(INCOME0)           1359.965182     3    2.869451  3.513765e-02\n",
      "C(CVD)               5245.651810     1   33.204099  9.074440e-09\n",
      "C(DISC):C(RACE)      2023.333256     3    4.269120  5.127560e-03\n",
      "C(DISC):C(DEGREE)    2021.658020     4    3.199189  1.242647e-02\n",
      "BMI0                63996.555369     1  405.087495  5.460317e-85\n",
      "Residual           512019.843862  3241         NaN           NaN\n"
     ]
    }
   ],
   "source": [
    "#disc two way interactions - complete?\n",
    "disc_int = '+ C(DISC)*C(RACE) + C(DISC)*C(DEGREE)'\n",
    "formula = 'LV_AGE_DIFF0 ~ C(DISC) + C(RACE) + C(DEGREE) + C(INCOME0) + C(CVD) + BMI0' + disc_int\n",
    "\n",
    "ancova_lm(formula)"
   ]
  },
  {
   "cell_type": "code",
   "execution_count": 17,
   "metadata": {
    "collapsed": false,
    "scrolled": true
   },
   "outputs": [
    {
     "name": "stdout",
     "output_type": "stream",
     "text": [
      "OLS Results\n",
      "                            OLS Regression Results                            \n",
      "==============================================================================\n",
      "Dep. Variable:           LV_AGE_DIFF0   R-squared:                       0.252\n",
      "Model:                            OLS   Adj. R-squared:                  0.243\n",
      "Method:                 Least Squares   F-statistic:                     27.88\n",
      "Date:                Sun, 06 Dec 2015   Prob (F-statistic):          2.60e-172\n",
      "Time:                        23:05:56   Log-Likelihood:                -12844.\n",
      "No. Observations:                3262   AIC:                         2.577e+04\n",
      "Df Residuals:                    3222   BIC:                         2.601e+04\n",
      "Df Model:                          39                                         \n",
      "Covariance Type:            nonrobust                                         \n",
      "=========================================================================================================\n",
      "                                            coef    std err          t      P>|t|      [95.0% Conf. Int.]\n",
      "---------------------------------------------------------------------------------------------------------\n",
      "Intercept                               -25.8033      5.117     -5.043      0.000       -35.836   -15.771\n",
      "C(DISC)[T.1]                              0.6700      0.492      1.362      0.173        -0.294     1.634\n",
      "C(RACE)[T.Black]                         24.9802      4.802      5.202      0.000        15.566    34.395\n",
      "C(RACE)[T.Caucasian]                     18.5651      5.102      3.639      0.000         8.562    28.569\n",
      "C(RACE)[T.Hispanic]                      15.5979      5.680      2.746      0.006         4.460    26.735\n",
      "C(DEGREE)[T.2.0]                         -3.0690      4.485     -0.684      0.494       -11.863     5.725\n",
      "C(DEGREE)[T.3.0]                         -5.1478      4.287     -1.201      0.230       -13.553     3.257\n",
      "C(DEGREE)[T.4.0]                         -0.5993      4.475     -0.134      0.893        -9.373     8.174\n",
      "C(DEGREE)[T.5.0]                         -7.7193      4.636     -1.665      0.096       -16.809     1.370\n",
      "C(INCOME0)[T.2.0]                        -1.8847      0.752     -2.507      0.012        -3.359    -0.411\n",
      "C(INCOME0)[T.3.0]                        -1.7672      0.780     -2.267      0.023        -3.296    -0.239\n",
      "C(INCOME0)[T.4.0]                        -1.8676      0.948     -1.970      0.049        -3.727    -0.009\n",
      "C(CVD)[T.1]                               6.1777      7.724      0.800      0.424        -8.967    21.322\n",
      "C(RACE)[T.Black]:C(DEGREE)[T.2.0]        -7.8233      3.567     -2.194      0.028       -14.816    -0.830\n",
      "C(RACE)[T.Caucasian]:C(DEGREE)[T.2.0]    -6.6393      3.992     -1.663      0.096       -14.467     1.188\n",
      "C(RACE)[T.Hispanic]:C(DEGREE)[T.2.0]     -1.6391      3.358     -0.488      0.625        -8.222     4.944\n",
      "C(RACE)[T.Black]:C(DEGREE)[T.3.0]        -5.2949      3.402     -1.556      0.120       -11.965     1.375\n",
      "C(RACE)[T.Caucasian]:C(DEGREE)[T.3.0]    -8.3740      3.832     -2.185      0.029       -15.887    -0.861\n",
      "C(RACE)[T.Hispanic]:C(DEGREE)[T.3.0]      0.1341      3.265      0.041      0.967        -6.268     6.536\n",
      "C(RACE)[T.Black]:C(DEGREE)[T.4.0]        -6.9088      3.537     -1.953      0.051       -13.843     0.026\n",
      "C(RACE)[T.Caucasian]:C(DEGREE)[T.4.0]    -9.8001      3.859     -2.539      0.011       -17.367    -2.234\n",
      "C(RACE)[T.Hispanic]:C(DEGREE)[T.4.0]      0.7408      4.041      0.183      0.855        -7.183     8.665\n",
      "C(RACE)[T.Black]:C(DEGREE)[T.5.0]        -9.1465      3.603     -2.539      0.011       -16.210    -2.082\n",
      "C(RACE)[T.Caucasian]:C(DEGREE)[T.5.0]   -12.0945      3.913     -3.091      0.002       -19.767    -4.422\n",
      "C(RACE)[T.Hispanic]:C(DEGREE)[T.5.0]      3.9284      5.599      0.702      0.483        -7.049    14.905\n",
      "C(RACE)[T.Black]:C(CVD)[T.1]             11.0617      6.726      1.645      0.100        -2.127    24.250\n",
      "C(RACE)[T.Caucasian]:C(CVD)[T.1]          1.8998      6.822      0.278      0.781       -11.475    15.275\n",
      "C(RACE)[T.Hispanic]:C(CVD)[T.1]           2.2685      7.326      0.310      0.757       -12.095    16.632\n",
      "C(DEGREE)[T.2.0]:C(CVD)[T.1]              0.7956      4.846      0.164      0.870        -8.705    10.296\n",
      "C(DEGREE)[T.3.0]:C(CVD)[T.1]             -5.9302      4.619     -1.284      0.199       -14.987     3.127\n",
      "C(DEGREE)[T.4.0]:C(CVD)[T.1]            -16.3976      6.030     -2.720      0.007       -28.220    -4.575\n",
      "C(DEGREE)[T.5.0]:C(CVD)[T.1]             -8.9029      5.771     -1.543      0.123       -20.218     2.413\n",
      "BMI0                                      0.8951      0.203      4.407      0.000         0.497     1.293\n",
      "C(RACE)[T.Black]:BMI0                    -0.5593      0.152     -3.677      0.000        -0.857    -0.261\n",
      "C(RACE)[T.Caucasian]:BMI0                -0.3961      0.150     -2.643      0.008        -0.690    -0.102\n",
      "C(RACE)[T.Hispanic]:BMI0                 -0.4149      0.204     -2.035      0.042        -0.815    -0.015\n",
      "C(DEGREE)[T.2.0]:BMI0                     0.2277      0.162      1.402      0.161        -0.091     0.546\n",
      "C(DEGREE)[T.3.0]:BMI0                     0.2681      0.156      1.717      0.086        -0.038     0.574\n",
      "C(DEGREE)[T.4.0]:BMI0                     0.0433      0.166      0.261      0.794        -0.282     0.369\n",
      "C(DEGREE)[T.5.0]:BMI0                     0.3794      0.170      2.235      0.025         0.047     0.712\n",
      "==============================================================================\n",
      "Omnibus:                     1283.089   Durbin-Watson:                   1.928\n",
      "Prob(Omnibus):                  0.000   Jarque-Bera (JB):             7959.242\n",
      "Skew:                           1.748   Prob(JB):                         0.00\n",
      "Kurtosis:                       9.807   Cond. No.                     2.31e+03\n",
      "==============================================================================\n",
      "\n",
      "Warnings:\n",
      "[1] Standard Errors assume that the covariance matrix of the errors is correctly specified.\n",
      "[2] The condition number is large, 2.31e+03. This might indicate that there are\n",
      "strong multicollinearity or other numerical problems.\n",
      "\n",
      "F stats\n",
      "                          sum_sq    df          F        PR(>F)\n",
      "Intercept            3964.529607     1  25.431886  4.836086e-07\n",
      "C(DISC)               289.305352     1   1.855852  1.731995e-01\n",
      "C(RACE)              4221.803020     3   9.027419  5.963856e-06\n",
      "C(DEGREE)            1115.818718     4   1.789454  1.280657e-01\n",
      "C(INCOME0)           1044.031707     3   2.232438  8.241221e-02\n",
      "C(CVD)                 99.715502     1   0.639661  4.238927e-01\n",
      "C(RACE):C(DEGREE)    4701.182182    12   2.513117  2.731448e-03\n",
      "C(RACE):C(CVD)       1730.181943     3   3.699623  1.129317e-02\n",
      "C(DEGREE):C(CVD)     2151.133856     4   3.449803  8.052339e-03\n",
      "BMI0                 3027.408468     1  19.420389  1.083023e-05\n",
      "C(RACE):BMI0         2374.084082     3   5.076469  1.656678e-03\n",
      "C(DEGREE):BMI0       1916.981618     4   3.074290  1.540230e-02\n",
      "Residual           502271.610368  3222        NaN           NaN\n"
     ]
    }
   ],
   "source": [
    "# race interactions\n",
    "inter = '+ C(RACE)*C(DEGREE) + C(RACE)*C(CVD) + C(RACE)*BMI0 + C(DEGREE)*C(CVD) + C(DEGREE)*BMI0'\n",
    "formula = 'LV_AGE_DIFF0 ~ C(DISC) + C(RACE) + C(DEGREE) + C(INCOME0) + C(CVD) + BMI0' + inter\n",
    "\n",
    "ancova_lm(formula)"
   ]
  },
  {
   "cell_type": "code",
   "execution_count": 12,
   "metadata": {
    "collapsed": false
   },
   "outputs": [
    {
     "name": "stdout",
     "output_type": "stream",
     "text": [
      "\n",
      "F stats\n",
      "                          sum_sq    df          F        PR(>F)\n",
      "Intercept            3964.529607     1  25.431886  4.836086e-07\n",
      "C(DISC)               289.305352     1   1.855852  1.731995e-01\n",
      "C(RACE)              4221.803020     3   9.027419  5.963856e-06\n",
      "C(DEGREE)            1115.818718     4   1.789454  1.280657e-01\n",
      "C(INCOME0)           1044.031707     3   2.232438  8.241221e-02\n",
      "C(CVD)                 99.715502     1   0.639661  4.238927e-01\n",
      "C(RACE):C(DEGREE)    4701.182182    12   2.513117  2.731448e-03\n",
      "C(RACE):C(CVD)       1730.181943     3   3.699623  1.129317e-02\n",
      "C(DEGREE):C(CVD)     2151.133856     4   3.449803  8.052339e-03\n",
      "BMI0                 3027.408468     1  19.420389  1.083023e-05\n",
      "C(RACE):BMI0         2374.084082     3   5.076469  1.656678e-03\n",
      "C(DEGREE):BMI0       1916.981618     4   3.074290  1.540230e-02\n",
      "Residual           502271.610368  3222        NaN           NaN\n"
     ]
    }
   ],
   "source": [
    "inter = '+ C(RACE)*C(DEGREE) + C(RACE)*C(CVD) + C(RACE)*BMI0 + C(DEGREE)*C(CVD) + C(DEGREE)*BMI0'\n",
    "\n",
    "formula = 'LV_AGE_DIFF0 ~ C(DISC) + C(RACE) + C(DEGREE) + C(INCOME0) + C(CVD) + BMI0' + inter\n",
    "ancova_lm(formula)"
   ]
  },
  {
   "cell_type": "code",
   "execution_count": 34,
   "metadata": {
    "collapsed": false
   },
   "outputs": [
    {
     "name": "stdout",
     "output_type": "stream",
     "text": [
      "F stats\n",
      "                                 sum_sq    df         F    PR(>F)\n",
      "Intercept                    504.733462     1  3.252105  0.071426\n",
      "C(RACE)                     1179.149348     3  2.532503  0.055298\n",
      "C(DEGREE)                    454.866405     4  0.732700  0.569544\n",
      "C(INCOME0)                  1056.691991     3  2.269497  0.078473\n",
      "C(CVD)                       563.945474     1  3.633620  0.056713\n",
      "C(RACE):C(DEGREE)           2862.491786    12  1.536970  0.103536\n",
      "C(RACE):C(CVD)               512.608092     3  1.100948  0.347412\n",
      "C(DEGREE):C(CVD)            1060.600244     4  1.708418  0.145232\n",
      "C(RACE):C(DEGREE):C(CVD)    3956.218402    12  2.124229  0.012914\n",
      "BMI0                         344.299649     1  2.218396  0.136473\n",
      "C(RACE):BMI0                1040.917342     3  2.235617  0.082068\n",
      "C(DEGREE):BMI0               483.718364     4  0.779175  0.538579\n",
      "C(RACE):C(DEGREE):BMI0      3760.477798    12  2.019130  0.019248\n",
      "Residual                  496801.905882  3201       NaN       NaN\n",
      "\n",
      "OLS Results\n",
      "                            OLS Regression Results                            \n",
      "==============================================================================\n",
      "Dep. Variable:           LV_AGE_DIFF0   R-squared:                       0.260\n",
      "Model:                            OLS   Adj. R-squared:                  0.247\n",
      "Method:                 Least Squares   F-statistic:                     18.79\n",
      "Date:                Sun, 06 Dec 2015   Prob (F-statistic):          2.61e-165\n",
      "Time:                        23:38:25   Log-Likelihood:                -12826.\n",
      "No. Observations:                3262   AIC:                         2.577e+04\n",
      "Df Residuals:                    3201   BIC:                         2.614e+04\n",
      "Df Model:                          60                                         \n",
      "Covariance Type:            nonrobust                                         \n",
      "=====================================================================================================================\n",
      "                                                        coef    std err          t      P>|t|      [95.0% Conf. Int.]\n",
      "---------------------------------------------------------------------------------------------------------------------\n",
      "Intercept                                           -29.3765     16.290     -1.803      0.071       -61.316     2.563\n",
      "C(RACE)[T.Black]                                     32.3050     18.029      1.792      0.073        -3.045    67.655\n",
      "C(RACE)[T.Caucasian]                                  1.1118     19.354      0.057      0.954       -36.836    39.060\n",
      "C(RACE)[T.Hispanic]                                  23.6473     17.239      1.372      0.170       -10.153    57.447\n",
      "C(DEGREE)[T.2.0]                                      4.8126     19.048      0.253      0.801       -32.535    42.161\n",
      "C(DEGREE)[T.3.0]                                     -0.8082     17.177     -0.047      0.962       -34.488    32.872\n",
      "C(DEGREE)[T.4.0]                                      5.3647     17.325      0.310      0.757       -28.604    39.334\n",
      "C(DEGREE)[T.5.0]                                    -10.9785     18.154     -0.605      0.545       -46.573    24.616\n",
      "C(INCOME0)[T.2.0]                                    -1.8275      0.753     -2.426      0.015        -3.304    -0.351\n",
      "C(INCOME0)[T.3.0]                                    -1.8776      0.779     -2.411      0.016        -3.405    -0.350\n",
      "C(INCOME0)[T.4.0]                                    -1.9721      0.948     -2.079      0.038        -3.832    -0.113\n",
      "C(CVD)[T.1]                                          12.2735      6.439      1.906      0.057        -0.351    24.898\n",
      "C(RACE)[T.Black]:C(DEGREE)[T.2.0]                   -19.9791     20.895     -0.956      0.339       -60.948    20.990\n",
      "C(RACE)[T.Caucasian]:C(DEGREE)[T.2.0]                 7.5642     22.006      0.344      0.731       -35.584    50.712\n",
      "C(RACE)[T.Hispanic]:C(DEGREE)[T.2.0]                -18.1089     21.644     -0.837      0.403       -60.546    24.328\n",
      "C(RACE)[T.Black]:C(DEGREE)[T.3.0]                   -14.2555     19.044     -0.749      0.454       -51.594    23.083\n",
      "C(RACE)[T.Caucasian]:C(DEGREE)[T.3.0]                 9.0370     20.270      0.446      0.656       -30.706    48.780\n",
      "C(RACE)[T.Hispanic]:C(DEGREE)[T.3.0]                 -4.5946     19.710     -0.233      0.816       -43.239    34.050\n",
      "C(RACE)[T.Black]:C(DEGREE)[T.4.0]                   -16.9882     19.446     -0.874      0.382       -55.116    21.139\n",
      "C(RACE)[T.Caucasian]:C(DEGREE)[T.4.0]                 5.6430     20.448      0.276      0.783       -34.450    45.736\n",
      "C(RACE)[T.Hispanic]:C(DEGREE)[T.4.0]                -21.6523     23.806     -0.910      0.363       -68.330    25.025\n",
      "C(RACE)[T.Black]:C(DEGREE)[T.5.0]                    -5.0009     20.341     -0.246      0.806       -44.883    34.881\n",
      "C(RACE)[T.Caucasian]:C(DEGREE)[T.5.0]                12.2855     21.131      0.581      0.561       -29.147    53.718\n",
      "C(RACE)[T.Hispanic]:C(DEGREE)[T.5.0]                -85.9536     30.355     -2.832      0.005      -145.472   -26.436\n",
      "C(RACE)[T.Black]:C(CVD)[T.1]                          5.3415      7.499      0.712      0.476        -9.362    20.045\n",
      "C(RACE)[T.Caucasian]:C(CVD)[T.1]                     10.3733     11.163      0.929      0.353       -11.514    32.261\n",
      "C(RACE)[T.Hispanic]:C(CVD)[T.1]                      -8.0491      7.882     -1.021      0.307       -23.504     7.406\n",
      "C(DEGREE)[T.2.0]:C(CVD)[T.1]                        -12.1880      9.065     -1.345      0.179       -29.961     5.585\n",
      "C(DEGREE)[T.3.0]:C(CVD)[T.1]                         -3.7579     10.969     -0.343      0.732       -25.264    17.749\n",
      "C(DEGREE)[T.4.0]:C(CVD)[T.1]                        -13.3187      5.288     -2.519      0.012       -23.687    -2.950\n",
      "C(DEGREE)[T.5.0]:C(CVD)[T.1]                         -8.9806     10.976     -0.818      0.413       -30.501    12.540\n",
      "C(RACE)[T.Black]:C(DEGREE)[T.2.0]:C(CVD)[T.1]        13.0380     10.544      1.236      0.216        -7.637    33.713\n",
      "C(RACE)[T.Caucasian]:C(DEGREE)[T.2.0]:C(CVD)[T.1]     0.3897     13.645      0.029      0.977       -26.364    27.144\n",
      "C(RACE)[T.Hispanic]:C(DEGREE)[T.2.0]:C(CVD)[T.1]     15.2805     11.624      1.315      0.189        -7.512    38.073\n",
      "C(RACE)[T.Black]:C(DEGREE)[T.3.0]:C(CVD)[T.1]        -1.9474     11.886     -0.164      0.870       -25.253    21.358\n",
      "C(RACE)[T.Caucasian]:C(DEGREE)[T.3.0]:C(CVD)[T.1]   -21.8580     14.750     -1.482      0.138       -50.779     7.063\n",
      "C(RACE)[T.Hispanic]:C(DEGREE)[T.3.0]:C(CVD)[T.1]     14.2384     13.742      1.036      0.300       -12.706    41.183\n",
      "C(RACE)[T.Black]:C(DEGREE)[T.4.0]:C(CVD)[T.1]        -8.4569      7.916     -1.068      0.285       -23.977     7.064\n",
      "C(RACE)[T.Caucasian]:C(DEGREE)[T.4.0]:C(CVD)[T.1]   -13.0818     12.279     -1.065      0.287       -37.157    10.994\n",
      "C(RACE)[T.Hispanic]:C(DEGREE)[T.4.0]:C(CVD)[T.1]      8.2199      9.717      0.846      0.398       -10.831    27.271\n",
      "C(RACE)[T.Black]:C(DEGREE)[T.5.0]:C(CVD)[T.1]         0.5862     13.492      0.043      0.965       -25.867    27.039\n",
      "C(RACE)[T.Caucasian]:C(DEGREE)[T.5.0]:C(CVD)[T.1]   -11.9531     15.053     -0.794      0.427       -41.468    17.562\n",
      "C(RACE)[T.Hispanic]:C(DEGREE)[T.5.0]:C(CVD)[T.1]    -37.3087     17.837     -2.092      0.037       -72.282    -2.336\n",
      "BMI0                                                  1.0592      0.711      1.489      0.136        -0.335     2.453\n",
      "C(RACE)[T.Black]:BMI0                                -0.8306      0.748     -1.110      0.267        -2.297     0.636\n",
      "C(RACE)[T.Caucasian]:BMI0                             0.0891      0.781      0.114      0.909        -1.441     1.620\n",
      "C(RACE)[T.Hispanic]:BMI0                             -0.7212      0.735     -0.981      0.327        -2.162     0.720\n",
      "C(DEGREE)[T.2.0]:BMI0                                -0.1061      0.828     -0.128      0.898        -1.729     1.517\n",
      "C(DEGREE)[T.3.0]:BMI0                                 0.0803      0.748      0.107      0.915        -1.387     1.548\n",
      "C(DEGREE)[T.4.0]:BMI0                                -0.2117      0.756     -0.280      0.779        -1.694     1.270\n",
      "C(DEGREE)[T.5.0]:BMI0                                 0.5176      0.787      0.657      0.511        -1.026     2.061\n",
      "C(RACE)[T.Black]:C(DEGREE)[T.2.0]:BMI0                0.4665      0.867      0.538      0.591        -1.234     2.167\n",
      "C(RACE)[T.Caucasian]:C(DEGREE)[T.2.0]:BMI0           -0.3452      0.895     -0.386      0.700        -2.099     1.409\n",
      "C(RACE)[T.Hispanic]:C(DEGREE)[T.2.0]:BMI0             0.6224      0.897      0.694      0.488        -1.136     2.381\n",
      "C(RACE)[T.Black]:C(DEGREE)[T.3.0]:BMI0                0.3312      0.788      0.420      0.674        -1.214     1.876\n",
      "C(RACE)[T.Caucasian]:C(DEGREE)[T.3.0]:BMI0           -0.4755      0.819     -0.581      0.562        -2.082     1.130\n",
      "C(RACE)[T.Hispanic]:C(DEGREE)[T.3.0]:BMI0             0.1654      0.817      0.202      0.840        -1.437     1.767\n",
      "C(RACE)[T.Black]:C(DEGREE)[T.4.0]:BMI0                0.3893      0.801      0.486      0.627        -1.182     1.960\n",
      "C(RACE)[T.Caucasian]:C(DEGREE)[T.4.0]:BMI0           -0.4012      0.828     -0.485      0.628        -2.025     1.222\n",
      "C(RACE)[T.Hispanic]:C(DEGREE)[T.4.0]:BMI0             0.7850      0.931      0.843      0.399        -1.040     2.610\n",
      "C(RACE)[T.Black]:C(DEGREE)[T.5.0]:BMI0               -0.1682      0.835     -0.201      0.840        -1.806     1.469\n",
      "C(RACE)[T.Caucasian]:C(DEGREE)[T.5.0]:BMI0           -0.7828      0.856     -0.914      0.361        -2.462     0.896\n",
      "C(RACE)[T.Hispanic]:C(DEGREE)[T.5.0]:BMI0             3.3565      1.167      2.877      0.004         1.069     5.644\n",
      "==============================================================================\n",
      "Omnibus:                     1280.210   Durbin-Watson:                   1.929\n",
      "Prob(Omnibus):                  0.000   Jarque-Bera (JB):             7961.818\n",
      "Skew:                           1.743   Prob(JB):                         0.00\n",
      "Kurtosis:                       9.814   Cond. No.                     1.05e+16\n",
      "==============================================================================\n",
      "\n",
      "Warnings:\n",
      "[1] Standard Errors assume that the covariance matrix of the errors is correctly specified.\n",
      "[2] The smallest eigenvalue is 4.25e-26. This might indicate that there are\n",
      "strong multicollinearity problems or that the design matrix is singular.\n"
     ]
    }
   ],
   "source": [
    "inter = ' + C(RACE)*C(DEGREE) + C(RACE)*C(CVD) + C(RACE)*BMI0 + C(RACE)*C(DEGREE)*C(CVD) + C(RACE)*C(DEGREE)*BMI0'\n",
    "# not significant interactions:\n",
    "# C(RACE)*C(INCOME0)\n",
    "formula = 'LV_AGE_DIFF0 ~ C(RACE) + C(DEGREE) + C(INCOME0) + C(CVD) + BMI0' + inter\n",
    "ancova_lm(formula)"
   ]
  }
 ],
 "metadata": {
  "kernelspec": {
   "display_name": "Python 2",
   "language": "python",
   "name": "python2"
  },
  "language_info": {
   "codemirror_mode": {
    "name": "ipython",
    "version": 2
   },
   "file_extension": ".py",
   "mimetype": "text/x-python",
   "name": "python",
   "nbconvert_exporter": "python",
   "pygments_lexer": "ipython2",
   "version": "2.7.10"
  }
 },
 "nbformat": 4,
 "nbformat_minor": 0
}
