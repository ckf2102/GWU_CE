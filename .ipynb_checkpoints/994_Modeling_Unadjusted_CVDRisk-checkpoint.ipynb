{
 "cells": [
  {
   "cell_type": "code",
   "execution_count": 1,
   "metadata": {
    "collapsed": true
   },
   "outputs": [],
   "source": [
    "import pandas as pd\n",
    "import numpy as np\n",
    "import statsmodels.formula.api as smf\n",
    "import scipy as sp\n",
    "from scipy import stats\n",
    "import scipy.stats.mstats as mst\n",
    "import statsmodels.formula.api as smf\n",
    "\n",
    "import matplotlib.pyplot as plt\n",
    "import seaborn as sns\n",
    "\n",
    "%matplotlib inline\n",
    "\n",
    "data = pd.read_csv('991_CleanedData.csv', low_memory=False)"
   ]
  },
  {
   "cell_type": "markdown",
   "metadata": {},
   "source": [
    "#Table of Contents#\n",
    "\n",
    "**1. Significance across CVD risk - nominal/ordinal**\n",
    "- Racial group\n",
    "- Discrimination category\n",
    "- History of CVD\n",
    "- Education\n",
    "- Income\n",
    "\n",
    "**2. Significance across CVD risk - continuous**\n",
    "- Discrimination score\n",
    "- CRP\n",
    "- Perceived Stress"
   ]
  },
  {
   "cell_type": "markdown",
   "metadata": {},
   "source": [
    "#1. Significance Across CVD Risk - Categorical/Ordinal#\n",
    "\n",
    "Unadjusted analysis - testing for significance against excess vascular age (continuous variable) vs the following categorical/ordinal variables:\n",
    "\n",
    "- Race (nominal)\n",
    "- Discrimination category (nominal)\n",
    "- History of CVD (nominal)\n",
    "- Education (all categories) (nominal/ordinal)\n",
    "- Income (all categories) (nominal/ordinal)\n",
    "\n",
    "Using Kruskal-Wallis since CVDRISK0 does not follow normal distribution and no suitable transformation found"
   ]
  },
  {
   "cell_type": "code",
   "execution_count": 2,
   "metadata": {
    "collapsed": false,
    "scrolled": true
   },
   "outputs": [],
   "source": [
    "y = 'CVDRISK0'"
   ]
  },
  {
   "cell_type": "markdown",
   "metadata": {},
   "source": [
    "###Racial Category###"
   ]
  },
  {
   "cell_type": "code",
   "execution_count": 3,
   "metadata": {
    "collapsed": false
   },
   "outputs": [
    {
     "data": {
      "text/plain": [
       "RACE            \n",
       "Asian      count     529.000000\n",
       "           mean        3.145587\n",
       "           std         2.439812\n",
       "           min         0.734670\n",
       "           25%         1.687459\n",
       "           50%         2.531205\n",
       "           75%         3.821426\n",
       "           max        24.634701\n",
       "Black      count     922.000000\n",
       "           mean        5.971212\n",
       "           std         5.425291\n",
       "           min         0.912784\n",
       "           25%         2.782428\n",
       "           50%         4.165402\n",
       "           75%         7.327633\n",
       "           max        51.949516\n",
       "Caucasian  count    1529.000000\n",
       "           mean        4.169980\n",
       "           std         3.342758\n",
       "           min         0.571169\n",
       "           25%         2.154841\n",
       "           50%         3.131266\n",
       "           75%         4.981429\n",
       "           max        29.985284\n",
       "Hispanic   count     282.000000\n",
       "           mean        5.150897\n",
       "           std         3.516837\n",
       "           min         1.296233\n",
       "           25%         3.081785\n",
       "           50%         4.142819\n",
       "           75%         5.868244\n",
       "           max        29.476717\n",
       "dtype: float64"
      ]
     },
     "execution_count": 3,
     "metadata": {},
     "output_type": "execute_result"
    }
   ],
   "source": [
    "data.groupby('RACE').CVDRISK0.describe()"
   ]
  },
  {
   "cell_type": "code",
   "execution_count": 4,
   "metadata": {
    "collapsed": false
   },
   "outputs": [
    {
     "data": {
      "text/plain": [
       "KruskalResult(statistic=269.13239236827604, pvalue=4.7552283673259367e-58)"
      ]
     },
     "execution_count": 4,
     "metadata": {},
     "output_type": "execute_result"
    }
   ],
   "source": [
    "black = data[data.RACE == 'Black']\n",
    "asian = data[data.RACE == 'Asian']\n",
    "white = data[data.RACE == 'Caucasian']\n",
    "hispanic = data[data.RACE == 'Hispanic']\n",
    "\n",
    "mst.kruskalwallis(black[y], asian[y], white[y], hispanic[y])"
   ]
  },
  {
   "cell_type": "code",
   "execution_count": 5,
   "metadata": {
    "collapsed": false,
    "scrolled": true
   },
   "outputs": [
    {
     "data": {
      "text/plain": [
       "<matplotlib.text.Text at 0x23a2d828>"
      ]
     },
     "execution_count": 5,
     "metadata": {},
     "output_type": "execute_result"
    },
    {
     "data": {
      "image/png": "[encoded data removed]",
      "text/plain": [
       "<matplotlib.figure.Figure at 0x23ec9dd8>"
      ]
     },
     "metadata": {},
     "output_type": "display_data"
    }
   ],
   "source": [
    "data.boxplot(column=\"CVDRISK0\", by = \"RACE\")\n",
    "plt.xlabel('Race')\n",
    "plt.ylabel('CVD Event Risk %')"
   ]
  },
  {
   "cell_type": "markdown",
   "metadata": {},
   "source": [
    "###Discrimination Category###"
   ]
  },
  {
   "cell_type": "code",
   "execution_count": 6,
   "metadata": {
    "collapsed": false,
    "scrolled": false
   },
   "outputs": [
    {
     "data": {
      "text/plain": [
       "DISC_CAT0       \n",
       "HIGH       count    1646.000000\n",
       "           mean        4.815433\n",
       "           std         4.304309\n",
       "           min         0.746421\n",
       "           25%         2.323579\n",
       "           50%         3.501714\n",
       "           75%         5.672895\n",
       "           max        50.946041\n",
       "LOW        count    1616.000000\n",
       "           mean        4.376065\n",
       "           std         3.805431\n",
       "           min         0.571169\n",
       "           25%         2.213611\n",
       "           50%         3.252371\n",
       "           75%         5.121399\n",
       "           max        51.949516\n",
       "dtype: float64"
      ]
     },
     "execution_count": 6,
     "metadata": {},
     "output_type": "execute_result"
    }
   ],
   "source": [
    "data.groupby('DISC_CAT0').CVDRISK0.describe()"
   ]
  },
  {
   "cell_type": "code",
   "execution_count": 7,
   "metadata": {
    "collapsed": false
   },
   "outputs": [
    {
     "data": {
      "text/plain": [
       "KruskalResult(statistic=10.017780721556862, pvalue=0.0015503616527577078)"
      ]
     },
     "execution_count": 7,
     "metadata": {},
     "output_type": "execute_result"
    }
   ],
   "source": [
    "high = data[data.DISC_CAT0 == 'HIGH']\n",
    "low = data[data.DISC_CAT0 == 'LOW']\n",
    "\n",
    "mst.kruskalwallis(high[y], low[y])"
   ]
  },
  {
   "cell_type": "code",
   "execution_count": 8,
   "metadata": {
    "collapsed": false,
    "scrolled": true
   },
   "outputs": [
    {
     "data": {
      "text/plain": [
       "<matplotlib.text.Text at 0x1caac208>"
      ]
     },
     "execution_count": 8,
     "metadata": {},
     "output_type": "execute_result"
    },
    {
     "data": {
      "image/png": "[encoded data removed]",
      "text/plain": [
       "<matplotlib.figure.Figure at 0x1cd63a20>"
      ]
     },
     "metadata": {},
     "output_type": "display_data"
    }
   ],
   "source": [
    "data.boxplot(column=\"CVDRISK0\", by = \"DISC_CAT0\")\n",
    "plt.xlabel('Discrimination Category')\n",
    "plt.ylabel('CVD Event Risk %')"
   ]
  },
  {
   "cell_type": "markdown",
   "metadata": {},
   "source": [
    "###History of CVD###"
   ]
  },
  {
   "cell_type": "code",
   "execution_count": 9,
   "metadata": {
    "collapsed": false,
    "scrolled": true
   },
   "outputs": [
    {
     "data": {
      "text/plain": [
       "CVD       \n",
       "0    count    3171.000000\n",
       "     mean        4.499199\n",
       "     std         3.947064\n",
       "     min         0.571169\n",
       "     25%         2.237897\n",
       "     50%         3.333283\n",
       "     75%         5.307126\n",
       "     max        51.949516\n",
       "1    count      91.000000\n",
       "     mean        8.032577\n",
       "     std         6.263586\n",
       "     min         1.200616\n",
       "     25%         3.593174\n",
       "     50%         5.923485\n",
       "     75%         9.668918\n",
       "     max        26.745426\n",
       "dtype: float64"
      ]
     },
     "execution_count": 9,
     "metadata": {},
     "output_type": "execute_result"
    }
   ],
   "source": [
    "data.groupby('CVD').CVDRISK0.describe()"
   ]
  },
  {
   "cell_type": "code",
   "execution_count": 10,
   "metadata": {
    "collapsed": false
   },
   "outputs": [
    {
     "data": {
      "text/plain": [
       "KruskalResult(statistic=47.9661029183195, pvalue=4.3365186020563869e-12)"
      ]
     },
     "execution_count": 10,
     "metadata": {},
     "output_type": "execute_result"
    }
   ],
   "source": [
    "y_cvd = data[data.CVD == 1]\n",
    "n_cvd = data[data.CVD == 0]\n",
    "\n",
    "mst.kruskalwallis(y_cvd[y], n_cvd[y])"
   ]
  },
  {
   "cell_type": "code",
   "execution_count": 11,
   "metadata": {
    "collapsed": false,
    "scrolled": false
   },
   "outputs": [
    {
     "data": {
      "text/plain": [
       "<matplotlib.text.Text at 0x24074470>"
      ]
     },
     "execution_count": 11,
     "metadata": {},
     "output_type": "execute_result"
    },
    {
     "data": {
      "image/png": "[encoded data removed]",
      "text/plain": [
       "<matplotlib.figure.Figure at 0x24003b38>"
      ]
     },
     "metadata": {},
     "output_type": "display_data"
    }
   ],
   "source": [
    "data.boxplot(column=\"CVDRISK0\", by = \"CVD\")\n",
    "plt.xlabel('History of CVD (0 = n, 1 = y)')\n",
    "plt.ylabel('CVD Event Risk %')"
   ]
  },
  {
   "cell_type": "markdown",
   "metadata": {},
   "source": [
    "###Education###"
   ]
  },
  {
   "cell_type": "code",
   "execution_count": 12,
   "metadata": {
    "collapsed": false,
    "scrolled": true
   },
   "outputs": [
    {
     "data": {
      "text/plain": [
       "DEGREE       \n",
       "1       count     235.000000\n",
       "        mean        5.320561\n",
       "        std         4.176685\n",
       "        min         1.011225\n",
       "        25%         2.736548\n",
       "        50%         4.111775\n",
       "        75%         6.168436\n",
       "        max        29.985284\n",
       "2       count     572.000000\n",
       "        mean        5.274806\n",
       "        std         4.173495\n",
       "        min         0.940486\n",
       "        25%         2.665296\n",
       "        50%         3.844413\n",
       "        75%         6.640489\n",
       "        max        25.300151\n",
       "3       count    1069.000000\n",
       "        mean        5.049870\n",
       "        std         4.817657\n",
       "        min         0.689198\n",
       "        25%         2.369885\n",
       "        50%         3.534507\n",
       "        75%         6.092229\n",
       "        max        51.949516\n",
       "4       count     651.000000\n",
       "        mean        3.734395\n",
       "        std         3.036535\n",
       "        min         0.571169\n",
       "        25%         1.998487\n",
       "        50%         2.995541\n",
       "        75%         4.395253\n",
       "        max        38.967546\n",
       "5       count     735.000000\n",
       "        mean        3.946940\n",
       "        std         3.262473\n",
       "        min         0.746421\n",
       "        25%         1.999009\n",
       "        50%         2.999638\n",
       "        75%         4.726169\n",
       "        max        29.476717\n",
       "dtype: float64"
      ]
     },
     "execution_count": 12,
     "metadata": {},
     "output_type": "execute_result"
    }
   ],
   "source": [
    "data.groupby('DEGREE').CVDRISK0.describe()"
   ]
  },
  {
   "cell_type": "code",
   "execution_count": 13,
   "metadata": {
    "collapsed": false
   },
   "outputs": [
    {
     "data": {
      "text/plain": [
       "KruskalResult(statistic=117.8203187579669, pvalue=1.5600672811485369e-24)"
      ]
     },
     "execution_count": 13,
     "metadata": {},
     "output_type": "execute_result"
    }
   ],
   "source": [
    "edu1 = data[data.DEGREE == 1]\n",
    "edu2 = data[data.DEGREE == 2]\n",
    "edu3 = data[data.DEGREE == 3]\n",
    "edu4 = data[data.DEGREE == 4]\n",
    "edu5 = data[data.DEGREE == 5]\n",
    "\n",
    "mst.kruskalwallis(edu1[y], edu2[y], edu3[y], edu4[y], edu5[y])"
   ]
  },
  {
   "cell_type": "code",
   "execution_count": 14,
   "metadata": {
    "collapsed": false,
    "scrolled": true
   },
   "outputs": [
    {
     "data": {
      "text/plain": [
       "<matplotlib.text.Text at 0x1cc52a58>"
      ]
     },
     "execution_count": 14,
     "metadata": {},
     "output_type": "execute_result"
    },
    {
     "data": {
      "image/png": "[encoded data removed]",
      "text/plain": [
       "<matplotlib.figure.Figure at 0x23567a20>"
      ]
     },
     "metadata": {},
     "output_type": "display_data"
    }
   ],
   "source": [
    "data.boxplot(column=\"CVDRISK0\", by = \"DEGREE\")\n",
    "plt.xlabel('Education')\n",
    "plt.ylabel('CVD Event Risk %')"
   ]
  },
  {
   "cell_type": "markdown",
   "metadata": {},
   "source": [
    "###Income###"
   ]
  },
  {
   "cell_type": "code",
   "execution_count": 15,
   "metadata": {
    "collapsed": false
   },
   "outputs": [
    {
     "data": {
      "text/plain": [
       "KruskalResult(statistic=100.60252814613786, pvalue=1.1532870796122062e-21)"
      ]
     },
     "execution_count": 15,
     "metadata": {},
     "output_type": "execute_result"
    }
   ],
   "source": [
    "inc1 = data[data.INCOME0 == 1]\n",
    "inc2 = data[data.INCOME0 == 2]\n",
    "inc3 = data[data.INCOME0 == 3]\n",
    "inc4 = data[data.INCOME0 == 4]\n",
    "\n",
    "mst.kruskalwallis(inc1[y], inc2[y], inc3[y], inc4[y])"
   ]
  },
  {
   "cell_type": "code",
   "execution_count": 16,
   "metadata": {
    "collapsed": false,
    "scrolled": true
   },
   "outputs": [
    {
     "data": {
      "text/plain": [
       "INCOME0       \n",
       "1        count     483.000000\n",
       "         mean        5.910653\n",
       "         std         5.083502\n",
       "         min         0.800346\n",
       "         25%         2.842877\n",
       "         50%         4.342884\n",
       "         75%         6.910685\n",
       "         max        50.946041\n",
       "2        count    1077.000000\n",
       "         mean        4.689912\n",
       "         std         4.212727\n",
       "         min         0.571169\n",
       "         25%         2.352565\n",
       "         50%         3.373360\n",
       "         75%         5.517887\n",
       "         max        51.949516\n",
       "3        count    1240.000000\n",
       "         mean        4.323844\n",
       "         std         3.718894\n",
       "         min         0.734670\n",
       "         25%         2.117755\n",
       "         50%         3.277837\n",
       "         75%         5.073736\n",
       "         max        38.967546\n",
       "4        count     462.000000\n",
       "         mean        3.745622\n",
       "         std         2.969220\n",
       "         min         0.746421\n",
       "         25%         1.926827\n",
       "         50%         2.973506\n",
       "         75%         4.432883\n",
       "         max        25.535528\n",
       "dtype: float64"
      ]
     },
     "execution_count": 16,
     "metadata": {},
     "output_type": "execute_result"
    }
   ],
   "source": [
    "data.groupby('INCOME0').CVDRISK0.describe()"
   ]
  },
  {
   "cell_type": "code",
   "execution_count": 17,
   "metadata": {
    "collapsed": false,
    "scrolled": true
   },
   "outputs": [
    {
     "data": {
      "text/plain": [
       "<matplotlib.text.Text at 0x24202668>"
      ]
     },
     "execution_count": 17,
     "metadata": {},
     "output_type": "execute_result"
    },
    {
     "data": {
      "image/png": "[encoded data removed]",
      "text/plain": [
       "<matplotlib.figure.Figure at 0x234bbc88>"
      ]
     },
     "metadata": {},
     "output_type": "display_data"
    }
   ],
   "source": [
    "data.boxplot(column=\"LV_AGE_DIFF0\", by = \"INCOME0\")\n",
    "plt.xlabel('Income Category')\n",
    "plt.ylabel('CVD Event Risk %')"
   ]
  },
  {
   "cell_type": "markdown",
   "metadata": {},
   "source": [
    "#2. Significance Across CVD Risk - Continuous#\n",
    "\n",
    "Using Spearman's correlation to look at unadjusted correlation coefficients for the following continuous variables:\n",
    "\n",
    "- Discrimination score\n",
    "- CRP\n",
    "- Perceived Stress\n"
   ]
  },
  {
   "cell_type": "markdown",
   "metadata": {},
   "source": [
    "###Discrimination Score###"
   ]
  },
  {
   "cell_type": "code",
   "execution_count": 18,
   "metadata": {
    "collapsed": false,
    "scrolled": false
   },
   "outputs": [
    {
     "data": {
      "text/plain": [
       "SpearmanrResult(correlation=0.051851745368749522, pvalue=0.0030533602145825928)"
      ]
     },
     "execution_count": 18,
     "metadata": {},
     "output_type": "execute_result"
    }
   ],
   "source": [
    "sp.stats.spearmanr(data.DISC_SCORE0, data[y])"
   ]
  },
  {
   "cell_type": "code",
   "execution_count": 19,
   "metadata": {
    "collapsed": false,
    "scrolled": true
   },
   "outputs": [
    {
     "data": {
      "text/plain": [
       "<seaborn.axisgrid.PairGrid at 0x1c7aa0b8>"
      ]
     },
     "execution_count": 19,
     "metadata": {},
     "output_type": "execute_result"
    },
    {
     "data": {
      "image/png": "[encoded data removed]",
      "text/plain": [
       "<matplotlib.figure.Figure at 0x1c7aa208>"
      ]
     },
     "metadata": {},
     "output_type": "display_data"
    }
   ],
   "source": [
    "sns.pairplot(data, x_vars='DISC_SCORE0', y_vars='CVDRISK0', size=6, kind='reg')"
   ]
  },
  {
   "cell_type": "markdown",
   "metadata": {},
   "source": [
    "###C-Reactive Protein###"
   ]
  },
  {
   "cell_type": "code",
   "execution_count": 20,
   "metadata": {
    "collapsed": false
   },
   "outputs": [
    {
     "data": {
      "text/plain": [
       "SpearmanrResult(correlation=0.37845416232465851, pvalue=1.3716493590306859e-111)"
      ]
     },
     "execution_count": 20,
     "metadata": {},
     "output_type": "execute_result"
    }
   ],
   "source": [
    "sp.stats.spearmanr(data.CRPRESU0, data[y])"
   ]
  },
  {
   "cell_type": "code",
   "execution_count": 21,
   "metadata": {
    "collapsed": false
   },
   "outputs": [
    {
     "data": {
      "text/plain": [
       "<seaborn.axisgrid.PairGrid at 0x2431c4e0>"
      ]
     },
     "execution_count": 21,
     "metadata": {},
     "output_type": "execute_result"
    },
    {
     "data": {
      "image/png": "[encoded data removed]",
      "text/plain": [
       "<matplotlib.figure.Figure at 0x2431c208>"
      ]
     },
     "metadata": {},
     "output_type": "display_data"
    }
   ],
   "source": [
    "sns.pairplot(data, x_vars='CRPRESU0', y_vars='CVDRISK0', size=6, kind='reg')"
   ]
  },
  {
   "cell_type": "markdown",
   "metadata": {},
   "source": [
    "###Perceived Stress###"
   ]
  },
  {
   "cell_type": "code",
   "execution_count": 22,
   "metadata": {
    "collapsed": false,
    "scrolled": false
   },
   "outputs": [
    {
     "data": {
      "text/plain": [
       "SpearmanrResult(correlation=0.063830373565808715, pvalue=0.00026436584617759167)"
      ]
     },
     "execution_count": 22,
     "metadata": {},
     "output_type": "execute_result"
    }
   ],
   "source": [
    "sp.stats.spearmanr(data.MOD_PSTRESS, data[y])"
   ]
  },
  {
   "cell_type": "code",
   "execution_count": 23,
   "metadata": {
    "collapsed": false,
    "scrolled": true
   },
   "outputs": [
    {
     "data": {
      "text/plain": [
       "<seaborn.axisgrid.PairGrid at 0x23d940b8>"
      ]
     },
     "execution_count": 23,
     "metadata": {},
     "output_type": "execute_result"
    },
    {
     "data": {
      "image/png": "[encoded data removed]",
      "text/plain": [
       "<matplotlib.figure.Figure at 0x23d94390>"
      ]
     },
     "metadata": {},
     "output_type": "display_data"
    }
   ],
   "source": [
    "sns.pairplot(data, x_vars='MOD_PSTRESS', y_vars='CVDRISK0', size=6, kind='reg')"
   ]
  }
 ],
 "metadata": {
  "kernelspec": {
   "display_name": "Python 2",
   "language": "python",
   "name": "python2"
  },
  "language_info": {
   "codemirror_mode": {
    "name": "ipython",
    "version": 2
   },
   "file_extension": ".py",
   "mimetype": "text/x-python",
   "name": "python",
   "nbconvert_exporter": "python",
   "pygments_lexer": "ipython2",
   "version": "2.7.10"
  }
 },
 "nbformat": 4,
 "nbformat_minor": 0
}
