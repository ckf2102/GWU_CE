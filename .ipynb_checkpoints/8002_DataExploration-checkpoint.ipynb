{
 "cells": [
  {
   "cell_type": "markdown",
   "metadata": {},
   "source": [
    "#**Data Exploration**"
   ]
  },
  {
   "cell_type": "markdown",
   "metadata": {},
   "source": [
    "## Importing Data"
   ]
  },
  {
   "cell_type": "code",
   "execution_count": 63,
   "metadata": {
    "collapsed": false
   },
   "outputs": [],
   "source": [
    "import pandas as pd\n",
    "import numpy as np\n",
    "import matplotlib.pyplot as plt\n",
    "import scipy as sp\n",
    "from scipy import stats\n",
    "\n",
    "%matplotlib inline\n",
    "\n",
    "data = pd.read_csv('99053_AllData.csv')\n",
    "\n",
    "pd.set_option('display.max_rows', 120)"
   ]
  },
  {
   "cell_type": "markdown",
   "metadata": {},
   "source": [
    "## Some data cleaning\n",
    "\n",
    "Change all missing or NA values to numpy nan"
   ]
  },
  {
   "cell_type": "code",
   "execution_count": 64,
   "metadata": {
    "collapsed": true
   },
   "outputs": [],
   "source": [
    "data.replace(' ', np.nan, inplace=True)\n",
    "data.replace('-9', np.nan, inplace=True)\n",
    "data.replace('-1', np.nan, inplace=True)\n",
    "data.replace('-7', np.nan, inplace=True)\n",
    "data.replace('-8', np.nan, inplace=True)"
   ]
  },
  {
   "cell_type": "markdown",
   "metadata": {},
   "source": [
    "Converting object type to float"
   ]
  },
  {
   "cell_type": "code",
   "execution_count": 65,
   "metadata": {
    "collapsed": true
   },
   "outputs": [],
   "source": [
    "data.dtypes\n",
    "\n",
    "    # data types that need to change from object to float\n",
    "    # AGE0, INTDAY7, AGE7,INTDAY10, AGE10, P_STRESS, BMI0, BMI7, BMI10\n",
    "\n",
    "data[['AGE0', 'INTDAY7', 'AGE7','INTDAY10', 'AGE10', 'P_STRESS', 'BMI0', 'BMI7', 'BMI10']] = data[['AGE0', 'INTDAY7', 'AGE7','INTDAY10', 'AGE10', 'P_STRESS', 'BMI0', 'BMI7', 'BMI10']].astype(float)"
   ]
  },
  {
   "cell_type": "markdown",
   "metadata": {},
   "source": [
    "Adding a race column to combine Japanese and Chinese to Asian, rewriting Ethnic categories to show Ethnicity name instead of data code"
   ]
  },
  {
   "cell_type": "code",
   "execution_count": 66,
   "metadata": {
    "collapsed": true
   },
   "outputs": [],
   "source": [
    "data['RACE'] = data.ETHNIC.map({1:'Black', 8:'Asian', 9:'Asian', 10:'Caucasian', 13:'Hispanic'})\n",
    "data['ETHNIC_CAT'] = data.ETHNIC.map({1:'Black', 8:'Japanese', 9:'Chinese', 10:'Caucasian', 13:'Hispanic'})"
   ]
  },
  {
   "cell_type": "markdown",
   "metadata": {},
   "source": [
    "Adding in fields that represent the difference in heart age and actual age, as well as the heart age increase."
   ]
  },
  {
   "cell_type": "code",
   "execution_count": 67,
   "metadata": {
    "collapsed": false
   },
   "outputs": [],
   "source": [
    "data['LV_DA_AGE0'] = data.LV_AGE0 - data.AGE0\n",
    "data['BV_DA_AGE0'] = data.BV_AGE0 - data.AGE0\n",
    "data['LV_DA_AGE7'] = data.LV_AGE7 - data.AGE7\n",
    "data['BV_DA_AGE7'] = data.BV_AGE7 - data.AGE7\n",
    "data['BV_DA_AGE10'] = data.BV_AGE10 - data.AGE10\n",
    "\n",
    "data['LV_DV_AGE7'] = data.LV_AGE7 - data.LV_AGE0\n",
    "data['BV_DV_AGE8'] = data.BV_AGE7 - data.BV_AGE0\n",
    "data['BV_DV_AGE10'] = data.BV_AGE10 - data.BV_AGE0"
   ]
  },
  {
   "cell_type": "markdown",
   "metadata": {},
   "source": [
    "##Handling Null Values\n",
    "\n",
    "dot dot dot\n",
    "\n",
    "Collection for Hispanic participants stopped starting Visit 7. Fail."
   ]
  },
  {
   "cell_type": "code",
   "execution_count": 68,
   "metadata": {
    "collapsed": false
   },
   "outputs": [
    {
     "data": {
      "text/plain": [
       "SWANID                0\n",
       "AGE0                  5\n",
       "COURTES0             12\n",
       "RESPECT0             13\n",
       "POORSER0              8\n",
       "NOTSMAR0             10\n",
       "AFRAIDO0              9\n",
       "DISHONS0             10\n",
       "BETTER0               8\n",
       "INSULTE0              9\n",
       "HARASSE0              8\n",
       "IGNORED0              8\n",
       "DISC_AVGSCORE0        6\n",
       "DISC_SUMSCORE0        0\n",
       "MAINREA0           1791\n",
       "RACE_REASON0       1788\n",
       "INTDAY7             982\n",
       "AGE7                982\n",
       "COURTES7           1147\n",
       "RESPECT7           1148\n",
       "POORSER7           1151\n",
       "NOTSMAR7           1148\n",
       "AFRAIDO7           1148\n",
       "DISHONS7           1148\n",
       "BETTER7            1148\n",
       "INSULTE7           1148\n",
       "HARASSE7           1148\n",
       "IGNORED7           1147\n",
       "DISC_AVGSCORE7     1147\n",
       "DISC_SUMSCORE7     1147\n",
       "BCRACE7            2333\n",
       "BCETHN7            2338\n",
       "BCGENDR7           2337\n",
       "BCAGE7             2336\n",
       "BCINCML7           2337\n",
       "BCLANG7            2338\n",
       "BCWGHT7            2336\n",
       "BCPHAPP7           2336\n",
       "BCORIEN7           2336\n",
       "OTHEREX7           2383\n",
       "RACE_REASON7       2297\n",
       "INTDAY10           1063\n",
       "AGE10              1063\n",
       "COURTES10          1228\n",
       "RESPECT10          1229\n",
       "POORSER10          1230\n",
       "NOTSMAR10          1228\n",
       "AFRAIDO10          1229\n",
       "DISHONS10          1230\n",
       "BETTER10           1233\n",
       "INSULTE10          1228\n",
       "HARASSE10          1229\n",
       "IGNORED10          1229\n",
       "DISC_AVGSCORE10    1228\n",
       "DISC_SUMSCORE10    1228\n",
       "BCRACE10           2479\n",
       "BCETHN10           2480\n",
       "BCGENDR10          2479\n",
       "BCAGE10            2478\n",
       "BCINCML10          2481\n",
       "BCLANG10           2482\n",
       "BCWGHT10           2479\n",
       "BCPHAPP10          2482\n",
       "BCORIEN10          2481\n",
       "OTHEREX10          2540\n",
       "RACE_REASON10      2433\n",
       "P_STRESS            108\n",
       "INCOME0              90\n",
       "DEGREE               31\n",
       "PHY_ACT_COV           3\n",
       "BMI0                 42\n",
       "ETHNIC                0\n",
       "SYSBP10               9\n",
       "SYSBP20              12\n",
       "SYSBP30              20\n",
       "BP0                  11\n",
       "CHOLRES0             23\n",
       "HDLRESU0             23\n",
       "SMOKENO0           1908\n",
       "DIABETE0             54\n",
       "SYSBP0                7\n",
       "SMOKERSTAT0           0\n",
       "BPMEDSTAT0            0\n",
       "DIABSTAT0             0\n",
       "LV_AGE0              35\n",
       "SYSBP17            1245\n",
       "SYSBP27            1252\n",
       "BP17                982\n",
       "CHOLRES7           1302\n",
       "HDLRESU7           1303\n",
       "AVCIGDA7           2990\n",
       "DIABETE7            982\n",
       "SYSBP7             1245\n",
       "SMOKERSTAT7         975\n",
       "BPMEDSTAT7          975\n",
       "DIABSTAT7           975\n",
       "LV_AGE7            1374\n",
       "BV_AGE0              54\n",
       "BMI7               1248\n",
       "BV_AGE7            1261\n",
       "SYSBP110           1349\n",
       "SYSBP210           1351\n",
       "BP110              1065\n",
       "AVCIGDA10          3028\n",
       "BMI10              1355\n",
       "DIABETE10          1066\n",
       "SMOKERSTAT10       1057\n",
       "BPMEDSTAT10        1057\n",
       "DIABSTAT10         1057\n",
       "BV_AGE10           1361\n",
       "RACE                  0\n",
       "ETHNIC_CAT            0\n",
       "LV_DA_AGE0           35\n",
       "BV_DA_AGE0           54\n",
       "LV_DA_AGE7         1374\n",
       "BV_DA_AGE7         1261\n",
       "BV_DA_AGE10        1361\n",
       "LV_DV_AGE7         1389\n",
       "BV_DV_AGE8         1283\n",
       "BV_DV_AGE10        1385\n",
       "dtype: int64"
      ]
     },
     "execution_count": 68,
     "metadata": {},
     "output_type": "execute_result"
    }
   ],
   "source": [
    "data.isnull().sum()"
   ]
  },
  {
   "cell_type": "code",
   "execution_count": 69,
   "metadata": {
    "collapsed": true
   },
   "outputs": [],
   "source": [
    "# Need to figure out how to handle null values\n",
    "## data.dropna()            drops a row if any values are null\n",
    "## data.dropna(how='all')   drops a row only if all values are null\n",
    "## data.dropna(subset = ['col1', 'col2', 'col4'])       # drops a row if col 1, 2, and 4 are null"
   ]
  },
  {
   "cell_type": "markdown",
   "metadata": {},
   "source": [
    "Definitely exclude:\n",
    "\n",
    "1. records with no visit 7/10 data\n",
    "2. records with no average discrimination score\n",
    "3. records with no heart age at baseline, visit 7, and visit 10"
   ]
  },
  {
   "cell_type": "code",
   "execution_count": 70,
   "metadata": {
    "collapsed": false
   },
   "outputs": [],
   "source": [
    "# dropping records with no visit 7/10 data\n",
    "\n",
    "# data.dropna(subset = ['LV_AGE7'], inplace=True)\n",
    "# data.dropna(subset = ['BV_AGE7'], inplace = True)\n",
    "# data.dropna(subset = ['BV_AGE10'], inplace=True)"
   ]
  },
  {
   "cell_type": "code",
   "execution_count": 71,
   "metadata": {
    "collapsed": false
   },
   "outputs": [],
   "source": [
    "# dropping records with no average discrimination score\n",
    "# data.dropna(subset = ['DISC_AVGSCORE0'], inplace=True)"
   ]
  },
  {
   "cell_type": "code",
   "execution_count": 72,
   "metadata": {
    "collapsed": false
   },
   "outputs": [],
   "source": [
    "# data.dropna(subset = ['LV_AGE0'], inplace=True)\n",
    "# data.dropna(subset = ['BV_AGE0'], inplace=True)"
   ]
  },
  {
   "cell_type": "code",
   "execution_count": 73,
   "metadata": {
    "collapsed": false
   },
   "outputs": [],
   "source": [
    "# data.shape"
   ]
  },
  {
   "cell_type": "code",
   "execution_count": 74,
   "metadata": {
    "collapsed": false
   },
   "outputs": [],
   "source": [
    "# data.isnull().sum()"
   ]
  },
  {
   "cell_type": "markdown",
   "metadata": {},
   "source": [
    "# Baseline Descriptive Analysis"
   ]
  },
  {
   "cell_type": "markdown",
   "metadata": {},
   "source": [
    "###Simple Demographics###"
   ]
  },
  {
   "cell_type": "code",
   "execution_count": 75,
   "metadata": {
    "collapsed": false
   },
   "outputs": [
    {
     "data": {
      "text/plain": [
       "count    3297.000000\n",
       "mean       45.849560\n",
       "std         2.689278\n",
       "min        42.000000\n",
       "25%        44.000000\n",
       "50%        46.000000\n",
       "75%        48.000000\n",
       "max        53.000000\n",
       "Name: AGE0, dtype: float64"
      ]
     },
     "execution_count": 75,
     "metadata": {},
     "output_type": "execute_result"
    }
   ],
   "source": [
    "data.AGE0.describe()"
   ]
  },
  {
   "cell_type": "code",
   "execution_count": 76,
   "metadata": {
    "collapsed": false
   },
   "outputs": [
    {
     "data": {
      "text/plain": [
       "Hispanic      285\n",
       "Asian         531\n",
       "Black         935\n",
       "Caucasian    1551\n",
       "dtype: int64"
      ]
     },
     "execution_count": 76,
     "metadata": {},
     "output_type": "execute_result"
    }
   ],
   "source": [
    "data.RACE.value_counts(ascending=True, dropna=False)"
   ]
  },
  {
   "cell_type": "code",
   "execution_count": 77,
   "metadata": {
    "collapsed": false
   },
   "outputs": [
    {
     "data": {
      "text/plain": [
       "Hispanic     0.086311\n",
       "Asian        0.160812\n",
       "Black        0.283162\n",
       "Caucasian    0.469715\n",
       "dtype: float64"
      ]
     },
     "execution_count": 77,
     "metadata": {},
     "output_type": "execute_result"
    }
   ],
   "source": [
    "data.RACE.value_counts(ascending=True, normalize=True, dropna=False)"
   ]
  },
  {
   "cell_type": "markdown",
   "metadata": {},
   "source": [
    "###Race###"
   ]
  },
  {
   "cell_type": "markdown",
   "metadata": {},
   "source": [
    "**Race and Age at Beginning of Study**"
   ]
  },
  {
   "cell_type": "code",
   "execution_count": 78,
   "metadata": {
    "collapsed": false
   },
   "outputs": [
    {
     "data": {
      "text/plain": [
       "RACE            \n",
       "Asian      count     531.000000\n",
       "           mean       46.082863\n",
       "           std         2.626553\n",
       "           min        42.000000\n",
       "           25%        44.000000\n",
       "           50%        46.000000\n",
       "           75%        48.000000\n",
       "           max        52.000000\n",
       "Black      count     934.000000\n",
       "           mean       45.739829\n",
       "           std         2.660049\n",
       "           min        42.000000\n",
       "           25%        43.250000\n",
       "           50%        46.000000\n",
       "           75%        48.000000\n",
       "           max        53.000000\n",
       "Caucasian  count    1549.000000\n",
       "           mean       45.834732\n",
       "           std         2.706783\n",
       "           min        42.000000\n",
       "           25%        44.000000\n",
       "           50%        46.000000\n",
       "           75%        48.000000\n",
       "           max        53.000000\n",
       "Hispanic   count     283.000000\n",
       "           mean       45.855124\n",
       "           std         2.791235\n",
       "           min        42.000000\n",
       "           25%        44.000000\n",
       "           50%        46.000000\n",
       "           75%        48.000000\n",
       "           max        53.000000\n",
       "dtype: float64"
      ]
     },
     "execution_count": 78,
     "metadata": {},
     "output_type": "execute_result"
    }
   ],
   "source": [
    "data.groupby('RACE').AGE0.describe()"
   ]
  },
  {
   "cell_type": "code",
   "execution_count": 79,
   "metadata": {
    "collapsed": false
   },
   "outputs": [
    {
     "data": {
      "text/plain": [
       "<matplotlib.text.Text at 0x1ecf29b0>"
      ]
     },
     "execution_count": 79,
     "metadata": {},
     "output_type": "execute_result"
    },
    {
     "data": {
      "image/png": "[encoded data removed]",
      "text/plain": [
       "<matplotlib.figure.Figure at 0x1ed12fd0>"
      ]
     },
     "metadata": {},
     "output_type": "display_data"
    }
   ],
   "source": [
    "data.boxplot(column='AGE0', by = 'RACE')\n",
    "plt.xlabel('Race')\n",
    "plt.ylabel('Age at Baseline')"
   ]
  },
  {
   "cell_type": "markdown",
   "metadata": {},
   "source": [
    "**Race and Average Discrimination Score at Baseline**"
   ]
  },
  {
   "cell_type": "code",
   "execution_count": 80,
   "metadata": {
    "collapsed": false
   },
   "outputs": [
    {
     "data": {
      "text/plain": [
       "6"
      ]
     },
     "execution_count": 80,
     "metadata": {},
     "output_type": "execute_result"
    }
   ],
   "source": [
    "data.DISC_AVGSCORE0.isnull().sum()"
   ]
  },
  {
   "cell_type": "code",
   "execution_count": 81,
   "metadata": {
    "collapsed": false
   },
   "outputs": [
    {
     "data": {
      "text/plain": [
       "0"
      ]
     },
     "execution_count": 81,
     "metadata": {},
     "output_type": "execute_result"
    }
   ],
   "source": [
    "data.DISC_SUMSCORE0.isnull().sum()"
   ]
  },
  {
   "cell_type": "code",
   "execution_count": 82,
   "metadata": {
    "collapsed": false
   },
   "outputs": [
    {
     "data": {
      "text/plain": [
       "Black        4\n",
       "Caucasian    2\n",
       "dtype: int64"
      ]
     },
     "execution_count": 82,
     "metadata": {},
     "output_type": "execute_result"
    }
   ],
   "source": [
    "data[data.DISC_AVGSCORE0.isnull() == True].RACE.value_counts()"
   ]
  },
  {
   "cell_type": "code",
   "execution_count": 83,
   "metadata": {
    "collapsed": true
   },
   "outputs": [],
   "source": [
    "disc0_cols = ['COURTES0',  'RESPECT0',  'POORSER0',  'NOTSMAR0',  'AFRAIDO0',  'DISHONS0',  'BETTER0',  'INSULTE0',  'HARASSE0',  'IGNORED0']\n",
    "\n",
    "disc0 = data[disc0_cols]\n"
   ]
  },
  {
   "cell_type": "code",
   "execution_count": 84,
   "metadata": {
    "collapsed": false
   },
   "outputs": [
    {
     "data": {
      "text/plain": [
       "COURTES0    12\n",
       "RESPECT0    13\n",
       "POORSER0     8\n",
       "NOTSMAR0    10\n",
       "AFRAIDO0     9\n",
       "DISHONS0    10\n",
       "BETTER0      8\n",
       "INSULTE0     9\n",
       "HARASSE0     8\n",
       "IGNORED0     8\n",
       "dtype: int64"
      ]
     },
     "execution_count": 84,
     "metadata": {},
     "output_type": "execute_result"
    }
   ],
   "source": [
    "disc0.isnull().sum()"
   ]
  },
  {
   "cell_type": "markdown",
   "metadata": {},
   "source": [
    "When using the average discrimination score, there are only 6 null values. There are no null values when adding all of the scores together, but this masks the missing scores for each question (as shown above). Using average discrimination score, and dropping the 6 null values from the data set, appears to be the best course of action."
   ]
  },
  {
   "cell_type": "code",
   "execution_count": 85,
   "metadata": {
    "collapsed": false
   },
   "outputs": [
    {
     "data": {
      "text/plain": [
       "RACE            \n",
       "Asian      count     531.000000\n",
       "           mean        1.723833\n",
       "           std         0.491283\n",
       "           min         1.000000\n",
       "           25%         1.300000\n",
       "           50%         1.700000\n",
       "           75%         2.000000\n",
       "           max         4.000000\n",
       "Black      count     931.000000\n",
       "           mean        1.924749\n",
       "           std         0.533285\n",
       "           min         1.000000\n",
       "           25%         1.500000\n",
       "           50%         1.900000\n",
       "           75%         2.300000\n",
       "           max         3.900000\n",
       "Caucasian  count    1549.000000\n",
       "           mean        1.686063\n",
       "           std         0.431609\n",
       "           min         1.000000\n",
       "           25%         1.400000\n",
       "           50%         1.700000\n",
       "           75%         2.000000\n",
       "           max         3.500000\n",
       "Hispanic   count     285.000000\n",
       "           mean        1.234308\n",
       "           std         0.373566\n",
       "           min         1.000000\n",
       "           25%         1.000000\n",
       "           50%         1.000000\n",
       "           75%         1.300000\n",
       "           max         3.400000\n",
       "dtype: float64"
      ]
     },
     "execution_count": 85,
     "metadata": {},
     "output_type": "execute_result"
    }
   ],
   "source": [
    "data.groupby('RACE').DISC_AVGSCORE0.describe()"
   ]
  },
  {
   "cell_type": "code",
   "execution_count": 86,
   "metadata": {
    "collapsed": false
   },
   "outputs": [
    {
     "data": {
      "text/plain": [
       "<matplotlib.text.Text at 0x1f52e240>"
      ]
     },
     "execution_count": 86,
     "metadata": {},
     "output_type": "execute_result"
    },
    {
     "data": {
      "image/png": "[encoded data removed]",
      "text/plain": [
       "<matplotlib.figure.Figure at 0xca0d048>"
      ]
     },
     "metadata": {},
     "output_type": "display_data"
    }
   ],
   "source": [
    "data.boxplot(column='DISC_AVGSCORE0', by = 'RACE')\n",
    "plt.xlabel('Race')\n",
    "plt.ylabel('Average Discrimination Score')"
   ]
  },
  {
   "cell_type": "markdown",
   "metadata": {},
   "source": [
    "Black participants had a higher score average than all other races. Surprisingly, Hispanics have the lowest mean score."
   ]
  },
  {
   "cell_type": "code",
   "execution_count": 87,
   "metadata": {
    "collapsed": false
   },
   "outputs": [
    {
     "data": {
      "text/plain": [
       "NaN    1788\n",
       " 1     1039\n",
       " 2      475\n",
       "dtype: int64"
      ]
     },
     "execution_count": 87,
     "metadata": {},
     "output_type": "execute_result"
    }
   ],
   "source": [
    "data.RACE_REASON0.value_counts(dropna=False)"
   ]
  },
  {
   "cell_type": "code",
   "execution_count": 88,
   "metadata": {
    "collapsed": false
   },
   "outputs": [
    {
     "data": {
      "text/plain": [
       "RACE          \n",
       "Asian      NaN    302\n",
       "            1     149\n",
       "            2      80\n",
       "Black      NaN    389\n",
       "            1     223\n",
       "            2     323\n",
       "Caucasian  NaN    885\n",
       "            1     626\n",
       "            2      40\n",
       "Hispanic   NaN    212\n",
       "            1      41\n",
       "            2      32\n",
       "dtype: int64"
      ]
     },
     "execution_count": 88,
     "metadata": {},
     "output_type": "execute_result"
    }
   ],
   "source": [
    "data.groupby('RACE').RACE_REASON0.value_counts(sort=False, dropna=False)\n",
    "# 1 = race was not a significant reason for discrimination\n",
    "# 2 = race was a significant reason for discrimination"
   ]
  },
  {
   "cell_type": "markdown",
   "metadata": {},
   "source": [
    "Participants who marked experiencing one of the ten items as 3 or 4 (very often) were asked to determine the main reason for discrimination. Ethnicity, race, and language were grouped as \"racial discrimination\". On average, participants who frequently experienced discrimination (1,514 / 45.9% of original n = 3,302) cited a reason other than racial discrimination (n = 1039, 68.6%). When broken down by race, Asian, Caucasian, and Hispanic participants still cite other reasons more often than racial discrimination (65.0%, 94.0%, and 65.2% respectively) while Black participants more often cited race as the main reason for discrimination (59.2%)."
   ]
  },
  {
   "cell_type": "markdown",
   "metadata": {},
   "source": [
    "**Race and Perceived Stress**"
   ]
  },
  {
   "cell_type": "code",
   "execution_count": 89,
   "metadata": {
    "collapsed": false
   },
   "outputs": [
    {
     "data": {
      "text/plain": [
       "count    3194.000000\n",
       "mean        8.596744\n",
       "std         2.952946\n",
       "min         4.000000\n",
       "25%         6.000000\n",
       "50%         8.000000\n",
       "75%        11.000000\n",
       "max        19.000000\n",
       "Name: P_STRESS, dtype: float64"
      ]
     },
     "execution_count": 89,
     "metadata": {},
     "output_type": "execute_result"
    }
   ],
   "source": [
    "data.P_STRESS.describe()"
   ]
  },
  {
   "cell_type": "code",
   "execution_count": 90,
   "metadata": {
    "collapsed": false
   },
   "outputs": [
    {
     "data": {
      "text/plain": [
       "108"
      ]
     },
     "execution_count": 90,
     "metadata": {},
     "output_type": "execute_result"
    }
   ],
   "source": [
    "data.P_STRESS.isnull().sum()"
   ]
  },
  {
   "cell_type": "code",
   "execution_count": 91,
   "metadata": {
    "collapsed": false
   },
   "outputs": [
    {
     "data": {
      "text/plain": [
       "RACE            \n",
       "Asian      count     496.000000\n",
       "           mean        8.497984\n",
       "           std         2.587459\n",
       "           min         4.000000\n",
       "           25%         7.000000\n",
       "           50%         9.000000\n",
       "           75%        10.000000\n",
       "           max        18.000000\n",
       "Black      count     919.000000\n",
       "           mean        8.491839\n",
       "           std         3.086214\n",
       "           min         4.000000\n",
       "           25%         6.000000\n",
       "           50%         8.000000\n",
       "           75%        11.000000\n",
       "           max        19.000000\n",
       "Caucasian  count    1514.000000\n",
       "           mean        8.435271\n",
       "           std         2.900892\n",
       "           min         4.000000\n",
       "           25%         6.000000\n",
       "           50%         8.000000\n",
       "           75%        10.000000\n",
       "           max        19.000000\n",
       "Hispanic   count     265.000000\n",
       "           mean       10.067925\n",
       "           std         3.030637\n",
       "           min         4.000000\n",
       "           25%         8.000000\n",
       "           50%        11.000000\n",
       "           75%        12.000000\n",
       "           max        18.000000\n",
       "dtype: float64"
      ]
     },
     "execution_count": 91,
     "metadata": {},
     "output_type": "execute_result"
    }
   ],
   "source": [
    "data.groupby('RACE').P_STRESS.describe()"
   ]
  },
  {
   "cell_type": "code",
   "execution_count": 92,
   "metadata": {
    "collapsed": false
   },
   "outputs": [
    {
     "data": {
      "text/plain": [
       "<matplotlib.text.Text at 0x1f72c7f0>"
      ]
     },
     "execution_count": 92,
     "metadata": {},
     "output_type": "execute_result"
    },
    {
     "data": {
      "image/png": "[encoded data removed]",
      "text/plain": [
       "<matplotlib.figure.Figure at 0x1ed12d30>"
      ]
     },
     "metadata": {},
     "output_type": "display_data"
    }
   ],
   "source": [
    "data.boxplot(column='P_STRESS', by = 'RACE')\n",
    "plt.xlabel('Race')\n",
    "plt.ylabel('Perceived Stress')"
   ]
  },
  {
   "cell_type": "markdown",
   "metadata": {},
   "source": [
    "Hispanics had a significantly higher average perceived stress score than any other race. There are 108 missing perceived stress scores."
   ]
  },
  {
   "cell_type": "code",
   "execution_count": 93,
   "metadata": {
    "collapsed": false
   },
   "outputs": [],
   "source": [
    "# stats.ttest_ind(a['DISC_AVGSCORE0'], b['DISC_AVGSCORE0'])\n",
    "\n",
    "perc_stress = data[['RACE', 'P_STRESS']]\n",
    "perc_stress = perc_stress.dropna()"
   ]
  },
  {
   "cell_type": "code",
   "execution_count": 94,
   "metadata": {
    "collapsed": false
   },
   "outputs": [],
   "source": [
    "hisp = perc_stress[perc_stress.RACE == 'Hispanic']\n",
    "black = perc_stress[perc_stress.RACE == 'Black']\n",
    "white = perc_stress[perc_stress.RACE == 'Caucasian']\n",
    "asian = perc_stress[perc_stress.RACE == 'Asian']"
   ]
  },
  {
   "cell_type": "code",
   "execution_count": 95,
   "metadata": {
    "collapsed": false
   },
   "outputs": [
    {
     "data": {
      "text/plain": [
       "Ttest_indResult(statistic=8.3951801307447358, pvalue=9.3695344526769762e-17)"
      ]
     },
     "execution_count": 95,
     "metadata": {},
     "output_type": "execute_result"
    }
   ],
   "source": [
    "stats.ttest_ind(hisp['P_STRESS'], white['P_STRESS'])"
   ]
  },
  {
   "cell_type": "code",
   "execution_count": 96,
   "metadata": {
    "collapsed": false
   },
   "outputs": [
    {
     "data": {
      "text/plain": [
       "Ttest_indResult(statistic=7.3535425076152592, pvalue=3.5967561904728392e-13)"
      ]
     },
     "execution_count": 96,
     "metadata": {},
     "output_type": "execute_result"
    }
   ],
   "source": [
    "stats.ttest_ind(hisp['P_STRESS'], black['P_STRESS'])"
   ]
  },
  {
   "cell_type": "code",
   "execution_count": 97,
   "metadata": {
    "collapsed": false
   },
   "outputs": [
    {
     "data": {
      "text/plain": [
       "Ttest_indResult(statistic=7.5035358124728546, pvalue=1.7412369354315724e-13)"
      ]
     },
     "execution_count": 97,
     "metadata": {},
     "output_type": "execute_result"
    }
   ],
   "source": [
    "stats.ttest_ind(hisp['P_STRESS'], asian['P_STRESS'])"
   ]
  },
  {
   "cell_type": "markdown",
   "metadata": {},
   "source": [
    "**Race and Income**\n",
    "\n",
    "1. -8 = Do not know\n",
    "2. -7 = Refused\n",
    "3. 1 = Less than 19,999\n",
    "4. 2 = 20-49,999\n",
    "5. 3 = 50-99,999\n",
    "6. 4 = 100,000 or more"
   ]
  },
  {
   "cell_type": "code",
   "execution_count": 98,
   "metadata": {
    "collapsed": false
   },
   "outputs": [
    {
     "data": {
      "text/plain": [
       "NaN      90\n",
       "4       472\n",
       "3      1162\n",
       "2      1088\n",
       "1       490\n",
       "dtype: int64"
      ]
     },
     "execution_count": 98,
     "metadata": {},
     "output_type": "execute_result"
    }
   ],
   "source": [
    "data.INCOME0.value_counts(sort=False, dropna=False)"
   ]
  },
  {
   "cell_type": "code",
   "execution_count": 99,
   "metadata": {
    "collapsed": true
   },
   "outputs": [],
   "source": [
    "income_cols = ['RACE', 'INCOME0']\n",
    "\n",
    "income_data = data[income_cols]"
   ]
  },
  {
   "cell_type": "code",
   "execution_count": 100,
   "metadata": {
    "collapsed": false
   },
   "outputs": [
    {
     "data": {
      "text/plain": [
       "<matplotlib.text.Text at 0x1f9fb2b0>"
      ]
     },
     "execution_count": 100,
     "metadata": {},
     "output_type": "execute_result"
    },
    {
     "data": {
      "image/png": "[encoded data removed]",
      "text/plain": [
       "<matplotlib.figure.Figure at 0xc9c7a90>"
      ]
     },
     "metadata": {},
     "output_type": "display_data"
    }
   ],
   "source": [
    "data.INCOME0.value_counts(ascending=True, sort=True, dropna=False).plot(kind='bar', title='Bar Plot of Income Categories')\n",
    "plt.xlabel('Income Level')\n",
    "plt.ylabel('Count')"
   ]
  },
  {
   "cell_type": "code",
   "execution_count": 101,
   "metadata": {
    "collapsed": true
   },
   "outputs": [],
   "source": [
    "income_data = income_data.dropna()"
   ]
  },
  {
   "cell_type": "code",
   "execution_count": 102,
   "metadata": {
    "collapsed": false
   },
   "outputs": [
    {
     "data": {
      "text/plain": [
       "RACE        \n",
       "Asian      1    0.037255\n",
       "           3    0.429412\n",
       "           2    0.282353\n",
       "           4    0.250980\n",
       "Black      1    0.220982\n",
       "           3    0.303571\n",
       "           2    0.408482\n",
       "           4    0.066964\n",
       "Caucasian  2    0.317647\n",
       "           4    0.182353\n",
       "           1    0.074510\n",
       "           3    0.425490\n",
       "Hispanic   1    0.576087\n",
       "           3    0.072464\n",
       "           2    0.333333\n",
       "           4    0.018116\n",
       "dtype: float64"
      ]
     },
     "execution_count": 102,
     "metadata": {},
     "output_type": "execute_result"
    }
   ],
   "source": [
    "income_data.groupby('RACE').INCOME0.value_counts(sort=False, normalize=True)"
   ]
  },
  {
   "cell_type": "code",
   "execution_count": null,
   "metadata": {
    "collapsed": false
   },
   "outputs": [],
   "source": []
  }
 ],
 "metadata": {
  "kernelspec": {
   "display_name": "Python 2",
   "language": "python",
   "name": "python2"
  },
  "language_info": {
   "codemirror_mode": {
    "name": "ipython",
    "version": 2
   },
   "file_extension": ".py",
   "mimetype": "text/x-python",
   "name": "python",
   "nbconvert_exporter": "python",
   "pygments_lexer": "ipython2",
   "version": "2.7.10"
  }
 },
 "nbformat": 4,
 "nbformat_minor": 0
}
