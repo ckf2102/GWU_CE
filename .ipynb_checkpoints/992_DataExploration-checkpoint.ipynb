{
 "cells": [
  {
   "cell_type": "markdown",
   "metadata": {},
   "source": [
    "#Exploring the Data#\n",
    "\n",
    "All unadjusted exploratory analysis (not dropping any null values for discrimination score or vascular age)"
   ]
  },
  {
   "cell_type": "code",
   "execution_count": 63,
   "metadata": {
    "collapsed": false
   },
   "outputs": [],
   "source": [
    "import pandas as pd\n",
    "import numpy as np\n",
    "import matplotlib.pyplot as plt\n",
    "import scipy as sp\n",
    "from scipy import stats\n",
    "\n",
    "%matplotlib inline\n",
    "\n",
    "data = pd.read_csv('991_CleanedData.csv', low_memory=False)"
   ]
  },
  {
   "cell_type": "code",
   "execution_count": 64,
   "metadata": {
    "collapsed": true
   },
   "outputs": [],
   "source": [
    "data['RACE'] = data.ETHNIC.map({1:'Black', 8:'Asian', 9:'Asian', 10:'Caucasian', 13:'Hispanic'})"
   ]
  },
  {
   "cell_type": "markdown",
   "metadata": {},
   "source": [
    "##Checking the Distribution and Information for Individual Variables##\n",
    "\n",
    "Variables to explore:\n",
    "- Discrimination score\n",
    "- Race reason\n",
    "- Age\n",
    "- Perceived Stress score\n",
    "- Income\n",
    "- Degree\n",
    "- Physical Activity\n",
    "- BMI\n",
    "- Baseline lipid vascular age\n",
    "- C-reactive protein level"
   ]
  },
  {
   "cell_type": "markdown",
   "metadata": {},
   "source": [
    "###Discrimination###"
   ]
  },
  {
   "cell_type": "code",
   "execution_count": 65,
   "metadata": {
    "collapsed": false
   },
   "outputs": [
    {
     "data": {
      "text/plain": [
       "<matplotlib.text.Text at 0x25d056d8>"
      ]
     },
     "execution_count": 65,
     "metadata": {},
     "output_type": "execute_result"
    },
    {
     "data": {
      "image/png": "[encoded data removed]",
      "text/plain": [
       "<matplotlib.figure.Figure at 0x25c3eb38>"
      ]
     },
     "metadata": {},
     "output_type": "display_data"
    }
   ],
   "source": [
    "data.DISC_SCORE0.plot(kind='density', xlim=(1,4), title='Density Plot of Discrimination Scores')\n",
    "plt.xlabel('Discrimination Score')\n",
    "plt.ylabel('Density')"
   ]
  },
  {
   "cell_type": "markdown",
   "metadata": {},
   "source": [
    "Unfortunately not normally distributed."
   ]
  },
  {
   "cell_type": "code",
   "execution_count": 66,
   "metadata": {
    "collapsed": false
   },
   "outputs": [
    {
     "data": {
      "text/plain": [
       "count    3296.000000\n",
       "mean        1.720505\n",
       "std         0.501427\n",
       "min         1.000000\n",
       "25%         1.300000\n",
       "50%         1.700000\n",
       "75%         2.000000\n",
       "max         4.000000\n",
       "Name: DISC_SCORE0, dtype: float64"
      ]
     },
     "execution_count": 66,
     "metadata": {},
     "output_type": "execute_result"
    }
   ],
   "source": [
    "data.DISC_SCORE0.describe()"
   ]
  },
  {
   "cell_type": "code",
   "execution_count": 67,
   "metadata": {
    "collapsed": false
   },
   "outputs": [
    {
     "data": {
      "text/plain": [
       "HIGH    1668\n",
       "LOW     1634\n",
       "Name: DISC_CAT0, dtype: int64"
      ]
     },
     "execution_count": 67,
     "metadata": {},
     "output_type": "execute_result"
    }
   ],
   "source": [
    "data.DISC_CAT0.value_counts(dropna=False)"
   ]
  },
  {
   "cell_type": "markdown",
   "metadata": {},
   "source": [
    "A participant is said to have experienced high perceived discrimination if she answered \"Often\" or \"Sometimes\" to any of the 10 items on the discrimination scale. About half (50%) of participants noted they experienced \"High\" discrimination."
   ]
  },
  {
   "cell_type": "markdown",
   "metadata": {},
   "source": [
    "###Reason for Discrimination###"
   ]
  },
  {
   "cell_type": "markdown",
   "metadata": {},
   "source": [
    "Participants who were classified as having High perceived discrimination were asked to choose what she believed to be the main reason for this discrimination.\n",
    "\n",
    "- 1 = Race\n",
    "- 2 = Ethnicity\n",
    "- 3 = Gender\n",
    "- 4 = Age\n",
    "- 5 = Income Level\n",
    "- 6 = Language\n",
    "- 7 = Physical Appearance\n",
    "- 8 = Sexual Orientation\n",
    "- 9 = Other reason"
   ]
  },
  {
   "cell_type": "code",
   "execution_count": 68,
   "metadata": {
    "collapsed": false
   },
   "outputs": [
    {
     "data": {
      "text/plain": [
       "NaN    1791\n",
       " 1      426\n",
       " 2       49\n",
       " 3      202\n",
       " 4       77\n",
       " 5       90\n",
       " 6       61\n",
       " 7      184\n",
       " 8       24\n",
       " 9      398\n",
       "Name: MAINREA0, dtype: int64"
      ]
     },
     "execution_count": 68,
     "metadata": {},
     "output_type": "execute_result"
    }
   ],
   "source": [
    "data.MAINREA0.value_counts(sort=False, dropna=False)"
   ]
  },
  {
   "cell_type": "markdown",
   "metadata": {},
   "source": [
    "Of the 1,511 participants who recorded a reason for discrimination, 475 (31.4%) attributed their discrimination to their racial or ethnic identity (Race was the most frequent reason, followed by 'Other' and then Gender)."
   ]
  },
  {
   "cell_type": "markdown",
   "metadata": {},
   "source": [
    "###Age###"
   ]
  },
  {
   "cell_type": "code",
   "execution_count": 69,
   "metadata": {
    "collapsed": false
   },
   "outputs": [
    {
     "data": {
      "text/plain": [
       "count    3297.000000\n",
       "mean       45.849560\n",
       "std         2.689278\n",
       "min        42.000000\n",
       "25%        44.000000\n",
       "50%        46.000000\n",
       "75%        48.000000\n",
       "max        53.000000\n",
       "Name: AGE0, dtype: float64"
      ]
     },
     "execution_count": 69,
     "metadata": {},
     "output_type": "execute_result"
    }
   ],
   "source": [
    "data.AGE0.describe()"
   ]
  },
  {
   "cell_type": "code",
   "execution_count": 70,
   "metadata": {
    "collapsed": false
   },
   "outputs": [
    {
     "data": {
      "text/plain": [
       "<matplotlib.text.Text at 0x257c6b38>"
      ]
     },
     "execution_count": 70,
     "metadata": {},
     "output_type": "execute_result"
    },
    {
     "data": {
      "image/png": "[encoded data removed]",
      "text/plain": [
       "<matplotlib.figure.Figure at 0x259e2be0>"
      ]
     },
     "metadata": {},
     "output_type": "display_data"
    }
   ],
   "source": [
    "data.AGE0.plot(kind='density', xlim=(42, 53), title='Density Plot of Age')\n",
    "plt.xlabel('Age')\n",
    "plt.ylabel('Density')"
   ]
  },
  {
   "cell_type": "markdown",
   "metadata": {},
   "source": [
    "###Perceived Stress Score###\n",
    "\n",
    "Note: minimum perceived stress score is 4, maximum possible is 20."
   ]
  },
  {
   "cell_type": "code",
   "execution_count": 71,
   "metadata": {
    "collapsed": false
   },
   "outputs": [
    {
     "data": {
      "text/plain": [
       "count    3194.000000\n",
       "mean        8.596744\n",
       "std         2.952946\n",
       "min         4.000000\n",
       "25%         6.000000\n",
       "50%         8.000000\n",
       "75%        11.000000\n",
       "max        19.000000\n",
       "Name: P_STRESS, dtype: float64"
      ]
     },
     "execution_count": 71,
     "metadata": {},
     "output_type": "execute_result"
    }
   ],
   "source": [
    "data.P_STRESS.describe()"
   ]
  },
  {
   "cell_type": "code",
   "execution_count": 72,
   "metadata": {
    "collapsed": false
   },
   "outputs": [
    {
     "data": {
      "text/plain": [
       "<matplotlib.text.Text at 0x25ddb3c8>"
      ]
     },
     "execution_count": 72,
     "metadata": {},
     "output_type": "execute_result"
    },
    {
     "data": {
      "image/png": "[encoded data removed]",
      "text/plain": [
       "<matplotlib.figure.Figure at 0x259d9a20>"
      ]
     },
     "metadata": {},
     "output_type": "display_data"
    }
   ],
   "source": [
    "data.P_STRESS.plot(kind='density', xlim=(4,20), title='Density Plot of Perceived Stress Scores')\n",
    "plt.xlabel('Perceived Stress Score')\n",
    "plt.ylabel('Density')"
   ]
  },
  {
   "cell_type": "markdown",
   "metadata": {},
   "source": [
    "###Income###\n",
    "\n",
    "There are 3,212 participants with income information. The key for income scores is:\n",
    "\n",
    "- 1 = Less than 19,999\n",
    "- 2 = 20-49,999\n",
    "- 3 = 50-99,999\n",
    "- 4 = 100,000 or more"
   ]
  },
  {
   "cell_type": "code",
   "execution_count": 73,
   "metadata": {
    "collapsed": false
   },
   "outputs": [
    {
     "data": {
      "text/plain": [
       "NaN      90\n",
       " 1      490\n",
       " 2     1088\n",
       " 3     1162\n",
       " 4      472\n",
       "Name: INCOME0, dtype: int64"
      ]
     },
     "execution_count": 73,
     "metadata": {},
     "output_type": "execute_result"
    }
   ],
   "source": [
    "data.INCOME0.value_counts(sort=False, dropna=False)"
   ]
  },
  {
   "cell_type": "code",
   "execution_count": 74,
   "metadata": {
    "collapsed": false
   },
   "outputs": [
    {
     "data": {
      "text/plain": [
       "<matplotlib.text.Text at 0x25c3e470>"
      ]
     },
     "execution_count": 74,
     "metadata": {},
     "output_type": "execute_result"
    },
    {
     "data": {
      "image/png": "[encoded data removed]",
      "text/plain": [
       "<matplotlib.figure.Figure at 0x2886e7f0>"
      ]
     },
     "metadata": {},
     "output_type": "display_data"
    }
   ],
   "source": [
    "data.INCOME0.value_counts(sort=False).plot(kind='bar', title='Bar plot of Income Categories')\n",
    "plt.xlabel('Income Category')\n",
    "plt.ylabel('Count')"
   ]
  },
  {
   "cell_type": "markdown",
   "metadata": {},
   "source": [
    "###Education###\n",
    "\n",
    "Key for \"DEGREE\" is:\n",
    "\n",
    "- 1 = Less than High School\n",
    "- 2 = High School Graduate\n",
    "- 3 = Some College/Technical School\n",
    "- 4 = College Graduate\n",
    "- 5 = Post Graduate Education"
   ]
  },
  {
   "cell_type": "code",
   "execution_count": 75,
   "metadata": {
    "collapsed": false
   },
   "outputs": [
    {
     "data": {
      "text/plain": [
       "NaN      31\n",
       " 1      238\n",
       " 2      581\n",
       " 3     1051\n",
       " 4      661\n",
       " 5      740\n",
       "Name: DEGREE, dtype: int64"
      ]
     },
     "execution_count": 75,
     "metadata": {},
     "output_type": "execute_result"
    }
   ],
   "source": [
    "data.DEGREE.value_counts(sort=False, dropna=False)"
   ]
  },
  {
   "cell_type": "code",
   "execution_count": 76,
   "metadata": {
    "collapsed": false
   },
   "outputs": [
    {
     "data": {
      "text/plain": [
       "<matplotlib.text.Text at 0x2805b240>"
      ]
     },
     "execution_count": 76,
     "metadata": {},
     "output_type": "execute_result"
    },
    {
     "data": {
      "image/png": "[encoded data removed]",
      "text/plain": [
       "<matplotlib.figure.Figure at 0x2637efd0>"
      ]
     },
     "metadata": {},
     "output_type": "display_data"
    }
   ],
   "source": [
    "data.DEGREE.value_counts(sort=False).plot(kind='bar', title='Bar plot of Education Categories')\n",
    "plt.xlabel('Education Category')\n",
    "plt.ylabel('Count')"
   ]
  },
  {
   "cell_type": "markdown",
   "metadata": {},
   "source": [
    "It seems like education is skewed slightly to the right."
   ]
  },
  {
   "cell_type": "markdown",
   "metadata": {},
   "source": [
    "###Physical Activity###\n",
    "\n",
    "\"Compared to other women your age, how would you rate your physical activity?\"\n",
    "\n",
    "- 1 = Much less\n",
    "- 2 = Somewhat less\n",
    "- 3 = the same\n",
    "- 4 = somewhat more\n",
    "- 5 = much more"
   ]
  },
  {
   "cell_type": "code",
   "execution_count": 77,
   "metadata": {
    "collapsed": false
   },
   "outputs": [
    {
     "data": {
      "text/plain": [
       "NaN     135\n",
       " 1      147\n",
       " 2      494\n",
       " 3     1271\n",
       " 4      830\n",
       " 5      425\n",
       "Name: PHY_ACT, dtype: int64"
      ]
     },
     "execution_count": 77,
     "metadata": {},
     "output_type": "execute_result"
    }
   ],
   "source": [
    "data.PHY_ACT.value_counts(sort=False, dropna=False)"
   ]
  },
  {
   "cell_type": "code",
   "execution_count": 78,
   "metadata": {
    "collapsed": false
   },
   "outputs": [
    {
     "data": {
      "text/plain": [
       "<matplotlib.text.Text at 0x2807e6d8>"
      ]
     },
     "execution_count": 78,
     "metadata": {},
     "output_type": "execute_result"
    },
    {
     "data": {
      "image/png": "[encoded data removed]",
      "text/plain": [
       "<matplotlib.figure.Figure at 0x2821f6d8>"
      ]
     },
     "metadata": {},
     "output_type": "display_data"
    }
   ],
   "source": [
    "data.PHY_ACT.value_counts(sort=False).plot(kind='bar', title='Bar plot of Self-Ranked Physical Activity')\n",
    "plt.xlabel('Physical Activity Category')\n",
    "plt.ylabel('Count')"
   ]
  },
  {
   "cell_type": "markdown",
   "metadata": {},
   "source": [
    "###Body Mass Index###\n",
    "\n",
    "Measured in kg/m^2\n",
    "\n",
    "Categories for BMI follow WHO classification guidelines.\n",
    "\n",
    "- Less than 18.5: Underweight\n",
    "- Greater than 18.5, less than 25: Normal\n",
    "- Greater than 25, less than 30: Overweight\n",
    "- Greater than 30: Obese"
   ]
  },
  {
   "cell_type": "code",
   "execution_count": 79,
   "metadata": {
    "collapsed": false
   },
   "outputs": [
    {
     "data": {
      "text/plain": [
       "count    3260.000000\n",
       "mean       28.269584\n",
       "std         7.218708\n",
       "min        14.989652\n",
       "25%        22.891217\n",
       "50%        26.655319\n",
       "75%        32.138689\n",
       "max        64.838400\n",
       "Name: BMI0, dtype: float64"
      ]
     },
     "execution_count": 79,
     "metadata": {},
     "output_type": "execute_result"
    }
   ],
   "source": [
    "data.BMI0.describe()"
   ]
  },
  {
   "cell_type": "code",
   "execution_count": 80,
   "metadata": {
    "collapsed": false
   },
   "outputs": [
    {
     "data": {
      "text/plain": [
       "<matplotlib.text.Text at 0x26640048>"
      ]
     },
     "execution_count": 80,
     "metadata": {},
     "output_type": "execute_result"
    },
    {
     "data": {
      "image/png": "[encoded data removed]",
      "text/plain": [
       "<matplotlib.figure.Figure at 0x266180f0>"
      ]
     },
     "metadata": {},
     "output_type": "display_data"
    }
   ],
   "source": [
    "data.BMI0.plot(kind='density', xlim=(12,65), title='Density Plot of BMI')\n",
    "plt.xlabel('BMI')\n",
    "plt.ylabel('Density')"
   ]
  },
  {
   "cell_type": "code",
   "execution_count": 81,
   "metadata": {
    "collapsed": false
   },
   "outputs": [
    {
     "data": {
      "text/plain": [
       "NaN                  42\n",
       "0_Underweight        37\n",
       "2_Overweight        876\n",
       "1_HealthyWeight    1271\n",
       "3_Obese            1076\n",
       "Name: BMI_CAT, dtype: int64"
      ]
     },
     "execution_count": 81,
     "metadata": {},
     "output_type": "execute_result"
    }
   ],
   "source": [
    "data.BMI_CAT.value_counts(sort=False, dropna=False)"
   ]
  },
  {
   "cell_type": "code",
   "execution_count": 82,
   "metadata": {
    "collapsed": false
   },
   "outputs": [
    {
     "data": {
      "text/plain": [
       "<matplotlib.text.Text at 0x2662c128>"
      ]
     },
     "execution_count": 82,
     "metadata": {},
     "output_type": "execute_result"
    },
    {
     "data": {
      "image/png": "[encoded data removed]",
      "text/plain": [
       "<matplotlib.figure.Figure at 0x266215c0>"
      ]
     },
     "metadata": {},
     "output_type": "display_data"
    }
   ],
   "source": [
    "data.BMI_CAT.value_counts(sort=False).plot(kind='bar', title='Bar plot of BMI classifications')\n",
    "plt.xlabel('BMI Classification')\n",
    "plt.ylabel('Count')"
   ]
  },
  {
   "cell_type": "markdown",
   "metadata": {},
   "source": [
    "Not really sure why it won't sort correctly..."
   ]
  },
  {
   "cell_type": "markdown",
   "metadata": {},
   "source": [
    "###Lipid Vascular Age###"
   ]
  },
  {
   "cell_type": "code",
   "execution_count": 87,
   "metadata": {
    "collapsed": false
   },
   "outputs": [
    {
     "data": {
      "text/plain": [
       "count    3267.000000\n",
       "mean       46.026018\n",
       "std        14.874169\n",
       "min        21.000000\n",
       "25%        36.000000\n",
       "50%        43.000000\n",
       "75%        52.000000\n",
       "max       168.000000\n",
       "Name: LV_AGE0, dtype: float64"
      ]
     },
     "execution_count": 87,
     "metadata": {},
     "output_type": "execute_result"
    }
   ],
   "source": [
    "data.LV_AGE0.describe()"
   ]
  },
  {
   "cell_type": "code",
   "execution_count": 93,
   "metadata": {
    "collapsed": false
   },
   "outputs": [
    {
     "data": {
      "text/plain": [
       "<matplotlib.text.Text at 0x28cf4470>"
      ]
     },
     "execution_count": 93,
     "metadata": {},
     "output_type": "execute_result"
    },
    {
     "data": {
      "image/png": "[encoded data removed]",
      "text/plain": [
       "<matplotlib.figure.Figure at 0x25c48eb8>"
      ]
     },
     "metadata": {},
     "output_type": "display_data"
    }
   ],
   "source": [
    "data.LV_AGE0.plot(kind='density', xlim=(21,168), title='Density Plot of Lipid Vascular Ages')\n",
    "plt.xlabel('Lipid Vascular Age')\n",
    "plt.ylabel('Density')"
   ]
  },
  {
   "cell_type": "code",
   "execution_count": 97,
   "metadata": {
    "collapsed": false
   },
   "outputs": [
    {
     "data": {
      "text/plain": [
       "<matplotlib.axes._subplots.AxesSubplot at 0x292959b0>"
      ]
     },
     "execution_count": 97,
     "metadata": {},
     "output_type": "execute_result"
    },
    {
     "data": {
      "image/png": "[encoded data removed]",
      "text/plain": [
       "<matplotlib.figure.Figure at 0x294d36a0>"
      ]
     },
     "metadata": {},
     "output_type": "display_data"
    }
   ],
   "source": [
    "data.LV_AGE0.plot(kind='box')"
   ]
  },
  {
   "cell_type": "code",
   "execution_count": 89,
   "metadata": {
    "collapsed": false
   },
   "outputs": [
    {
     "data": {
      "text/plain": [
       "count    3267.000000\n",
       "mean        0.176002\n",
       "std        14.346510\n",
       "min       -22.000000\n",
       "25%        -9.000000\n",
       "50%        -3.000000\n",
       "75%         6.000000\n",
       "max       117.000000\n",
       "Name: LV_AGE_DIFF0, dtype: float64"
      ]
     },
     "execution_count": 89,
     "metadata": {},
     "output_type": "execute_result"
    }
   ],
   "source": [
    "data.LV_AGE_DIFF0.describe()"
   ]
  },
  {
   "cell_type": "markdown",
   "metadata": {},
   "source": [
    "The fact that there is a 117 year difference between vascular age and actual age for one participant is interesting/scary.\n",
    "\n",
    "For fun: that participant is 51 years old, has an average systolic blood pressure of 195, cholesterol level is 328, hdl level is 58, takes blood pressure medication, and is not a smoker."
   ]
  },
  {
   "cell_type": "code",
   "execution_count": 94,
   "metadata": {
    "collapsed": false
   },
   "outputs": [
    {
     "data": {
      "text/plain": [
       "<matplotlib.text.Text at 0x28ce3470>"
      ]
     },
     "execution_count": 94,
     "metadata": {},
     "output_type": "execute_result"
    },
    {
     "data": {
      "image/png": "[encoded data removed]",
      "text/plain": [
       "<matplotlib.figure.Figure at 0x259d9f98>"
      ]
     },
     "metadata": {},
     "output_type": "display_data"
    }
   ],
   "source": [
    "data.LV_AGE_DIFF0.plot(kind='density', xlim=(-22,117), title='Density Plot of Difference between Lipid Vascular Age and Actual Age')\n",
    "plt.xlabel('Age Difference')\n",
    "plt.ylabel('Density')"
   ]
  },
  {
   "cell_type": "code",
   "execution_count": 98,
   "metadata": {
    "collapsed": false
   },
   "outputs": [
    {
     "data": {
      "text/plain": [
       "<matplotlib.axes._subplots.AxesSubplot at 0x2968d470>"
      ]
     },
     "execution_count": 98,
     "metadata": {},
     "output_type": "execute_result"
    },
    {
     "data": {
      "image/png": "[encoded data removed]",
      "text/plain": [
       "<matplotlib.figure.Figure at 0x28cf4d68>"
      ]
     },
     "metadata": {},
     "output_type": "display_data"
    }
   ],
   "source": [
    "data.LV_AGE_DIFF0.plot(kind='box')"
   ]
  },
  {
   "cell_type": "code",
   "execution_count": 90,
   "metadata": {
    "collapsed": false
   },
   "outputs": [
    {
     "data": {
      "text/plain": [
       "count    3267.000000\n",
       "mean        0.001948\n",
       "std         0.310947\n",
       "min        -0.500000\n",
       "25%        -0.208333\n",
       "50%        -0.065217\n",
       "75%         0.119048\n",
       "max         2.347826\n",
       "Name: LV_AGE_PCT0, dtype: float64"
      ]
     },
     "execution_count": 90,
     "metadata": {},
     "output_type": "execute_result"
    }
   ],
   "source": [
    "data.LV_AGE_PCT0.describe()"
   ]
  },
  {
   "cell_type": "code",
   "execution_count": 91,
   "metadata": {
    "collapsed": true
   },
   "outputs": [],
   "source": [
    "data['LV_AGE_ABSPCT0'] = data.LV_AGE_PCT0.abs()"
   ]
  },
  {
   "cell_type": "code",
   "execution_count": 92,
   "metadata": {
    "collapsed": false
   },
   "outputs": [
    {
     "data": {
      "text/plain": [
       "count    3267.000000\n",
       "mean        0.225746\n",
       "std         0.213811\n",
       "min         0.000000\n",
       "25%         0.086957\n",
       "50%         0.186047\n",
       "75%         0.297872\n",
       "max         2.347826\n",
       "Name: LV_AGE_ABSPCT0, dtype: float64"
      ]
     },
     "execution_count": 92,
     "metadata": {},
     "output_type": "execute_result"
    }
   ],
   "source": [
    "data.LV_AGE_ABSPCT0.describe()"
   ]
  },
  {
   "cell_type": "markdown",
   "metadata": {},
   "source": [
    "##Discrimination##"
   ]
  },
  {
   "cell_type": "markdown",
   "metadata": {},
   "source": [
    "**What are the statistics for discrimination scores, and how does it compare across race, income, and perceived stress?**"
   ]
  },
  {
   "cell_type": "code",
   "execution_count": 83,
   "metadata": {
    "collapsed": false,
    "scrolled": true
   },
   "outputs": [
    {
     "data": {
      "text/plain": [
       "count    3296.000000\n",
       "mean        1.720505\n",
       "std         0.501427\n",
       "min         1.000000\n",
       "25%         1.300000\n",
       "50%         1.700000\n",
       "75%         2.000000\n",
       "max         4.000000\n",
       "Name: DISC_SCORE0, dtype: float64"
      ]
     },
     "execution_count": 83,
     "metadata": {},
     "output_type": "execute_result"
    }
   ],
   "source": [
    "data.DISC_SCORE0.describe()"
   ]
  },
  {
   "cell_type": "markdown",
   "metadata": {},
   "source": [
    "Discrimination scores are converted so that they correspond to the Likert scale: 1 = Never, 2 = Rarely, 3 = Sometimes, 4 = Often. The average discrimination score was 1.72 (between Never and Rarely) with a standard deviation of 0.50."
   ]
  },
  {
   "cell_type": "code",
   "execution_count": 84,
   "metadata": {
    "collapsed": false
   },
   "outputs": [
    {
     "data": {
      "text/plain": [
       "RACE            \n",
       "Asian      count     531.000000\n",
       "           mean        1.723833\n",
       "           std         0.491283\n",
       "           min         1.000000\n",
       "           25%         1.300000\n",
       "           50%         1.700000\n",
       "           75%         2.000000\n",
       "           max         4.000000\n",
       "Black      count     931.000000\n",
       "           mean        1.924749\n",
       "           std         0.533285\n",
       "           min         1.000000\n",
       "           25%         1.500000\n",
       "           50%         1.900000\n",
       "           75%         2.300000\n",
       "           max         3.900000\n",
       "Caucasian  count    1549.000000\n",
       "           mean        1.686063\n",
       "           std         0.431609\n",
       "           min         1.000000\n",
       "           25%         1.400000\n",
       "           50%         1.700000\n",
       "           75%         2.000000\n",
       "           max         3.500000\n",
       "Hispanic   count     285.000000\n",
       "           mean        1.234308\n",
       "           std         0.373566\n",
       "           min         1.000000\n",
       "           25%         1.000000\n",
       "           50%         1.000000\n",
       "           75%         1.300000\n",
       "           max         3.400000\n",
       "dtype: float64"
      ]
     },
     "execution_count": 84,
     "metadata": {},
     "output_type": "execute_result"
    }
   ],
   "source": [
    "data.groupby('RACE').DISC_SCORE0.describe()"
   ]
  },
  {
   "cell_type": "markdown",
   "metadata": {},
   "source": [
    "Across race, black participants had the highest average discrimination score (mean = 1.92, std = 0.53) followed by Asians (mean = 1.72, std = 0.49), Caucasisns (mean = 1.69, std = 0.43) and finally Hispanics (mean = 1.23, std = 0.37). It is a little surprising that Hispanics have the lowest perceived discrimination score. The ranges are also depicted in the boxplot below."
   ]
  },
  {
   "cell_type": "code",
   "execution_count": 85,
   "metadata": {
    "collapsed": false,
    "scrolled": false
   },
   "outputs": [
    {
     "data": {
      "text/plain": [
       "<matplotlib.text.Text at 0x2821f198>"
      ]
     },
     "execution_count": 85,
     "metadata": {},
     "output_type": "execute_result"
    },
    {
     "data": {
      "image/png": "[encoded data removed]",
      "text/plain": [
       "<matplotlib.figure.Figure at 0x28772860>"
      ]
     },
     "metadata": {},
     "output_type": "display_data"
    }
   ],
   "source": [
    "data.boxplot(column=\"DISC_SCORE0\", by = \"RACE\")\n",
    "plt.xlabel('Race')\n",
    "plt.ylabel('Average Discrimination Score')"
   ]
  },
  {
   "cell_type": "markdown",
   "metadata": {},
   "source": [
    "**What are the statistics for discrimination scores, and how does it compare across income, and perceived stress?**"
   ]
  }
 ],
 "metadata": {
  "kernelspec": {
   "display_name": "Python 2",
   "language": "python",
   "name": "python2"
  },
  "language_info": {
   "codemirror_mode": {
    "name": "ipython",
    "version": 2
   },
   "file_extension": ".py",
   "mimetype": "text/x-python",
   "name": "python",
   "nbconvert_exporter": "python",
   "pygments_lexer": "ipython2",
   "version": "2.7.10"
  }
 },
 "nbformat": 4,
 "nbformat_minor": 0
}
