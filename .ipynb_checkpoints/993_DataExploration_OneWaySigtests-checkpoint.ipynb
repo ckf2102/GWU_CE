{
 "cells": [
  {
   "cell_type": "code",
   "execution_count": 6,
   "metadata": {
    "collapsed": false
   },
   "outputs": [],
   "source": [
    "import pandas as pd\n",
    "import numpy as np\n",
    "import matplotlib.pyplot as plt\n",
    "import scipy as sp\n",
    "from scipy import stats\n",
    "import scipy.stats.mstats as mst\n",
    "import statsmodels.formula.api as smf\n",
    "\n",
    "%matplotlib inline\n",
    "\n",
    "data = pd.read_csv('991_CleanedData.csv', low_memory=False)"
   ]
  },
  {
   "cell_type": "code",
   "execution_count": 7,
   "metadata": {
    "collapsed": true
   },
   "outputs": [],
   "source": [
    "black = data[data.RACE == 'Black']\n",
    "asian = data[data.RACE == 'Asian']\n",
    "white = data[data.RACE == 'Caucasian']\n",
    "hispanic = data[data.RACE == 'Hispanic']"
   ]
  },
  {
   "cell_type": "markdown",
   "metadata": {},
   "source": [
    "#Significance across Racial Categories#"
   ]
  },
  {
   "cell_type": "code",
   "execution_count": 8,
   "metadata": {
    "collapsed": true
   },
   "outputs": [],
   "source": [
    "black = data[data.RACE == 'Black']\n",
    "asian = data[data.RACE == 'Asian']\n",
    "white = data[data.RACE == 'Caucasian']\n",
    "hispanic = data[data.RACE == 'Hispanic']"
   ]
  },
  {
   "cell_type": "markdown",
   "metadata": {},
   "source": [
    "Testing for significance across racial categories (nominal variable) vs:\n",
    "- Age (continuous)\n",
    "- BMI (continuous)\n",
    "- Discrimination score (continuous)\n",
    "- Discrimination category (nominal)\n",
    "- History of CVD (nominal)\n",
    "- Education (greater than HS) (nominal)\n",
    "- Income (greater than 50K) (nominal)\n",
    "- CRP level (continuous)\n",
    "- Perceived stress (continuous)"
   ]
  },
  {
   "cell_type": "markdown",
   "metadata": {},
   "source": [
    "##ANOVA (normal) or Kruskal-Wallis (non-parametric) tests for continuous variables##\n",
    "- Age\n",
    "- BMI\n",
    "- Discrimination score\n",
    "- CRP\n",
    "- Perceived stress"
   ]
  },
  {
   "cell_type": "code",
   "execution_count": 9,
   "metadata": {
    "collapsed": false,
    "scrolled": true
   },
   "outputs": [
    {
     "data": {
      "text/plain": [
       "[['AGE0', 1.8526219697166522, 0.13544527182025834],\n",
       " ['BMI0', 192.22532048436685, 8.9365946153013265e-115],\n",
       " ['DISC_SCORE0', 162.8801318715054, 2.2467131959013777e-98],\n",
       " ['CRPRESU0', 63.015209803718591, 1.3379718131206926e-39],\n",
       " ['P_STRESS', 23.567572160040672, 4.359403329133781e-15]]"
      ]
     },
     "execution_count": 9,
     "metadata": {},
     "output_type": "execute_result"
    }
   ],
   "source": [
    "cont_list = ['AGE0', 'BMI0', 'DISC_SCORE0', 'CRPRESU0', 'P_STRESS']\n",
    "\n",
    "results_anova = []\n",
    "\n",
    "for x in cont_list:\n",
    "    f_val, p_val = stats.f_oneway(black[x], asian[x], white[x], hispanic[x])\n",
    "    results_anova.append([x, f_val, p_val])\n",
    "\n",
    "results_anova"
   ]
  },
  {
   "cell_type": "code",
   "execution_count": 10,
   "metadata": {
    "collapsed": false,
    "scrolled": true
   },
   "outputs": [
    {
     "data": {
      "text/plain": [
       "[['AGE0', 6.7611957141592844, 0.079911599310126355],\n",
       " ['BMI0', 614.63690588520717, 6.7646596232844907e-133],\n",
       " ['DISC_SCORE0', 439.11841853626896, 7.42785659032371e-95],\n",
       " ['CRPRESU0', 420.30343362258805, 8.8515674322415942e-91],\n",
       " ['P_STRESS', 73.909502800655403, 6.2059284032738504e-16]]"
      ]
     },
     "execution_count": 10,
     "metadata": {},
     "output_type": "execute_result"
    }
   ],
   "source": [
    "results_kw = []\n",
    "\n",
    "for x in cont_list:\n",
    "    h_val, p_val = mst.kruskalwallis(black[x], asian[x], white[x], hispanic[x])\n",
    "    results_kw.append([x, h_val, p_val])\n",
    "\n",
    "results_kw"
   ]
  },
  {
   "cell_type": "markdown",
   "metadata": {},
   "source": [
    "##Chi-Squared test for Categorical Data##\n",
    "\n",
    "- Discrimination category (high v low)\n",
    "- Income (% of participants that are above 50K, values = 3 and 4\n",
    "- Education (% of participants that are greater than high school graduate, values = 3, 4, and 5\n",
    "- History of CVD"
   ]
  },
  {
   "cell_type": "markdown",
   "metadata": {},
   "source": [
    "*Discrimination Category*"
   ]
  },
  {
   "cell_type": "code",
   "execution_count": 11,
   "metadata": {
    "collapsed": false
   },
   "outputs": [
    {
     "data": {
      "text/plain": [
       "RACE       DISC_CAT0\n",
       "Asian      LOW          278\n",
       "           HIGH         251\n",
       "Black      HIGH         601\n",
       "           LOW          321\n",
       "Caucasian  LOW          811\n",
       "           HIGH         718\n",
       "Hispanic   LOW          206\n",
       "           HIGH          76\n",
       "dtype: int64"
      ]
     },
     "execution_count": 11,
     "metadata": {},
     "output_type": "execute_result"
    }
   ],
   "source": [
    "data.groupby('RACE').DISC_CAT0.value_counts()"
   ]
  },
  {
   "cell_type": "code",
   "execution_count": 12,
   "metadata": {
    "collapsed": false
   },
   "outputs": [
    {
     "name": "stdout",
     "output_type": "stream",
     "text": [
      "151.733255584 1.11392792181e-32\n"
     ]
    }
   ],
   "source": [
    "# order is asian, black, caucasian, hispanic!! [high, low]\n",
    "\n",
    "chi_array = np.array([[251, 278], [601, 321], [718, 811], [76, 206]])\n",
    "chi2, p, dof, expected = stats.chi2_contingency(chi_array)\n",
    "print chi2, p"
   ]
  },
  {
   "cell_type": "markdown",
   "metadata": {},
   "source": [
    "*Income*"
   ]
  },
  {
   "cell_type": "code",
   "execution_count": 13,
   "metadata": {
    "collapsed": false
   },
   "outputs": [
    {
     "name": "stderr",
     "output_type": "stream",
     "text": [
      "c:\\Users\\Corinne\\Anaconda\\lib\\site-packages\\IPython\\kernel\\__main__.py:2: SettingWithCopyWarning: \n",
      "A value is trying to be set on a copy of a slice from a DataFrame.\n",
      "Try using .loc[row_indexer,col_indexer] = value instead\n",
      "\n",
      "See the caveats in the documentation: http://pandas.pydata.org/pandas-docs/stable/indexing.html#indexing-view-versus-copy\n",
      "  from IPython.kernel.zmq import kernelapp as app\n"
     ]
    }
   ],
   "source": [
    "income_data = data[['RACE', 'INCOME0']]\n",
    "income_data['NEWINCOME'] = np.where(income_data['INCOME0'] < 3, 0, 1)"
   ]
  },
  {
   "cell_type": "code",
   "execution_count": 14,
   "metadata": {
    "collapsed": false
   },
   "outputs": [
    {
     "data": {
      "text/html": [
       "<div>\n",
       "<table border=\"1\" class=\"dataframe\">\n",
       "  <thead>\n",
       "    <tr style=\"text-align: right;\">\n",
       "      <th></th>\n",
       "      <th></th>\n",
       "      <th>INCOME0</th>\n",
       "    </tr>\n",
       "    <tr>\n",
       "      <th>RACE</th>\n",
       "      <th>NEWINCOME</th>\n",
       "      <th></th>\n",
       "    </tr>\n",
       "  </thead>\n",
       "  <tbody>\n",
       "    <tr>\n",
       "      <th rowspan=\"2\" valign=\"top\">Asian</th>\n",
       "      <th>0</th>\n",
       "      <td>163</td>\n",
       "    </tr>\n",
       "    <tr>\n",
       "      <th>1</th>\n",
       "      <td>366</td>\n",
       "    </tr>\n",
       "    <tr>\n",
       "      <th rowspan=\"2\" valign=\"top\">Black</th>\n",
       "      <th>0</th>\n",
       "      <td>554</td>\n",
       "    </tr>\n",
       "    <tr>\n",
       "      <th>1</th>\n",
       "      <td>368</td>\n",
       "    </tr>\n",
       "    <tr>\n",
       "      <th rowspan=\"2\" valign=\"top\">Caucasian</th>\n",
       "      <th>0</th>\n",
       "      <td>595</td>\n",
       "    </tr>\n",
       "    <tr>\n",
       "      <th>1</th>\n",
       "      <td>934</td>\n",
       "    </tr>\n",
       "    <tr>\n",
       "      <th rowspan=\"2\" valign=\"top\">Hispanic</th>\n",
       "      <th>0</th>\n",
       "      <td>248</td>\n",
       "    </tr>\n",
       "    <tr>\n",
       "      <th>1</th>\n",
       "      <td>34</td>\n",
       "    </tr>\n",
       "  </tbody>\n",
       "</table>\n",
       "</div>"
      ],
      "text/plain": [
       "                     INCOME0\n",
       "RACE      NEWINCOME         \n",
       "Asian     0              163\n",
       "          1              366\n",
       "Black     0              554\n",
       "          1              368\n",
       "Caucasian 0              595\n",
       "          1              934\n",
       "Hispanic  0              248\n",
       "          1               34"
      ]
     },
     "execution_count": 14,
     "metadata": {},
     "output_type": "execute_result"
    }
   ],
   "source": [
    "income_pivot = pd.pivot_table(income_data, index=['RACE', 'NEWINCOME'], values=['INCOME0'], aggfunc=len)\n",
    "\n",
    "income_pivot"
   ]
  },
  {
   "cell_type": "code",
   "execution_count": 15,
   "metadata": {
    "collapsed": false
   },
   "outputs": [
    {
     "name": "stdout",
     "output_type": "stream",
     "text": [
      "347.457587839 5.2988177676e-75\n"
     ]
    }
   ],
   "source": [
    "# order is asian, black, caucasian, hispanic!! [0, 1]\n",
    "\n",
    "chi_array = np.array([[163, 366], [554, 368], [595, 934], [248, 34]])\n",
    "chi2, p, dof, expected = stats.chi2_contingency(chi_array)\n",
    "print chi2, p"
   ]
  },
  {
   "cell_type": "markdown",
   "metadata": {},
   "source": [
    "*Education*"
   ]
  },
  {
   "cell_type": "code",
   "execution_count": 37,
   "metadata": {
    "collapsed": false
   },
   "outputs": [
    {
     "name": "stderr",
     "output_type": "stream",
     "text": [
      "c:\\Users\\Corinne\\Anaconda\\lib\\site-packages\\IPython\\kernel\\__main__.py:2: SettingWithCopyWarning: \n",
      "A value is trying to be set on a copy of a slice from a DataFrame.\n",
      "Try using .loc[row_indexer,col_indexer] = value instead\n",
      "\n",
      "See the caveats in the documentation: http://pandas.pydata.org/pandas-docs/stable/indexing.html#indexing-view-versus-copy\n",
      "  from IPython.kernel.zmq import kernelapp as app\n"
     ]
    }
   ],
   "source": [
    "edu_data = data[['RACE', 'DEGREE']]\n",
    "edu_data['NEWEDU'] = np.where(edu_data['DEGREE'] < 3, 0, 1)"
   ]
  },
  {
   "cell_type": "code",
   "execution_count": 35,
   "metadata": {
    "collapsed": false
   },
   "outputs": [
    {
     "data": {
      "text/html": [
       "<div>\n",
       "<table border=\"1\" class=\"dataframe\">\n",
       "  <thead>\n",
       "    <tr style=\"text-align: right;\">\n",
       "      <th></th>\n",
       "      <th></th>\n",
       "      <th>DEGREE</th>\n",
       "    </tr>\n",
       "    <tr>\n",
       "      <th>RACE</th>\n",
       "      <th>NEWEDU</th>\n",
       "      <th></th>\n",
       "    </tr>\n",
       "  </thead>\n",
       "  <tbody>\n",
       "    <tr>\n",
       "      <th rowspan=\"2\" valign=\"top\">Asian</th>\n",
       "      <th>0</th>\n",
       "      <td>122</td>\n",
       "    </tr>\n",
       "    <tr>\n",
       "      <th>1</th>\n",
       "      <td>407</td>\n",
       "    </tr>\n",
       "    <tr>\n",
       "      <th rowspan=\"2\" valign=\"top\">Black</th>\n",
       "      <th>0</th>\n",
       "      <td>244</td>\n",
       "    </tr>\n",
       "    <tr>\n",
       "      <th>1</th>\n",
       "      <td>678</td>\n",
       "    </tr>\n",
       "    <tr>\n",
       "      <th rowspan=\"2\" valign=\"top\">Caucasian</th>\n",
       "      <th>0</th>\n",
       "      <td>246</td>\n",
       "    </tr>\n",
       "    <tr>\n",
       "      <th>1</th>\n",
       "      <td>1283</td>\n",
       "    </tr>\n",
       "    <tr>\n",
       "      <th rowspan=\"2\" valign=\"top\">Hispanic</th>\n",
       "      <th>0</th>\n",
       "      <td>195</td>\n",
       "    </tr>\n",
       "    <tr>\n",
       "      <th>1</th>\n",
       "      <td>87</td>\n",
       "    </tr>\n",
       "  </tbody>\n",
       "</table>\n",
       "</div>"
      ],
      "text/plain": [
       "                  DEGREE\n",
       "RACE      NEWEDU        \n",
       "Asian     0          122\n",
       "          1          407\n",
       "Black     0          244\n",
       "          1          678\n",
       "Caucasian 0          246\n",
       "          1         1283\n",
       "Hispanic  0          195\n",
       "          1           87"
      ]
     },
     "execution_count": 35,
     "metadata": {},
     "output_type": "execute_result"
    }
   ],
   "source": [
    "edu_pivot = pd.pivot_table(edu_data, index=['RACE', 'NEWEDU'], values=['DEGREE'], aggfunc=len)\n",
    "\n",
    "edu_pivot\n"
   ]
  },
  {
   "cell_type": "code",
   "execution_count": 38,
   "metadata": {
    "collapsed": false
   },
   "outputs": [],
   "source": [
    "test = pd.pivot_table(edu_data, values='DEGREE', index='RACE', columns='NEWEDU', aggfunc=len)"
   ]
  },
  {
   "cell_type": "code",
   "execution_count": 41,
   "metadata": {
    "collapsed": false
   },
   "outputs": [
    {
     "name": "stdout",
     "output_type": "stream",
     "text": [
      "362.429460227 3.03520372358e-78\n"
     ]
    }
   ],
   "source": [
    "chi_array = np.array(test)\n",
    "chi2, p, dof, expected = stats.chi2_contingency(chi_array)\n",
    "print chi2, p"
   ]
  },
  {
   "cell_type": "code",
   "execution_count": 18,
   "metadata": {
    "collapsed": false
   },
   "outputs": [
    {
     "name": "stdout",
     "output_type": "stream",
     "text": [
      "362.429460227 3.03520372358e-78\n"
     ]
    }
   ],
   "source": [
    "# order is asian, black, caucasian, hispanic!! [0, 1]\n",
    "\n",
    "chi_array = np.array([[122, 407], [244, 678], [246, 1283], [195, 87]])\n",
    "chi2, p, dof, expected = stats.chi2_contingency(chi_array)\n",
    "print chi2, p"
   ]
  },
  {
   "cell_type": "markdown",
   "metadata": {},
   "source": [
    "*History of CVD*"
   ]
  },
  {
   "cell_type": "code",
   "execution_count": 19,
   "metadata": {
    "collapsed": false
   },
   "outputs": [
    {
     "data": {
      "text/plain": [
       "RACE       CVD\n",
       "Asian      0       525\n",
       "           1         4\n",
       "Black      0       876\n",
       "           1        46\n",
       "Caucasian  0      1503\n",
       "           1        26\n",
       "Hispanic   0       267\n",
       "           1        15\n",
       "dtype: int64"
      ]
     },
     "execution_count": 19,
     "metadata": {},
     "output_type": "execute_result"
    }
   ],
   "source": [
    "data.groupby('RACE').CVD.value_counts()"
   ]
  },
  {
   "cell_type": "code",
   "execution_count": 20,
   "metadata": {
    "collapsed": false
   },
   "outputs": [
    {
     "name": "stdout",
     "output_type": "stream",
     "text": [
      "37.8565099542 3.03125392627e-08\n"
     ]
    }
   ],
   "source": [
    "# order is asian, black, caucasian, hispanic!! [0, 1]\n",
    "\n",
    "chi_array = np.array([[525, 4], [876, 46], [1503, 26], [267, 15]])\n",
    "chi2, p, dof, expected = stats.chi2_contingency(chi_array)\n",
    "print chi2, p"
   ]
  },
  {
   "cell_type": "markdown",
   "metadata": {},
   "source": [
    "#Signficance between High/Low Discrimination Classification#"
   ]
  },
  {
   "cell_type": "code",
   "execution_count": 22,
   "metadata": {
    "collapsed": true
   },
   "outputs": [],
   "source": [
    "high = data[data.DISC_CAT0 == 'HIGH']\n",
    "low = data[data.DISC_CAT0 == 'LOW']"
   ]
  },
  {
   "cell_type": "markdown",
   "metadata": {},
   "source": [
    "Testing for significance between High and Low Discrimination classification (nominal variable) vs:\n",
    "- Age (continuous)\n",
    "- BMI (continuous)\n",
    "- History of CVD (nominal)\n",
    "- Education (greater than HS) (nominal)\n",
    "- Income (greater than 50K) (nominal)\n",
    "- CRP level (continuous)\n",
    "- Perceived stress (continuous)"
   ]
  },
  {
   "cell_type": "markdown",
   "metadata": {},
   "source": [
    "##ANOVA (normal) or Kruskal-Wallis (non-parametric) tests for continuous variables:##\n",
    "\n",
    "- Age\n",
    "- BMI\n",
    "- CRP\n",
    "- Perceived Stress"
   ]
  },
  {
   "cell_type": "code",
   "execution_count": 26,
   "metadata": {
    "collapsed": false,
    "scrolled": true
   },
   "outputs": [
    {
     "data": {
      "text/plain": [
       "[['AGE0', 13.922986199645944, 0.0001937023530168299],\n",
       " ['BMI0', 71.041983699927641, 5.1765059445336388e-17],\n",
       " ['CRPRESU0', 13.88434075475412, 0.00019770891514352256],\n",
       " ['P_STRESS', 98.233631453013984, 7.7951120372558098e-23]]"
      ]
     },
     "execution_count": 26,
     "metadata": {},
     "output_type": "execute_result"
    }
   ],
   "source": [
    "cont_list = ['AGE0', 'BMI0', 'CRPRESU0', 'P_STRESS']\n",
    "\n",
    "results_anova = []\n",
    "\n",
    "for x in cont_list:\n",
    "    f_val, p_val = stats.f_oneway(high[x], low[x])\n",
    "    results_anova.append([x, f_val, p_val])\n",
    "\n",
    "results_anova"
   ]
  }
 ],
 "metadata": {
  "kernelspec": {
   "display_name": "Python 2",
   "language": "python",
   "name": "python2"
  },
  "language_info": {
   "codemirror_mode": {
    "name": "ipython",
    "version": 2
   },
   "file_extension": ".py",
   "mimetype": "text/x-python",
   "name": "python",
   "nbconvert_exporter": "python",
   "pygments_lexer": "ipython2",
   "version": "2.7.10"
  }
 },
 "nbformat": 4,
 "nbformat_minor": 0
}
