{
 "cells": [
  {
   "cell_type": "code",
   "execution_count": 31,
   "metadata": {
    "collapsed": false
   },
   "outputs": [],
   "source": [
    "import pandas as pd\n",
    "import numpy as np\n",
    "import matplotlib.pyplot as plt\n",
    "import scipy as sp\n",
    "from scipy import stats\n",
    "import scipy.stats.mstats as mst\n",
    "import statsmodels.formula.api as smf\n",
    "\n",
    "%matplotlib inline\n",
    "\n",
    "data = pd.read_csv('991_CleanedData.csv', low_memory=False)"
   ]
  },
  {
   "cell_type": "code",
   "execution_count": 22,
   "metadata": {
    "collapsed": true
   },
   "outputs": [],
   "source": [
    "black = data[data.RACE == 'Black']\n",
    "asian = data[data.RACE == 'Asian']\n",
    "white = data[data.RACE == 'Caucasian']\n",
    "hispanic = data[data.RACE == 'Hispanic']"
   ]
  },
  {
   "cell_type": "code",
   "execution_count": 11,
   "metadata": {
    "collapsed": false
   },
   "outputs": [],
   "source": [
    "f_val, p_val = stats.f_oneway(black.DISC_SCORE0, asian.DISC_SCORE0, white.DISC_SCORE0, hispanic.DISC_SCORE0)"
   ]
  },
  {
   "cell_type": "code",
   "execution_count": 12,
   "metadata": {
    "collapsed": false
   },
   "outputs": [
    {
     "name": "stdout",
     "output_type": "stream",
     "text": [
      "2.08629804762e-99\n"
     ]
    }
   ],
   "source": [
    "print p_val"
   ]
  },
  {
   "cell_type": "code",
   "execution_count": 15,
   "metadata": {
    "collapsed": false
   },
   "outputs": [
    {
     "data": {
      "text/plain": [
       "4"
      ]
     },
     "execution_count": 15,
     "metadata": {},
     "output_type": "execute_result"
    }
   ],
   "source": [
    "disc_data.AGE0.isnull().sum()"
   ]
  },
  {
   "cell_type": "code",
   "execution_count": 16,
   "metadata": {
    "collapsed": true
   },
   "outputs": [],
   "source": [
    "age_data = disc_data[pd.notnull(disc_data['AGE0'])]"
   ]
  },
  {
   "cell_type": "code",
   "execution_count": 17,
   "metadata": {
    "collapsed": false
   },
   "outputs": [
    {
     "data": {
      "text/plain": [
       "(3292, 860)"
      ]
     },
     "execution_count": 17,
     "metadata": {},
     "output_type": "execute_result"
    }
   ],
   "source": [
    "age_data.shape"
   ]
  },
  {
   "cell_type": "code",
   "execution_count": 19,
   "metadata": {
    "collapsed": false
   },
   "outputs": [
    {
     "data": {
      "text/plain": [
       "RACE            \n",
       "Asian      count     527.000000\n",
       "           mean       23.090833\n",
       "           std         3.836002\n",
       "           min        16.501198\n",
       "           25%        20.515547\n",
       "           50%        22.236840\n",
       "           75%        24.686986\n",
       "           max        44.563200\n",
       "Black      count     909.000000\n",
       "           mean       31.706355\n",
       "           std         7.737673\n",
       "           min        15.445714\n",
       "           25%        26.105436\n",
       "           50%        30.234375\n",
       "           75%        36.265705\n",
       "           max        64.838400\n",
       "Caucasian  count    1532.000000\n",
       "           mean       27.774711\n",
       "           std         6.822342\n",
       "           min        14.989652\n",
       "           25%        22.868154\n",
       "           50%        26.050400\n",
       "           75%        31.294693\n",
       "           max        59.127300\n",
       "Hispanic   count     282.000000\n",
       "           mean       29.440897\n",
       "           std         5.913857\n",
       "           min        17.578125\n",
       "           25%        25.565714\n",
       "           50%        28.346704\n",
       "           75%        32.211276\n",
       "           max        56.316900\n",
       "dtype: float64"
      ]
     },
     "execution_count": 19,
     "metadata": {},
     "output_type": "execute_result"
    }
   ],
   "source": [
    "age_data.groupby('RACE').BMI0.describe()"
   ]
  },
  {
   "cell_type": "markdown",
   "metadata": {},
   "source": [
    "#Significance across Racial Categories#"
   ]
  },
  {
   "cell_type": "code",
   "execution_count": 24,
   "metadata": {
    "collapsed": true
   },
   "outputs": [],
   "source": [
    "black = data[data.RACE == 'Black']\n",
    "asian = data[data.RACE == 'Asian']\n",
    "white = data[data.RACE == 'Caucasian']\n",
    "hispanic = data[data.RACE == 'Hispanic']"
   ]
  },
  {
   "cell_type": "markdown",
   "metadata": {},
   "source": [
    "Testing for significance across racial categories (nominal variable) vs:\n",
    "- Age (continuous)\n",
    "- BMI (continuous)\n",
    "- Discrimination score (continuous)\n",
    "- Discrimination category (nominal)\n",
    "- History of CVD (nominal)\n",
    "- Education (greater than HS) (nominal)\n",
    "- Income (greater than 50K) (nominal)\n",
    "- CRP level (continuous)\n",
    "- Perceived stress (continuous)"
   ]
  },
  {
   "cell_type": "markdown",
   "metadata": {},
   "source": [
    "**ANOVA (normal) or Kruskal-Wallis (non-parametric) tests for continuous variables:**\n",
    "- Age\n",
    "- BMI\n",
    "- Discrimination score\n",
    "- CRP\n",
    "- Perceived stress"
   ]
  },
  {
   "cell_type": "code",
   "execution_count": 66,
   "metadata": {
    "collapsed": false,
    "scrolled": true
   },
   "outputs": [
    {
     "data": {
      "text/plain": [
       "[['AGE0', 1.8526219697166522, 0.13544527182025834],\n",
       " ['BMI0', 192.22532048436685, 8.9365946153013265e-115],\n",
       " ['DISC_SCORE0', 162.8801318715054, 2.2467131959013777e-98],\n",
       " ['CRPRESU0', 63.015209803718591, 1.3379718131206926e-39],\n",
       " ['P_STRESS', 23.567572160040672, 4.359403329133781e-15]]"
      ]
     },
     "execution_count": 66,
     "metadata": {},
     "output_type": "execute_result"
    }
   ],
   "source": [
    "cont_list = ['AGE0', 'BMI0', 'DISC_SCORE0', 'CRPRESU0', 'P_STRESS']\n",
    "\n",
    "results_anova = []\n",
    "\n",
    "for x in cont_list:\n",
    "    f_val, p_val = stats.f_oneway(black[x], asian[x], white[x], hispanic[x])\n",
    "    results_anova.append([x, f_val, p_val])\n",
    "\n",
    "results_anova"
   ]
  },
  {
   "cell_type": "code",
   "execution_count": 67,
   "metadata": {
    "collapsed": false,
    "scrolled": true
   },
   "outputs": [
    {
     "data": {
      "text/plain": [
       "[['AGE0', 6.7611957141592844, 0.079911599310126355],\n",
       " ['BMI0', 614.63690588520717, 6.7646596232844907e-133],\n",
       " ['DISC_SCORE0', 439.11841853626896, 7.42785659032371e-95],\n",
       " ['CRPRESU0', 420.30343362258805, 8.8515674322415942e-91],\n",
       " ['P_STRESS', 73.909502800655403, 6.2059284032738504e-16]]"
      ]
     },
     "execution_count": 67,
     "metadata": {},
     "output_type": "execute_result"
    }
   ],
   "source": [
    "results_kw = []\n",
    "\n",
    "for x in cont_list:\n",
    "    h_val, p_val = mst.kruskalwallis(black[x], asian[x], white[x], hispanic[x])\n",
    "    results_kw.append([x, h_val, p_val])\n",
    "\n",
    "results_kw"
   ]
  },
  {
   "cell_type": "markdown",
   "metadata": {},
   "source": [
    "**Chi-Squared test for Categorical Data**\n",
    "\n",
    "- Discrimination category (high v low)\n",
    "- Income (% of participants that are above 50K, values = 3 and 4\n",
    "- Education (% of participants that are greater than high school graduate, values = 3, 4, and 5\n",
    "- History of CVD"
   ]
  },
  {
   "cell_type": "markdown",
   "metadata": {},
   "source": [
    "*Discrimination Category*"
   ]
  },
  {
   "cell_type": "code",
   "execution_count": 34,
   "metadata": {
    "collapsed": false
   },
   "outputs": [
    {
     "data": {
      "text/plain": [
       "RACE       DISC_CAT0\n",
       "Asian      LOW          278\n",
       "           HIGH         251\n",
       "Black      HIGH         601\n",
       "           LOW          321\n",
       "Caucasian  LOW          811\n",
       "           HIGH         718\n",
       "Hispanic   LOW          206\n",
       "           HIGH          76\n",
       "dtype: int64"
      ]
     },
     "execution_count": 34,
     "metadata": {},
     "output_type": "execute_result"
    }
   ],
   "source": [
    "data.groupby('RACE').DISC_CAT0.value_counts()"
   ]
  },
  {
   "cell_type": "code",
   "execution_count": 37,
   "metadata": {
    "collapsed": false
   },
   "outputs": [
    {
     "name": "stdout",
     "output_type": "stream",
     "text": [
      "151.733255584 1.11392792181e-32\n"
     ]
    }
   ],
   "source": [
    "# order is asian, black, caucasian, hispanic!! [high, low]\n",
    "\n",
    "chi_array = np.array([[251, 278], [601, 321], [718, 811], [76, 206]])\n",
    "chi2, p, dof, expected = stats.chi2_contingency(chi_array)\n",
    "print chi2, p"
   ]
  },
  {
   "cell_type": "markdown",
   "metadata": {},
   "source": [
    "*Income*"
   ]
  },
  {
   "cell_type": "code",
   "execution_count": 59,
   "metadata": {
    "collapsed": false
   },
   "outputs": [
    {
     "name": "stderr",
     "output_type": "stream",
     "text": [
      "c:\\Users\\Corinne\\Anaconda\\lib\\site-packages\\IPython\\kernel\\__main__.py:2: SettingWithCopyWarning: \n",
      "A value is trying to be set on a copy of a slice from a DataFrame.\n",
      "Try using .loc[row_indexer,col_indexer] = value instead\n",
      "\n",
      "See the caveats in the documentation: http://pandas.pydata.org/pandas-docs/stable/indexing.html#indexing-view-versus-copy\n",
      "  from IPython.kernel.zmq import kernelapp as app\n"
     ]
    }
   ],
   "source": [
    "income_data = data[['RACE', 'INCOME0']]\n",
    "income_data['NEWINCOME'] = np.where(income_data['INCOME0'] < 3, 0, 1)"
   ]
  },
  {
   "cell_type": "code",
   "execution_count": 61,
   "metadata": {
    "collapsed": false
   },
   "outputs": [
    {
     "data": {
      "text/html": [
       "<div>\n",
       "<table border=\"1\" class=\"dataframe\">\n",
       "  <thead>\n",
       "    <tr style=\"text-align: right;\">\n",
       "      <th></th>\n",
       "      <th></th>\n",
       "      <th>INCOME0</th>\n",
       "    </tr>\n",
       "    <tr>\n",
       "      <th>RACE</th>\n",
       "      <th>NEWINCOME</th>\n",
       "      <th></th>\n",
       "    </tr>\n",
       "  </thead>\n",
       "  <tbody>\n",
       "    <tr>\n",
       "      <th rowspan=\"2\" valign=\"top\">Asian</th>\n",
       "      <th>0</th>\n",
       "      <td>163</td>\n",
       "    </tr>\n",
       "    <tr>\n",
       "      <th>1</th>\n",
       "      <td>366</td>\n",
       "    </tr>\n",
       "    <tr>\n",
       "      <th rowspan=\"2\" valign=\"top\">Black</th>\n",
       "      <th>0</th>\n",
       "      <td>554</td>\n",
       "    </tr>\n",
       "    <tr>\n",
       "      <th>1</th>\n",
       "      <td>368</td>\n",
       "    </tr>\n",
       "    <tr>\n",
       "      <th rowspan=\"2\" valign=\"top\">Caucasian</th>\n",
       "      <th>0</th>\n",
       "      <td>595</td>\n",
       "    </tr>\n",
       "    <tr>\n",
       "      <th>1</th>\n",
       "      <td>934</td>\n",
       "    </tr>\n",
       "    <tr>\n",
       "      <th rowspan=\"2\" valign=\"top\">Hispanic</th>\n",
       "      <th>0</th>\n",
       "      <td>248</td>\n",
       "    </tr>\n",
       "    <tr>\n",
       "      <th>1</th>\n",
       "      <td>34</td>\n",
       "    </tr>\n",
       "  </tbody>\n",
       "</table>\n",
       "</div>"
      ],
      "text/plain": [
       "                     INCOME0\n",
       "RACE      NEWINCOME         \n",
       "Asian     0              163\n",
       "          1              366\n",
       "Black     0              554\n",
       "          1              368\n",
       "Caucasian 0              595\n",
       "          1              934\n",
       "Hispanic  0              248\n",
       "          1               34"
      ]
     },
     "execution_count": 61,
     "metadata": {},
     "output_type": "execute_result"
    }
   ],
   "source": [
    "income_pivot = pd.pivot_table(income_data, index=['RACE', 'NEWINCOME'], values=['INCOME0'], aggfunc=len)\n",
    "\n",
    "income_pivot"
   ]
  },
  {
   "cell_type": "code",
   "execution_count": 62,
   "metadata": {
    "collapsed": false
   },
   "outputs": [
    {
     "name": "stdout",
     "output_type": "stream",
     "text": [
      "347.457587839 5.2988177676e-75\n"
     ]
    }
   ],
   "source": [
    "# order is asian, black, caucasian, hispanic!! [0, 1]\n",
    "\n",
    "chi_array = np.array([[163, 366], [554, 368], [595, 934], [248, 34]])\n",
    "chi2, p, dof, expected = stats.chi2_contingency(chi_array)\n",
    "print chi2, p"
   ]
  },
  {
   "cell_type": "markdown",
   "metadata": {},
   "source": [
    "*Education*"
   ]
  },
  {
   "cell_type": "code",
   "execution_count": 63,
   "metadata": {
    "collapsed": false
   },
   "outputs": [
    {
     "name": "stderr",
     "output_type": "stream",
     "text": [
      "c:\\Users\\Corinne\\Anaconda\\lib\\site-packages\\IPython\\kernel\\__main__.py:2: SettingWithCopyWarning: \n",
      "A value is trying to be set on a copy of a slice from a DataFrame.\n",
      "Try using .loc[row_indexer,col_indexer] = value instead\n",
      "\n",
      "See the caveats in the documentation: http://pandas.pydata.org/pandas-docs/stable/indexing.html#indexing-view-versus-copy\n",
      "  from IPython.kernel.zmq import kernelapp as app\n"
     ]
    }
   ],
   "source": [
    "edu_data = data[['RACE', 'DEGREE']]\n",
    "edu_data['NEWEDU'] = np.where(edu_data['DEGREE'] < 3, 0, 1)"
   ]
  },
  {
   "cell_type": "code",
   "execution_count": 64,
   "metadata": {
    "collapsed": false
   },
   "outputs": [
    {
     "data": {
      "text/html": [
       "<div>\n",
       "<table border=\"1\" class=\"dataframe\">\n",
       "  <thead>\n",
       "    <tr style=\"text-align: right;\">\n",
       "      <th></th>\n",
       "      <th></th>\n",
       "      <th>DEGREE</th>\n",
       "    </tr>\n",
       "    <tr>\n",
       "      <th>RACE</th>\n",
       "      <th>NEWEDU</th>\n",
       "      <th></th>\n",
       "    </tr>\n",
       "  </thead>\n",
       "  <tbody>\n",
       "    <tr>\n",
       "      <th rowspan=\"2\" valign=\"top\">Asian</th>\n",
       "      <th>0</th>\n",
       "      <td>122</td>\n",
       "    </tr>\n",
       "    <tr>\n",
       "      <th>1</th>\n",
       "      <td>407</td>\n",
       "    </tr>\n",
       "    <tr>\n",
       "      <th rowspan=\"2\" valign=\"top\">Black</th>\n",
       "      <th>0</th>\n",
       "      <td>244</td>\n",
       "    </tr>\n",
       "    <tr>\n",
       "      <th>1</th>\n",
       "      <td>678</td>\n",
       "    </tr>\n",
       "    <tr>\n",
       "      <th rowspan=\"2\" valign=\"top\">Caucasian</th>\n",
       "      <th>0</th>\n",
       "      <td>246</td>\n",
       "    </tr>\n",
       "    <tr>\n",
       "      <th>1</th>\n",
       "      <td>1283</td>\n",
       "    </tr>\n",
       "    <tr>\n",
       "      <th rowspan=\"2\" valign=\"top\">Hispanic</th>\n",
       "      <th>0</th>\n",
       "      <td>195</td>\n",
       "    </tr>\n",
       "    <tr>\n",
       "      <th>1</th>\n",
       "      <td>87</td>\n",
       "    </tr>\n",
       "  </tbody>\n",
       "</table>\n",
       "</div>"
      ],
      "text/plain": [
       "                  DEGREE\n",
       "RACE      NEWEDU        \n",
       "Asian     0          122\n",
       "          1          407\n",
       "Black     0          244\n",
       "          1          678\n",
       "Caucasian 0          246\n",
       "          1         1283\n",
       "Hispanic  0          195\n",
       "          1           87"
      ]
     },
     "execution_count": 64,
     "metadata": {},
     "output_type": "execute_result"
    }
   ],
   "source": [
    "edu_pivot = pd.pivot_table(edu_data, index=['RACE', 'NEWEDU'], values=['DEGREE'], aggfunc=len)\n",
    "\n",
    "edu_pivot"
   ]
  },
  {
   "cell_type": "code",
   "execution_count": 65,
   "metadata": {
    "collapsed": false
   },
   "outputs": [
    {
     "name": "stdout",
     "output_type": "stream",
     "text": [
      "362.429460227 3.03520372358e-78\n"
     ]
    }
   ],
   "source": [
    "# order is asian, black, caucasian, hispanic!! [0, 1]\n",
    "\n",
    "chi_array = np.array([[122, 407], [244, 678], [246, 1283], [195, 87]])\n",
    "chi2, p, dof, expected = stats.chi2_contingency(chi_array)\n",
    "print chi2, p"
   ]
  }
 ],
 "metadata": {
  "kernelspec": {
   "display_name": "Python 2",
   "language": "python",
   "name": "python2"
  },
  "language_info": {
   "codemirror_mode": {
    "name": "ipython",
    "version": 2
   },
   "file_extension": ".py",
   "mimetype": "text/x-python",
   "name": "python",
   "nbconvert_exporter": "python",
   "pygments_lexer": "ipython2",
   "version": "2.7.10"
  }
 },
 "nbformat": 4,
 "nbformat_minor": 0
}
