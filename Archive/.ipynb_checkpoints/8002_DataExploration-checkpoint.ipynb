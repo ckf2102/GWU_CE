{
 "cells": [
  {
   "cell_type": "markdown",
   "metadata": {},
   "source": [
    "#**Data Exploration**"
   ]
  },
  {
   "cell_type": "markdown",
   "metadata": {},
   "source": [
    "## Importing Data"
   ]
  },
  {
   "cell_type": "code",
   "execution_count": 48,
   "metadata": {
    "collapsed": false
   },
   "outputs": [],
   "source": [
    "import pandas as pd\n",
    "import numpy as np\n",
    "import matplotlib.pyplot as plt\n",
    "import scipy as sp\n",
    "from scipy import stats\n",
    "\n",
    "%matplotlib inline\n",
    "\n",
    "data = pd.read_csv('99053_AllData.csv')\n",
    "\n",
    "pd.set_option('display.max_rows', 120)"
   ]
  },
  {
   "cell_type": "markdown",
   "metadata": {},
   "source": [
    "## Some data cleaning\n",
    "\n",
    "Change all missing or NA values to numpy nan"
   ]
  },
  {
   "cell_type": "code",
   "execution_count": 49,
   "metadata": {
    "collapsed": true
   },
   "outputs": [],
   "source": [
    "data.replace(' ', np.nan, inplace=True)\n",
    "data.replace('-9', np.nan, inplace=True)\n",
    "data.replace('-1', np.nan, inplace=True)\n",
    "data.replace('-7', np.nan, inplace=True)\n",
    "data.replace('-8', np.nan, inplace=True)"
   ]
  },
  {
   "cell_type": "markdown",
   "metadata": {},
   "source": [
    "Converting object type to float"
   ]
  },
  {
   "cell_type": "code",
   "execution_count": 50,
   "metadata": {
    "collapsed": true
   },
   "outputs": [],
   "source": [
    "data.dtypes\n",
    "\n",
    "    # data types that need to change from object to float\n",
    "    # AGE0, INTDAY7, AGE7,INTDAY10, AGE10, P_STRESS, BMI0, BMI7, BMI10\n",
    "\n",
    "data[['AGE0', 'INTDAY7', 'AGE7','INTDAY10', 'AGE10', 'P_STRESS', 'BMI0', 'BMI7', 'BMI10']] = data[['AGE0', 'INTDAY7', 'AGE7','INTDAY10', 'AGE10', 'P_STRESS', 'BMI0', 'BMI7', 'BMI10']].astype(float)"
   ]
  },
  {
   "cell_type": "markdown",
   "metadata": {},
   "source": [
    "Adding a race column to combine Japanese and Chinese to Asian, rewriting Ethnic categories to show Ethnicity name instead of data code"
   ]
  },
  {
   "cell_type": "code",
   "execution_count": 51,
   "metadata": {
    "collapsed": true
   },
   "outputs": [],
   "source": [
    "data['RACE'] = data.ETHNIC.map({1:'Black', 8:'Asian', 9:'Asian', 10:'Caucasian', 13:'Hispanic'})\n",
    "data['ETHNIC_CAT'] = data.ETHNIC.map({1:'Black', 8:'Japanese', 9:'Chinese', 10:'Caucasian', 13:'Hispanic'})"
   ]
  },
  {
   "cell_type": "markdown",
   "metadata": {},
   "source": [
    "Adding in fields that represent the difference in heart age and actual age, as well as the heart age increase."
   ]
  },
  {
   "cell_type": "code",
   "execution_count": 52,
   "metadata": {
    "collapsed": false
   },
   "outputs": [],
   "source": [
    "data['LV_DA_AGE0'] = data.LV_AGE0 - data.AGE0\n",
    "data['BV_DA_AGE0'] = data.BV_AGE0 - data.AGE0\n",
    "data['LV_DA_AGE7'] = data.LV_AGE7 - data.AGE7\n",
    "data['BV_DA_AGE7'] = data.BV_AGE7 - data.AGE7\n",
    "data['BV_DA_AGE10'] = data.BV_AGE10 - data.AGE10\n",
    "\n",
    "data['LV_DV_AGE7'] = data.LV_AGE7 - data.LV_AGE0\n",
    "data['BV_DV_AGE8'] = data.BV_AGE7 - data.BV_AGE0\n",
    "data['BV_DV_AGE10'] = data.BV_AGE10 - data.BV_AGE0"
   ]
  },
  {
   "cell_type": "markdown",
   "metadata": {},
   "source": [
    "##Handling Null Values\n",
    "\n",
    "dot dot dot\n",
    "\n",
    "Collection for Hispanic participants stopped starting Visit 7. Fail."
   ]
  },
  {
   "cell_type": "code",
   "execution_count": 53,
   "metadata": {
    "collapsed": false
   },
   "outputs": [
    {
     "data": {
      "text/plain": [
       "SWANID                0\n",
       "AGE0                  5\n",
       "COURTES0             12\n",
       "RESPECT0             13\n",
       "POORSER0              8\n",
       "NOTSMAR0             10\n",
       "AFRAIDO0              9\n",
       "DISHONS0             10\n",
       "BETTER0               8\n",
       "INSULTE0              9\n",
       "HARASSE0              8\n",
       "IGNORED0              8\n",
       "DISC_AVGSCORE0        6\n",
       "DISC_SUMSCORE0        0\n",
       "MAINREA0           1791\n",
       "RACE_REASON0       1788\n",
       "INTDAY7             982\n",
       "AGE7                982\n",
       "COURTES7           1147\n",
       "RESPECT7           1148\n",
       "POORSER7           1151\n",
       "NOTSMAR7           1148\n",
       "AFRAIDO7           1148\n",
       "DISHONS7           1148\n",
       "BETTER7            1148\n",
       "INSULTE7           1148\n",
       "HARASSE7           1148\n",
       "IGNORED7           1147\n",
       "DISC_AVGSCORE7     1147\n",
       "DISC_SUMSCORE7     1147\n",
       "BCRACE7            2333\n",
       "BCETHN7            2338\n",
       "BCGENDR7           2337\n",
       "BCAGE7             2336\n",
       "BCINCML7           2337\n",
       "BCLANG7            2338\n",
       "BCWGHT7            2336\n",
       "BCPHAPP7           2336\n",
       "BCORIEN7           2336\n",
       "OTHEREX7           2383\n",
       "RACE_REASON7       2297\n",
       "INTDAY10           1063\n",
       "AGE10              1063\n",
       "COURTES10          1228\n",
       "RESPECT10          1229\n",
       "POORSER10          1230\n",
       "NOTSMAR10          1228\n",
       "AFRAIDO10          1229\n",
       "DISHONS10          1230\n",
       "BETTER10           1233\n",
       "INSULTE10          1228\n",
       "HARASSE10          1229\n",
       "IGNORED10          1229\n",
       "DISC_AVGSCORE10    1228\n",
       "DISC_SUMSCORE10    1228\n",
       "BCRACE10           2479\n",
       "BCETHN10           2480\n",
       "BCGENDR10          2479\n",
       "BCAGE10            2478\n",
       "BCINCML10          2481\n",
       "BCLANG10           2482\n",
       "BCWGHT10           2479\n",
       "BCPHAPP10          2482\n",
       "BCORIEN10          2481\n",
       "OTHEREX10          2540\n",
       "RACE_REASON10      2433\n",
       "P_STRESS            108\n",
       "INCOME0              90\n",
       "DEGREE               31\n",
       "PHY_ACT_COV           3\n",
       "BMI0                 42\n",
       "ETHNIC                0\n",
       "SYSBP10               9\n",
       "SYSBP20              12\n",
       "SYSBP30              20\n",
       "BP0                  11\n",
       "CHOLRES0             23\n",
       "HDLRESU0             23\n",
       "SMOKENO0           1908\n",
       "DIABETE0             54\n",
       "SYSBP0                7\n",
       "SMOKERSTAT0           0\n",
       "BPMEDSTAT0            0\n",
       "DIABSTAT0             0\n",
       "LV_AGE0              35\n",
       "SYSBP17            1245\n",
       "SYSBP27            1252\n",
       "BP17                982\n",
       "CHOLRES7           1302\n",
       "HDLRESU7           1303\n",
       "AVCIGDA7           2990\n",
       "DIABETE7            982\n",
       "SYSBP7             1245\n",
       "SMOKERSTAT7         975\n",
       "BPMEDSTAT7          975\n",
       "DIABSTAT7           975\n",
       "LV_AGE7            1374\n",
       "BV_AGE0              54\n",
       "BMI7               1248\n",
       "BV_AGE7            1261\n",
       "SYSBP110           1349\n",
       "SYSBP210           1351\n",
       "BP110              1065\n",
       "AVCIGDA10          3028\n",
       "BMI10              1355\n",
       "DIABETE10          1066\n",
       "SMOKERSTAT10       1057\n",
       "BPMEDSTAT10        1057\n",
       "DIABSTAT10         1057\n",
       "BV_AGE10           1361\n",
       "RACE                  0\n",
       "ETHNIC_CAT            0\n",
       "LV_DA_AGE0           35\n",
       "BV_DA_AGE0           54\n",
       "LV_DA_AGE7         1374\n",
       "BV_DA_AGE7         1261\n",
       "BV_DA_AGE10        1361\n",
       "LV_DV_AGE7         1389\n",
       "BV_DV_AGE8         1283\n",
       "BV_DV_AGE10        1385\n",
       "dtype: int64"
      ]
     },
     "execution_count": 53,
     "metadata": {},
     "output_type": "execute_result"
    }
   ],
   "source": [
    "data.isnull().sum()"
   ]
  },
  {
   "cell_type": "code",
   "execution_count": 54,
   "metadata": {
    "collapsed": true
   },
   "outputs": [],
   "source": [
    "# Need to figure out how to handle null values\n",
    "## data.dropna()            drops a row if any values are null\n",
    "## data.dropna(how='all')   drops a row only if all values are null\n",
    "## data.dropna(subset = ['col1', 'col2', 'col4'])       # drops a row if col 1, 2, and 4 are null"
   ]
  },
  {
   "cell_type": "markdown",
   "metadata": {},
   "source": [
    "Definitely exclude:\n",
    "\n",
    "1. records with no visit 7/10 data\n",
    "2. records with no average discrimination score\n",
    "3. records with no heart age at baseline, visit 7, and visit 10"
   ]
  },
  {
   "cell_type": "code",
   "execution_count": 55,
   "metadata": {
    "collapsed": false
   },
   "outputs": [],
   "source": [
    "# dropping records with no visit 7/10 data\n",
    "\n",
    "data.dropna(subset = ['LV_AGE7'], inplace=True)\n",
    "data.dropna(subset = ['BV_AGE7'], inplace = True)\n",
    "data.dropna(subset = ['BV_AGE10'], inplace=True)"
   ]
  },
  {
   "cell_type": "code",
   "execution_count": 56,
   "metadata": {
    "collapsed": false
   },
   "outputs": [],
   "source": [
    "# dropping records with no average discrimination score\n",
    "data.dropna(subset = ['DISC_AVGSCORE0'], inplace=True)"
   ]
  },
  {
   "cell_type": "code",
   "execution_count": 57,
   "metadata": {
    "collapsed": false
   },
   "outputs": [],
   "source": [
    "# dropping records with no recorded vascular age at baseline\n",
    "data.dropna(subset = ['LV_AGE0'], inplace=True)\n",
    "data.dropna(subset = ['BV_AGE0'], inplace=True)"
   ]
  },
  {
   "cell_type": "code",
   "execution_count": 58,
   "metadata": {
    "collapsed": false
   },
   "outputs": [
    {
     "data": {
      "text/plain": [
       "(1667, 120)"
      ]
     },
     "execution_count": 58,
     "metadata": {},
     "output_type": "execute_result"
    }
   ],
   "source": [
    "data.shape"
   ]
  },
  {
   "cell_type": "code",
   "execution_count": 59,
   "metadata": {
    "collapsed": false
   },
   "outputs": [
    {
     "data": {
      "text/plain": [
       "SWANID                0\n",
       "AGE0                  0\n",
       "COURTES0              3\n",
       "RESPECT0              2\n",
       "POORSER0              1\n",
       "NOTSMAR0              1\n",
       "AFRAIDO0              1\n",
       "DISHONS0              1\n",
       "BETTER0               2\n",
       "INSULTE0              1\n",
       "HARASSE0              1\n",
       "IGNORED0              0\n",
       "DISC_AVGSCORE0        0\n",
       "DISC_SUMSCORE0        0\n",
       "MAINREA0            897\n",
       "RACE_REASON0        896\n",
       "INTDAY7               0\n",
       "AGE7                  0\n",
       "COURTES7             27\n",
       "RESPECT7             27\n",
       "POORSER7             30\n",
       "NOTSMAR7             27\n",
       "AFRAIDO7             28\n",
       "DISHONS7             27\n",
       "BETTER7              28\n",
       "INSULTE7             27\n",
       "HARASSE7             27\n",
       "IGNORED7             27\n",
       "DISC_AVGSCORE7       27\n",
       "DISC_SUMSCORE7       27\n",
       "BCRACE7             935\n",
       "BCETHN7             937\n",
       "BCGENDR7            935\n",
       "BCAGE7              935\n",
       "BCINCML7            936\n",
       "BCLANG7             936\n",
       "BCWGHT7             936\n",
       "BCPHAPP7            936\n",
       "BCORIEN7            935\n",
       "OTHEREX7            957\n",
       "RACE_REASON7        926\n",
       "INTDAY10              0\n",
       "AGE10                 0\n",
       "COURTES10            21\n",
       "RESPECT10            22\n",
       "POORSER10            23\n",
       "NOTSMAR10            21\n",
       "AFRAIDO10            21\n",
       "DISHONS10            22\n",
       "BETTER10             23\n",
       "INSULTE10            21\n",
       "HARASSE10            21\n",
       "IGNORED10            22\n",
       "DISC_AVGSCORE10      21\n",
       "DISC_SUMSCORE10      21\n",
       "BCRACE10           1029\n",
       "BCETHN10           1029\n",
       "BCGENDR10          1030\n",
       "BCAGE10            1029\n",
       "BCINCML10          1031\n",
       "BCLANG10           1030\n",
       "BCWGHT10           1030\n",
       "BCPHAPP10          1032\n",
       "BCORIEN10          1030\n",
       "OTHEREX10          1073\n",
       "RACE_REASON10      1014\n",
       "P_STRESS             42\n",
       "INCOME0              42\n",
       "DEGREE               10\n",
       "PHY_ACT_COV           0\n",
       "BMI0                  0\n",
       "ETHNIC                0\n",
       "SYSBP10               2\n",
       "SYSBP20               0\n",
       "SYSBP30               5\n",
       "BP0                   5\n",
       "CHOLRES0              0\n",
       "HDLRESU0              0\n",
       "SMOKENO0           1021\n",
       "DIABETE0             15\n",
       "SYSBP0                0\n",
       "SMOKERSTAT0           0\n",
       "BPMEDSTAT0            0\n",
       "DIABSTAT0             0\n",
       "LV_AGE0               0\n",
       "SYSBP17               0\n",
       "SYSBP27               5\n",
       "BP17                  0\n",
       "CHOLRES7              0\n",
       "HDLRESU7              0\n",
       "AVCIGDA7           1460\n",
       "DIABETE7              0\n",
       "SYSBP7                0\n",
       "SMOKERSTAT7           0\n",
       "BPMEDSTAT7            0\n",
       "DIABSTAT7             0\n",
       "LV_AGE7               0\n",
       "BV_AGE0               0\n",
       "BMI7                  0\n",
       "BV_AGE7               0\n",
       "SYSBP110              0\n",
       "SYSBP210              2\n",
       "BP110                 0\n",
       "AVCIGDA10          1477\n",
       "BMI10                 0\n",
       "DIABETE10             0\n",
       "SMOKERSTAT10          0\n",
       "BPMEDSTAT10           0\n",
       "DIABSTAT10            0\n",
       "BV_AGE10              0\n",
       "RACE                  0\n",
       "ETHNIC_CAT            0\n",
       "LV_DA_AGE0            0\n",
       "BV_DA_AGE0            0\n",
       "LV_DA_AGE7            0\n",
       "BV_DA_AGE7            0\n",
       "BV_DA_AGE10           0\n",
       "LV_DV_AGE7            0\n",
       "BV_DV_AGE8            0\n",
       "BV_DV_AGE10           0\n",
       "dtype: int64"
      ]
     },
     "execution_count": 59,
     "metadata": {},
     "output_type": "execute_result"
    }
   ],
   "source": [
    "data.isnull().sum()"
   ]
  },
  {
   "cell_type": "markdown",
   "metadata": {},
   "source": [
    "# Baseline Descriptive Analysis"
   ]
  },
  {
   "cell_type": "markdown",
   "metadata": {},
   "source": [
    "###Simple Demographics###"
   ]
  },
  {
   "cell_type": "code",
   "execution_count": 60,
   "metadata": {
    "collapsed": false
   },
   "outputs": [
    {
     "data": {
      "text/plain": [
       "count    1667.000000\n",
       "mean       45.985003\n",
       "std         2.689920\n",
       "min        42.000000\n",
       "25%        44.000000\n",
       "50%        46.000000\n",
       "75%        48.000000\n",
       "max        53.000000\n",
       "Name: AGE0, dtype: float64"
      ]
     },
     "execution_count": 60,
     "metadata": {},
     "output_type": "execute_result"
    }
   ],
   "source": [
    "data.AGE0.describe()"
   ]
  },
  {
   "cell_type": "code",
   "execution_count": 61,
   "metadata": {
    "collapsed": false
   },
   "outputs": [
    {
     "data": {
      "text/plain": [
       "Asian        394\n",
       "Black        444\n",
       "Caucasian    829\n",
       "Name: RACE, dtype: int64"
      ]
     },
     "execution_count": 61,
     "metadata": {},
     "output_type": "execute_result"
    }
   ],
   "source": [
    "data.RACE.value_counts(ascending=True, dropna=False)"
   ]
  },
  {
   "cell_type": "code",
   "execution_count": 62,
   "metadata": {
    "collapsed": false
   },
   "outputs": [
    {
     "data": {
      "text/plain": [
       "Asian        0.236353\n",
       "Black        0.266347\n",
       "Caucasian    0.497301\n",
       "Name: RACE, dtype: float64"
      ]
     },
     "execution_count": 62,
     "metadata": {},
     "output_type": "execute_result"
    }
   ],
   "source": [
    "data.RACE.value_counts(ascending=True, normalize=True, dropna=False)"
   ]
  },
  {
   "cell_type": "markdown",
   "metadata": {},
   "source": [
    "###Race###"
   ]
  },
  {
   "cell_type": "markdown",
   "metadata": {},
   "source": [
    "**Race and Age at Beginning of Study**"
   ]
  },
  {
   "cell_type": "code",
   "execution_count": 63,
   "metadata": {
    "collapsed": false
   },
   "outputs": [
    {
     "data": {
      "text/plain": [
       "RACE            \n",
       "Asian      count    394.000000\n",
       "           mean      46.162437\n",
       "           std        2.612168\n",
       "           min       42.000000\n",
       "           25%       44.000000\n",
       "           50%       46.000000\n",
       "           75%       48.000000\n",
       "           max       52.000000\n",
       "Black      count    444.000000\n",
       "           mean      45.810811\n",
       "           std        2.675070\n",
       "           min       42.000000\n",
       "           25%       44.000000\n",
       "           50%       46.000000\n",
       "           75%       48.000000\n",
       "           max       52.000000\n",
       "Caucasian  count    829.000000\n",
       "           mean      45.993969\n",
       "           std        2.731320\n",
       "           min       42.000000\n",
       "           25%       44.000000\n",
       "           50%       46.000000\n",
       "           75%       48.000000\n",
       "           max       53.000000\n",
       "dtype: float64"
      ]
     },
     "execution_count": 63,
     "metadata": {},
     "output_type": "execute_result"
    }
   ],
   "source": [
    "data.groupby('RACE').AGE0.describe()"
   ]
  },
  {
   "cell_type": "code",
   "execution_count": 64,
   "metadata": {
    "collapsed": false
   },
   "outputs": [
    {
     "data": {
      "text/plain": [
       "<matplotlib.text.Text at 0x1f35fef0>"
      ]
     },
     "execution_count": 64,
     "metadata": {},
     "output_type": "execute_result"
    },
    {
     "data": {
      "image/png": "[encoded data removed]",
      "text/plain": [
       "<matplotlib.figure.Figure at 0x1f941080>"
      ]
     },
     "metadata": {},
     "output_type": "display_data"
    }
   ],
   "source": [
    "data.boxplot(column='AGE0', by = 'RACE')\n",
    "plt.xlabel('Race')\n",
    "plt.ylabel('Age at Baseline')"
   ]
  },
  {
   "cell_type": "markdown",
   "metadata": {},
   "source": [
    "**Race and Average Discrimination Score at Baseline**"
   ]
  },
  {
   "cell_type": "code",
   "execution_count": 65,
   "metadata": {
    "collapsed": true
   },
   "outputs": [],
   "source": [
    "disc0_cols = ['COURTES0',  'RESPECT0',  'POORSER0',  'NOTSMAR0',  'AFRAIDO0',  'DISHONS0',  'BETTER0',  'INSULTE0',  'HARASSE0',  'IGNORED0']\n",
    "\n",
    "disc0 = data[disc0_cols]\n"
   ]
  },
  {
   "cell_type": "code",
   "execution_count": 66,
   "metadata": {
    "collapsed": false
   },
   "outputs": [
    {
     "data": {
      "text/plain": [
       "COURTES0    3\n",
       "RESPECT0    2\n",
       "POORSER0    1\n",
       "NOTSMAR0    1\n",
       "AFRAIDO0    1\n",
       "DISHONS0    1\n",
       "BETTER0     2\n",
       "INSULTE0    1\n",
       "HARASSE0    1\n",
       "IGNORED0    0\n",
       "dtype: int64"
      ]
     },
     "execution_count": 66,
     "metadata": {},
     "output_type": "execute_result"
    }
   ],
   "source": [
    "disc0.isnull().sum()"
   ]
  },
  {
   "cell_type": "markdown",
   "metadata": {},
   "source": [
    "When using the average discrimination score, there are only 6 null values (which was done in the above Null values section). There are no null values when adding all of the scores together, but this masks the missing scores for each question (as shown above). Using average discrimination score, and dropping the 6 null values from the data set, appears to be the best course of action."
   ]
  },
  {
   "cell_type": "code",
   "execution_count": 67,
   "metadata": {
    "collapsed": false
   },
   "outputs": [
    {
     "data": {
      "text/plain": [
       "RACE            \n",
       "Asian      count    394.000000\n",
       "           mean       1.734913\n",
       "           std        0.466067\n",
       "           min        1.000000\n",
       "           25%        1.400000\n",
       "           50%        1.700000\n",
       "           75%        2.000000\n",
       "           max        3.400000\n",
       "Black      count    444.000000\n",
       "           mean       1.913939\n",
       "           std        0.524877\n",
       "           min        1.000000\n",
       "           25%        1.500000\n",
       "           50%        1.900000\n",
       "           75%        2.300000\n",
       "           max        3.600000\n",
       "Caucasian  count    829.000000\n",
       "           mean       1.676089\n",
       "           std        0.427107\n",
       "           min        1.000000\n",
       "           25%        1.400000\n",
       "           50%        1.700000\n",
       "           75%        2.000000\n",
       "           max        3.100000\n",
       "dtype: float64"
      ]
     },
     "execution_count": 67,
     "metadata": {},
     "output_type": "execute_result"
    }
   ],
   "source": [
    "data.groupby('RACE').DISC_AVGSCORE0.describe()"
   ]
  },
  {
   "cell_type": "code",
   "execution_count": 68,
   "metadata": {
    "collapsed": false
   },
   "outputs": [
    {
     "data": {
      "text/plain": [
       "<matplotlib.text.Text at 0x2007bb38>"
      ]
     },
     "execution_count": 68,
     "metadata": {},
     "output_type": "execute_result"
    },
    {
     "data": {
      "image/png": "[encoded data removed]",
      "text/plain": [
       "<matplotlib.figure.Figure at 0x1fcfec18>"
      ]
     },
     "metadata": {},
     "output_type": "display_data"
    }
   ],
   "source": [
    "data.boxplot(column='DISC_AVGSCORE0', by = 'RACE')\n",
    "plt.xlabel('Race')\n",
    "plt.ylabel('Average Discrimination Score')"
   ]
  },
  {
   "cell_type": "markdown",
   "metadata": {},
   "source": [
    "Black participants had a higher score average than all other races."
   ]
  },
  {
   "cell_type": "code",
   "execution_count": 69,
   "metadata": {
    "collapsed": false
   },
   "outputs": [
    {
     "data": {
      "text/plain": [
       "NaN    896\n",
       " 1     528\n",
       " 2     243\n",
       "Name: RACE_REASON0, dtype: int64"
      ]
     },
     "execution_count": 69,
     "metadata": {},
     "output_type": "execute_result"
    }
   ],
   "source": [
    "data.RACE_REASON0.value_counts(dropna=False)"
   ]
  },
  {
   "cell_type": "code",
   "execution_count": 70,
   "metadata": {
    "collapsed": false
   },
   "outputs": [
    {
     "data": {
      "text/plain": [
       "RACE       RACE_REASON0\n",
       "Asian      NaN             223\n",
       "           1               108\n",
       "           2                63\n",
       "Black      NaN             184\n",
       "           1                97\n",
       "           2               163\n",
       "Caucasian  NaN             489\n",
       "           1               323\n",
       "           2                17\n",
       "dtype: int64"
      ]
     },
     "execution_count": 70,
     "metadata": {},
     "output_type": "execute_result"
    }
   ],
   "source": [
    "data.groupby('RACE').RACE_REASON0.value_counts(sort=False, dropna=False)\n",
    "# 1 = race was not a significant reason for discrimination\n",
    "# 2 = race was a significant reason for discrimination"
   ]
  },
  {
   "cell_type": "markdown",
   "metadata": {},
   "source": [
    "Participants who marked experiencing one of the ten items as 3 or 4 (very often) were asked to determine the main reason for discrimination. Ethnicity, race, and language were grouped as \"racial discrimination\". On average, participants who frequently experienced discrimination (771 / 46.3% of original n = 1,667) cited a reason other than racial discrimination (n = 528, 68.5%). When broken down by race, Asian and Caucasian, participants still cite other reasons more often than racial discrimination (65.2% and 95.0% respectively) while Black participants more often cited race as the main reason for discrimination (62.7%)."
   ]
  },
  {
   "cell_type": "code",
   "execution_count": 71,
   "metadata": {
    "collapsed": false
   },
   "outputs": [],
   "source": [
    "# stats.ttest_ind(a['DISC_AVGSCORE0'], b['DISC_AVGSCORE0'])\n",
    "\n",
    "disc = data[['RACE', 'DISC_AVGSCORE0']]"
   ]
  },
  {
   "cell_type": "code",
   "execution_count": 72,
   "metadata": {
    "collapsed": false
   },
   "outputs": [],
   "source": [
    "black = disc[disc.RACE == 'Black']\n",
    "white = disc[disc.RACE == 'Caucasian']\n",
    "asian = disc[disc.RACE == 'Asian']"
   ]
  },
  {
   "cell_type": "code",
   "execution_count": 73,
   "metadata": {
    "collapsed": false
   },
   "outputs": [
    {
     "data": {
      "text/plain": [
       "Ttest_indResult(statistic=8.7252575032683399, pvalue=8.1831212477785338e-18)"
      ]
     },
     "execution_count": 73,
     "metadata": {},
     "output_type": "execute_result"
    }
   ],
   "source": [
    "stats.ttest_ind(black['DISC_AVGSCORE0'], white['DISC_AVGSCORE0'])"
   ]
  },
  {
   "cell_type": "code",
   "execution_count": 74,
   "metadata": {
    "collapsed": false
   },
   "outputs": [
    {
     "data": {
      "text/plain": [
       "Ttest_indResult(statistic=5.1930337832670137, pvalue=2.6002213188671334e-07)"
      ]
     },
     "execution_count": 74,
     "metadata": {},
     "output_type": "execute_result"
    }
   ],
   "source": [
    "stats.ttest_ind(black['DISC_AVGSCORE0'], asian['DISC_AVGSCORE0'])"
   ]
  },
  {
   "cell_type": "code",
   "execution_count": 75,
   "metadata": {
    "collapsed": false
   },
   "outputs": [
    {
     "data": {
      "text/plain": [
       "Ttest_indResult(statistic=2.1846778193951275, pvalue=0.029102101729492499)"
      ]
     },
     "execution_count": 75,
     "metadata": {},
     "output_type": "execute_result"
    }
   ],
   "source": [
    "stats.ttest_ind(asian['DISC_AVGSCORE0'], white['DISC_AVGSCORE0'])"
   ]
  },
  {
   "cell_type": "markdown",
   "metadata": {},
   "source": [
    "**Race and Perceived Stress**"
   ]
  },
  {
   "cell_type": "code",
   "execution_count": 76,
   "metadata": {
    "collapsed": false
   },
   "outputs": [
    {
     "data": {
      "text/plain": [
       "count    1625.000000\n",
       "mean        8.324308\n",
       "std         2.814032\n",
       "min         4.000000\n",
       "25%         6.000000\n",
       "50%         8.000000\n",
       "75%        10.000000\n",
       "max        19.000000\n",
       "Name: P_STRESS, dtype: float64"
      ]
     },
     "execution_count": 76,
     "metadata": {},
     "output_type": "execute_result"
    }
   ],
   "source": [
    "data.P_STRESS.describe()"
   ]
  },
  {
   "cell_type": "code",
   "execution_count": 77,
   "metadata": {
    "collapsed": false
   },
   "outputs": [
    {
     "data": {
      "text/plain": [
       "42"
      ]
     },
     "execution_count": 77,
     "metadata": {},
     "output_type": "execute_result"
    }
   ],
   "source": [
    "data.P_STRESS.isnull().sum()"
   ]
  },
  {
   "cell_type": "code",
   "execution_count": 78,
   "metadata": {
    "collapsed": false
   },
   "outputs": [
    {
     "data": {
      "text/plain": [
       "RACE            \n",
       "Asian      count    376.000000\n",
       "           mean       8.425532\n",
       "           std        2.494749\n",
       "           min        4.000000\n",
       "           25%        6.000000\n",
       "           50%        9.000000\n",
       "           75%       10.000000\n",
       "           max       18.000000\n",
       "Black      count    435.000000\n",
       "           mean       8.459770\n",
       "           std        2.946546\n",
       "           min        4.000000\n",
       "           25%        6.000000\n",
       "           50%        8.000000\n",
       "           75%       11.000000\n",
       "           max       18.000000\n",
       "Caucasian  count    814.000000\n",
       "           mean       8.205160\n",
       "           std        2.878161\n",
       "           min        4.000000\n",
       "           25%        6.000000\n",
       "           50%        8.000000\n",
       "           75%       10.000000\n",
       "           max       19.000000\n",
       "dtype: float64"
      ]
     },
     "execution_count": 78,
     "metadata": {},
     "output_type": "execute_result"
    }
   ],
   "source": [
    "data.groupby('RACE').P_STRESS.describe()"
   ]
  },
  {
   "cell_type": "code",
   "execution_count": 79,
   "metadata": {
    "collapsed": false,
    "scrolled": true
   },
   "outputs": [
    {
     "data": {
      "text/plain": [
       "<matplotlib.text.Text at 0x202bef28>"
      ]
     },
     "execution_count": 79,
     "metadata": {},
     "output_type": "execute_result"
    },
    {
     "data": {
      "image/png": "[encoded data removed]",
      "text/plain": [
       "<matplotlib.figure.Figure at 0x2006ff60>"
      ]
     },
     "metadata": {},
     "output_type": "display_data"
    }
   ],
   "source": [
    "data.boxplot(column='P_STRESS', by = 'RACE')\n",
    "plt.xlabel('Race')\n",
    "plt.ylabel('Perceived Stress')"
   ]
  },
  {
   "cell_type": "code",
   "execution_count": 80,
   "metadata": {
    "collapsed": false
   },
   "outputs": [],
   "source": [
    "# stats.ttest_ind(a['DISC_AVGSCORE0'], b['DISC_AVGSCORE0'])\n",
    "\n",
    "perc_stress = data[['RACE', 'P_STRESS']]\n",
    "perc_stress = perc_stress.dropna()"
   ]
  },
  {
   "cell_type": "code",
   "execution_count": 81,
   "metadata": {
    "collapsed": false
   },
   "outputs": [],
   "source": [
    "black_p = perc_stress[perc_stress.RACE == 'Black']\n",
    "white_p = perc_stress[perc_stress.RACE == 'Caucasian']\n",
    "asian_p = perc_stress[perc_stress.RACE == 'Asian']"
   ]
  },
  {
   "cell_type": "code",
   "execution_count": 82,
   "metadata": {
    "collapsed": false,
    "scrolled": true
   },
   "outputs": [
    {
     "data": {
      "text/plain": [
       "Ttest_indResult(statistic=1.4771777962806933, pvalue=0.13988047946423487)"
      ]
     },
     "execution_count": 82,
     "metadata": {},
     "output_type": "execute_result"
    }
   ],
   "source": [
    "stats.ttest_ind(black_p['P_STRESS'], white_p['P_STRESS'])"
   ]
  },
  {
   "cell_type": "code",
   "execution_count": 83,
   "metadata": {
    "collapsed": false
   },
   "outputs": [
    {
     "data": {
      "text/plain": [
       "Ttest_indResult(statistic=1.2791641915207788, pvalue=0.20108903084105895)"
      ]
     },
     "execution_count": 83,
     "metadata": {},
     "output_type": "execute_result"
    }
   ],
   "source": [
    "stats.ttest_ind(asian_p['P_STRESS'], white_p['P_STRESS'])"
   ]
  },
  {
   "cell_type": "code",
   "execution_count": 84,
   "metadata": {
    "collapsed": false
   },
   "outputs": [
    {
     "data": {
      "text/plain": [
       "Ttest_indResult(statistic=0.17704293496532139, pvalue=0.85951897877620675)"
      ]
     },
     "execution_count": 84,
     "metadata": {},
     "output_type": "execute_result"
    }
   ],
   "source": [
    "stats.ttest_ind(black_p['P_STRESS'], asian_p['P_STRESS'])"
   ]
  },
  {
   "cell_type": "markdown",
   "metadata": {},
   "source": [
    "**Race and Income**\n",
    "\n",
    "1. -8 = Do not know\n",
    "2. -7 = Refused\n",
    "3. 1 = Less than 19,999\n",
    "4. 2 = 20-49,999\n",
    "5. 3 = 50-99,999\n",
    "6. 4 = 100,000 or more"
   ]
  },
  {
   "cell_type": "code",
   "execution_count": 85,
   "metadata": {
    "collapsed": false
   },
   "outputs": [
    {
     "data": {
      "text/plain": [
       "NaN     42\n",
       "2      556\n",
       "4      272\n",
       "1      137\n",
       "3      660\n",
       "Name: INCOME0, dtype: int64"
      ]
     },
     "execution_count": 85,
     "metadata": {},
     "output_type": "execute_result"
    }
   ],
   "source": [
    "data.INCOME0.value_counts(sort=False, dropna=False)"
   ]
  },
  {
   "cell_type": "code",
   "execution_count": 86,
   "metadata": {
    "collapsed": true
   },
   "outputs": [],
   "source": [
    "income_cols = ['RACE', 'INCOME0']\n",
    "\n",
    "income_data = data[income_cols]"
   ]
  },
  {
   "cell_type": "code",
   "execution_count": 87,
   "metadata": {
    "collapsed": false
   },
   "outputs": [
    {
     "data": {
      "text/plain": [
       "<matplotlib.text.Text at 0x201e4e10>"
      ]
     },
     "execution_count": 87,
     "metadata": {},
     "output_type": "execute_result"
    },
    {
     "data": {
      "image/png": "[encoded data removed]",
      "text/plain": [
       "<matplotlib.figure.Figure at 0x1f195cf8>"
      ]
     },
     "metadata": {},
     "output_type": "display_data"
    }
   ],
   "source": [
    "data.INCOME0.value_counts(ascending=True, sort=True, dropna=False).plot(kind='bar', title='Bar Plot of Income Categories')\n",
    "plt.xlabel('Income Level')\n",
    "plt.ylabel('Count')"
   ]
  },
  {
   "cell_type": "code",
   "execution_count": 88,
   "metadata": {
    "collapsed": true
   },
   "outputs": [],
   "source": [
    "income_data = income_data.dropna()"
   ]
  },
  {
   "cell_type": "code",
   "execution_count": 89,
   "metadata": {
    "collapsed": false
   },
   "outputs": [
    {
     "data": {
      "text/plain": [
       "RACE       INCOME0\n",
       "Asian      1          0.026178\n",
       "           2          0.287958\n",
       "           3          0.442408\n",
       "           4          0.243455\n",
       "Black      1          0.183962\n",
       "           2          0.441038\n",
       "           3          0.318396\n",
       "           4          0.056604\n",
       "Caucasian  1          0.059829\n",
       "           2          0.316239\n",
       "           3          0.434676\n",
       "           4          0.189255\n",
       "dtype: float64"
      ]
     },
     "execution_count": 89,
     "metadata": {},
     "output_type": "execute_result"
    }
   ],
   "source": [
    "income_data.groupby('RACE').INCOME0.value_counts(sort=False, normalize=True)"
   ]
  },
  {
   "cell_type": "markdown",
   "metadata": {
    "collapsed": false
   },
   "source": [
    "**Race and Education**"
   ]
  },
  {
   "cell_type": "markdown",
   "metadata": {},
   "source": [
    "1. 1 = Less than high school\n",
    "2. 2 = High school graduate\n",
    "3. 3 = Some college/technical school\n",
    "4. 4 = College graduate\n",
    "5. 5 = Post graduate education"
   ]
  },
  {
   "cell_type": "code",
   "execution_count": 90,
   "metadata": {
    "collapsed": false
   },
   "outputs": [
    {
     "data": {
      "text/plain": [
       "3      534\n",
       "5      447\n",
       "4      378\n",
       "2      245\n",
       "1       53\n",
       "NaN     10\n",
       "Name: DEGREE, dtype: int64"
      ]
     },
     "execution_count": 90,
     "metadata": {},
     "output_type": "execute_result"
    }
   ],
   "source": [
    "data.DEGREE.value_counts(dropna=False)"
   ]
  },
  {
   "cell_type": "code",
   "execution_count": 91,
   "metadata": {
    "collapsed": true
   },
   "outputs": [],
   "source": [
    "edu_cols = ['RACE', 'DEGREE']\n",
    "\n",
    "edu_data = data[edu_cols]"
   ]
  },
  {
   "cell_type": "code",
   "execution_count": 92,
   "metadata": {
    "collapsed": false
   },
   "outputs": [
    {
     "data": {
      "text/plain": [
       "<matplotlib.text.Text at 0x204c2630>"
      ]
     },
     "execution_count": 92,
     "metadata": {},
     "output_type": "execute_result"
    },
    {
     "data": {
      "image/png": "[encoded data removed]",
      "text/plain": [
       "<matplotlib.figure.Figure at 0x20095278>"
      ]
     },
     "metadata": {},
     "output_type": "display_data"
    }
   ],
   "source": [
    "data.DEGREE.value_counts(ascending=True, sort=True, dropna=False).plot(kind='bar', title='Bar Plot of Education Categories')\n",
    "plt.xlabel('Education Level')\n",
    "plt.ylabel('Count')"
   ]
  },
  {
   "cell_type": "code",
   "execution_count": 93,
   "metadata": {
    "collapsed": true
   },
   "outputs": [],
   "source": [
    "edu_data = edu_data.dropna()"
   ]
  },
  {
   "cell_type": "code",
   "execution_count": 94,
   "metadata": {
    "collapsed": false
   },
   "outputs": [
    {
     "data": {
      "text/plain": [
       "RACE       DEGREE\n",
       "Asian      1         0.050761\n",
       "           2         0.154822\n",
       "           3         0.284264\n",
       "           4         0.319797\n",
       "           5         0.190355\n",
       "Black      1         0.045977\n",
       "           2         0.202299\n",
       "           3         0.427586\n",
       "           4         0.147126\n",
       "           5         0.177011\n",
       "Caucasian  1         0.015700\n",
       "           2         0.115942\n",
       "           3         0.285024\n",
       "           4         0.227053\n",
       "           5         0.356280\n",
       "dtype: float64"
      ]
     },
     "execution_count": 94,
     "metadata": {},
     "output_type": "execute_result"
    }
   ],
   "source": [
    "edu_data.groupby('RACE').DEGREE.value_counts(sort=False, normalize=True)"
   ]
  },
  {
   "cell_type": "code",
   "execution_count": null,
   "metadata": {
    "collapsed": true
   },
   "outputs": [],
   "source": []
  }
 ],
 "metadata": {
  "kernelspec": {
   "display_name": "Python 2",
   "language": "python",
   "name": "python2"
  },
  "language_info": {
   "codemirror_mode": {
    "name": "ipython",
    "version": 2
   },
   "file_extension": ".py",
   "mimetype": "text/x-python",
   "name": "python",
   "nbconvert_exporter": "python",
   "pygments_lexer": "ipython2",
   "version": "2.7.10"
  }
 },
 "nbformat": 4,
 "nbformat_minor": 0
}
