{
 "cells": [
  {
   "cell_type": "code",
   "execution_count": 112,
   "metadata": {
    "collapsed": true
   },
   "outputs": [],
   "source": [
    "import pandas as pd\n",
    "import numpy as np\n",
    "import matplotlib.pyplot as plt\n",
    "import scipy as sp\n",
    "from scipy import stats\n",
    "\n",
    "%matplotlib inline"
   ]
  },
  {
   "cell_type": "code",
   "execution_count": 113,
   "metadata": {
    "collapsed": true
   },
   "outputs": [],
   "source": [
    "cross = pd.read_table('Cross.tsv', low_memory=False)\n",
    "baseline = pd.read_table('Baseline.tsv', low_memory=False)\n",
    "\n",
    "cross.rename(columns={'ID':'SWANID'}, inplace=True)"
   ]
  },
  {
   "cell_type": "code",
   "execution_count": 130,
   "metadata": {
    "collapsed": false
   },
   "outputs": [],
   "source": [
    "data = pd.merge(cross, baseline)"
   ]
  },
  {
   "cell_type": "code",
   "execution_count": 131,
   "metadata": {
    "collapsed": true
   },
   "outputs": [],
   "source": [
    "data.replace(' ', np.nan, inplace=True)\n",
    "data.replace('-9', np.nan, inplace=True)\n",
    "data.replace('-1', np.nan, inplace=True)\n",
    "data.replace('-7', np.nan, inplace=True)\n",
    "data.replace('-8', np.nan, inplace=True)"
   ]
  },
  {
   "cell_type": "code",
   "execution_count": 132,
   "metadata": {
    "collapsed": true
   },
   "outputs": [],
   "source": [
    "def convert_bin(cols):\n",
    "    data[cols] = data[cols].map({'1':0, '2':1})\n",
    "    data[cols].replace(np.nan, 0, inplace=True)\n",
    "    print data[cols].value_counts(dropna=False)\n",
    "\n",
    "def convert_bin_fl(cols):\n",
    "    data[cols] = data[cols].map({1:0, 2:1})\n",
    "    data[cols].replace(np.nan, 0, inplace=True)\n",
    "    print data[cols].value_counts(dropna=False)"
   ]
  },
  {
   "cell_type": "code",
   "execution_count": 133,
   "metadata": {
    "collapsed": false
   },
   "outputs": [
    {
     "name": "stdout",
     "output_type": "stream",
     "text": [
      "0    3139\n",
      "1     163\n",
      "Name: DIABETE, dtype: int64\n",
      "0    2913\n",
      "1     389\n",
      "Name: BP0, dtype: int64\n",
      "0    2733\n",
      "1     569\n",
      "Name: SMOKENO0, dtype: int64\n"
     ]
    }
   ],
   "source": [
    "conversion = ['DIABETE', 'BP0', 'SMOKENO0']\n",
    "\n",
    "for x in conversion:\n",
    "    if(data[x].dtype == np.float64):\n",
    "        convert_bin_fl(x)\n",
    "    else:\n",
    "        convert_bin(x)\n",
    "        "
   ]
  },
  {
   "cell_type": "code",
   "execution_count": 162,
   "metadata": {
    "collapsed": true
   },
   "outputs": [],
   "source": [
    "data[['SYSBP10', 'SYSBP20', 'SYSBP30', 'AGE0', 'CHOLRES0', \n",
    "      'HDLRESU0']] = data[['SYSBP10', 'SYSBP20', 'SYSBP30', \n",
    "                           'AGE0', 'CHOLRES0', 'HDLRESU0']].astype(float)"
   ]
  },
  {
   "cell_type": "code",
   "execution_count": 163,
   "metadata": {
    "collapsed": true
   },
   "outputs": [],
   "source": [
    "heart_cols = ['SWANID', 'DIABETE', 'BP0', 'SMOKENO0', 'AGE0', 'SYSBP10', 'SYSBP20', 'SYSBP30', \n",
    "               'CHOLRES0', 'HDLRESU0']"
   ]
  },
  {
   "cell_type": "code",
   "execution_count": 180,
   "metadata": {
    "collapsed": false
   },
   "outputs": [
    {
     "data": {
      "text/plain": [
       "SWANID        int64\n",
       "DIABETE     float64\n",
       "BP0         float64\n",
       "SMOKENO0    float64\n",
       "AGE0        float64\n",
       "SYSBP10     float64\n",
       "SYSBP20     float64\n",
       "SYSBP30     float64\n",
       "CHOLRES0    float64\n",
       "HDLRESU0    float64\n",
       "dtype: object"
      ]
     },
     "execution_count": 180,
     "metadata": {},
     "output_type": "execute_result"
    }
   ],
   "source": [
    "heart = data[heart_cols]\n",
    "heart.dtypes"
   ]
  },
  {
   "cell_type": "code",
   "execution_count": 181,
   "metadata": {
    "collapsed": false
   },
   "outputs": [],
   "source": [
    "heart.loc[:, 'SYSBP_AVG'] = heart[['SYSBP10', 'SYSBP20', 'SYSBP30']].mean(axis=1)"
   ]
  },
  {
   "cell_type": "code",
   "execution_count": 182,
   "metadata": {
    "collapsed": false
   },
   "outputs": [
    {
     "data": {
      "text/plain": [
       "count    3295.000000\n",
       "mean      117.604552\n",
       "std        16.986136\n",
       "min        74.000000\n",
       "25%       106.000000\n",
       "50%       114.666667\n",
       "75%       126.666667\n",
       "max       224.000000\n",
       "Name: SYSBP_AVG, dtype: float64"
      ]
     },
     "execution_count": 182,
     "metadata": {},
     "output_type": "execute_result"
    }
   ],
   "source": [
    "heart.SYSBP_AVG.describe()"
   ]
  },
  {
   "cell_type": "code",
   "execution_count": 183,
   "metadata": {
    "collapsed": false
   },
   "outputs": [
    {
     "data": {
      "text/plain": [
       "SWANID         int64\n",
       "DIABETE      float64\n",
       "BP0          float64\n",
       "SMOKENO0     float64\n",
       "AGE0         float64\n",
       "SYSBP10      float64\n",
       "SYSBP20      float64\n",
       "SYSBP30      float64\n",
       "CHOLRES0     float64\n",
       "HDLRESU0     float64\n",
       "SYSBP_AVG    float64\n",
       "dtype: object"
      ]
     },
     "execution_count": 183,
     "metadata": {},
     "output_type": "execute_result"
    }
   ],
   "source": [
    "heart.dtypes"
   ]
  },
  {
   "cell_type": "code",
   "execution_count": 184,
   "metadata": {
    "collapsed": false,
    "scrolled": true
   },
   "outputs": [
    {
     "name": "stderr",
     "output_type": "stream",
     "text": [
      "c:\\Users\\Corinne\\Anaconda\\lib\\site-packages\\IPython\\kernel\\__main__.py:5: SettingWithCopyWarning: \n",
      "A value is trying to be set on a copy of a slice from a DataFrame\n",
      "\n",
      "See the caveats in the documentation: http://pandas.pydata.org/pandas-docs/stable/indexing.html#indexing-view-versus-copy\n",
      "c:\\Users\\Corinne\\Anaconda\\lib\\site-packages\\IPython\\kernel\\__main__.py:6: SettingWithCopyWarning: \n",
      "A value is trying to be set on a copy of a slice from a DataFrame\n",
      "\n",
      "See the caveats in the documentation: http://pandas.pydata.org/pandas-docs/stable/indexing.html#indexing-view-versus-copy\n",
      "c:\\Users\\Corinne\\Anaconda\\lib\\site-packages\\IPython\\kernel\\__main__.py:7: SettingWithCopyWarning: \n",
      "A value is trying to be set on a copy of a slice from a DataFrame\n",
      "\n",
      "See the caveats in the documentation: http://pandas.pydata.org/pandas-docs/stable/indexing.html#indexing-view-versus-copy\n",
      "c:\\Users\\Corinne\\Anaconda\\lib\\site-packages\\IPython\\kernel\\__main__.py:8: SettingWithCopyWarning: \n",
      "A value is trying to be set on a copy of a slice from a DataFrame\n",
      "\n",
      "See the caveats in the documentation: http://pandas.pydata.org/pandas-docs/stable/indexing.html#indexing-view-versus-copy\n"
     ]
    }
   ],
   "source": [
    "# drop records where Age0, CHOLRES0, HDLRESU0, and SYSBP_AVG are null\n",
    "\n",
    "## data.dropna(subset = ['col1', 'col2', 'col4'])\n",
    "\n",
    "heart.dropna(subset = ['AGE0'], inplace=True)\n",
    "heart.dropna(subset = ['CHOLRES0'], inplace=True)\n",
    "heart.dropna(subset = ['HDLRESU0'], inplace=True)\n",
    "heart.dropna(subset = ['SYSBP_AVG'], inplace=True)"
   ]
  },
  {
   "cell_type": "code",
   "execution_count": 190,
   "metadata": {
    "collapsed": false
   },
   "outputs": [],
   "source": [
    "# setting constants\n",
    "\n",
    "main = 192.4820096\n",
    "age = 2.32888\n",
    "choles = 1.20904\n",
    "hdl = -.70833\n",
    "sysbp = 2.76157\n",
    "smoker = 0.52873\n",
    "bpmed = 2.82263\n",
    "diab = 0.69154"
   ]
  },
  {
   "cell_type": "code",
   "execution_count": 187,
   "metadata": {
    "collapsed": false
   },
   "outputs": [
    {
     "data": {
      "text/plain": [
       "SWANID         int64\n",
       "DIABETE      float64\n",
       "BP0          float64\n",
       "SMOKENO0     float64\n",
       "AGE0         float64\n",
       "SYSBP10      float64\n",
       "SYSBP20      float64\n",
       "SYSBP30      float64\n",
       "CHOLRES0     float64\n",
       "HDLRESU0     float64\n",
       "SYSBP_AVG    float64\n",
       "place1       float64\n",
       "dtype: object"
      ]
     },
     "execution_count": 187,
     "metadata": {},
     "output_type": "execute_result"
    }
   ],
   "source": [
    "heart.dtypes"
   ]
  },
  {
   "cell_type": "code",
   "execution_count": 195,
   "metadata": {
    "collapsed": false
   },
   "outputs": [],
   "source": [
    "heart.loc[:, 'place1'] = (np.log(heart.AGE0)*age \n",
    "                          + np.log(heart.SYSBP_AVG)*sysbp \n",
    "                          + np.log(heart.CHOLRES0)*choles \n",
    "                          + np.log(heart.HDLRESU0)*hdl \n",
    "                          + heart.SMOKENO0*smoker \n",
    "                          + heart.DIABETE*diab)"
   ]
  },
  {
   "cell_type": "code",
   "execution_count": 196,
   "metadata": {
    "collapsed": false
   },
   "outputs": [
    {
     "data": {
      "text/plain": [
       "count    3267.000000\n",
       "mean       25.695608\n",
       "std         0.629918\n",
       "min        24.003383\n",
       "25%        25.239932\n",
       "50%        25.639648\n",
       "75%        26.067781\n",
       "max        28.533174\n",
       "Name: place1, dtype: float64"
      ]
     },
     "execution_count": 196,
     "metadata": {},
     "output_type": "execute_result"
    }
   ],
   "source": []
  }
 ],
 "metadata": {
  "kernelspec": {
   "display_name": "Python 2",
   "language": "python",
   "name": "python2"
  },
  "language_info": {
   "codemirror_mode": {
    "name": "ipython",
    "version": 2
   },
   "file_extension": ".py",
   "mimetype": "text/x-python",
   "name": "python",
   "nbconvert_exporter": "python",
   "pygments_lexer": "ipython2",
   "version": "2.7.10"
  }
 },
 "nbformat": 4,
 "nbformat_minor": 0
}
