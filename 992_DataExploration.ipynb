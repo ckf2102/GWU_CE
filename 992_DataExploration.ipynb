{
 "cells": [
  {
   "cell_type": "markdown",
   "metadata": {},
   "source": [
    "#Exploring the Data#\n",
    "\n",
    "All  exploratory analysis (null values already dropped/replaced)"
   ]
  },
  {
   "cell_type": "code",
   "execution_count": 1,
   "metadata": {
    "collapsed": false
   },
   "outputs": [],
   "source": [
    "import pandas as pd\n",
    "import numpy as np\n",
    "import matplotlib.pyplot as plt\n",
    "import scipy as sp\n",
    "from scipy import stats\n",
    "\n",
    "%matplotlib inline\n",
    "\n",
    "data = pd.read_csv('991_CleanedData.csv', low_memory=False)"
   ]
  },
  {
   "cell_type": "code",
   "execution_count": 2,
   "metadata": {
    "collapsed": true
   },
   "outputs": [],
   "source": [
    "data['RACE'] = data.ETHNIC.map({1:'Black', 8:'Asian', 9:'Asian', 10:'Caucasian', 13:'Hispanic'})"
   ]
  },
  {
   "cell_type": "markdown",
   "metadata": {},
   "source": [
    "##Checking the Distribution and Information for Individual Variables##\n",
    "\n",
    "Variables to explore:\n",
    "- Discrimination score\n",
    "- Race reason\n",
    "- Age\n",
    "- Perceived Stress score\n",
    "- Income\n",
    "- Degree\n",
    "- BMI\n",
    "- Baseline lipid vascular age\n",
    "- C-reactive protein level\n",
    "- Previous CVD"
   ]
  },
  {
   "cell_type": "markdown",
   "metadata": {},
   "source": [
    "###Discrimination###"
   ]
  },
  {
   "cell_type": "code",
   "execution_count": 3,
   "metadata": {
    "collapsed": false,
    "scrolled": true
   },
   "outputs": [
    {
     "data": {
      "text/plain": [
       "<matplotlib.text.Text at 0x1ece5240>"
      ]
     },
     "execution_count": 3,
     "metadata": {},
     "output_type": "execute_result"
    },
    {
     "data": {
      "image/png": "[encoded data removed]",
      "text/plain": [
       "<matplotlib.figure.Figure at 0x3cb1a58>"
      ]
     },
     "metadata": {},
     "output_type": "display_data"
    }
   ],
   "source": [
    "data.DISC_SCORE0.plot(kind='density', xlim=(1,4), title='Density Plot of Discrimination Scores')\n",
    "plt.xlabel('Discrimination Score')\n",
    "plt.ylabel('Density')"
   ]
  },
  {
   "cell_type": "code",
   "execution_count": 4,
   "metadata": {
    "collapsed": false
   },
   "outputs": [
    {
     "name": "stdout",
     "output_type": "stream",
     "text": [
      "NormaltestResult(statistic=143.61608035994007, pvalue=6.5187510173975879e-32)\n"
     ]
    }
   ],
   "source": [
    "disc_data = data[pd.notnull(data['DISC_SCORE0'])]\n",
    "print stats.normaltest(disc_data.DISC_SCORE0)"
   ]
  },
  {
   "cell_type": "code",
   "execution_count": 5,
   "metadata": {
    "collapsed": true
   },
   "outputs": [],
   "source": [
    "from matplotlib import pyplot as plt\n",
    "import matplotlib.mlab as mlab"
   ]
  },
  {
   "cell_type": "code",
   "execution_count": 6,
   "metadata": {
    "collapsed": false,
    "scrolled": true
   },
   "outputs": [
    {
     "data": {
      "text/plain": [
       "[<matplotlib.lines.Line2D at 0x1f8abb38>]"
      ]
     },
     "execution_count": 6,
     "metadata": {},
     "output_type": "execute_result"
    },
    {
     "data": {
      "image/png": "[encoded data removed]",
      "text/plain": [
       "<matplotlib.figure.Figure at 0x1f8ab978>"
      ]
     },
     "metadata": {},
     "output_type": "display_data"
    }
   ],
   "source": [
    "n, bins, patches = plt.hist(disc_data.DISC_SCORE0, 50, normed=1)\n",
    "mu = np.mean(disc_data.DISC_SCORE0)\n",
    "sigma = np.std(disc_data.DISC_SCORE0)\n",
    "plt.plot(bins, mlab.normpdf(bins, mu, sigma))"
   ]
  },
  {
   "cell_type": "code",
   "execution_count": 7,
   "metadata": {
    "collapsed": false
   },
   "outputs": [
    {
     "data": {
      "text/plain": [
       "KstestResult(statistic=0.84134474606854293, pvalue=0.0)"
      ]
     },
     "execution_count": 7,
     "metadata": {},
     "output_type": "execute_result"
    }
   ],
   "source": [
    "stats.kstest(data.DISC_SCORE0, 'norm')"
   ]
  },
  {
   "cell_type": "markdown",
   "metadata": {},
   "source": [
    "Unfortunately not normally distributed."
   ]
  },
  {
   "cell_type": "code",
   "execution_count": 8,
   "metadata": {
    "collapsed": false
   },
   "outputs": [
    {
     "data": {
      "text/plain": [
       "count    3262.000000\n",
       "mean        1.719401\n",
       "std         0.501915\n",
       "min         1.000000\n",
       "25%         1.300000\n",
       "50%         1.700000\n",
       "75%         2.000000\n",
       "max         4.000000\n",
       "Name: DISC_SCORE0, dtype: float64"
      ]
     },
     "execution_count": 8,
     "metadata": {},
     "output_type": "execute_result"
    }
   ],
   "source": [
    "data.DISC_SCORE0.describe()"
   ]
  },
  {
   "cell_type": "code",
   "execution_count": 9,
   "metadata": {
    "collapsed": false
   },
   "outputs": [
    {
     "data": {
      "text/plain": [
       "HIGH    1646\n",
       "LOW     1616\n",
       "Name: DISC_CAT0, dtype: int64"
      ]
     },
     "execution_count": 9,
     "metadata": {},
     "output_type": "execute_result"
    }
   ],
   "source": [
    "data.DISC_CAT0.value_counts(dropna=False)"
   ]
  },
  {
   "cell_type": "markdown",
   "metadata": {},
   "source": [
    "A participant is said to have experienced high perceived discrimination if she answered \"Often\" or \"Sometimes\" to any of the 10 items on the discrimination scale. About half (50%) of participants noted they experienced \"High\" discrimination."
   ]
  },
  {
   "cell_type": "markdown",
   "metadata": {},
   "source": [
    "###Reason for Discrimination###"
   ]
  },
  {
   "cell_type": "markdown",
   "metadata": {},
   "source": [
    "Participants who were classified as having High perceived discrimination were asked to choose what she believed to be the main reason for this discrimination.\n",
    "\n",
    "- 1 = Race\n",
    "- 2 = Ethnicity\n",
    "- 3 = Gender\n",
    "- 4 = Age\n",
    "- 5 = Income Level\n",
    "- 6 = Language\n",
    "- 7 = Physical Appearance\n",
    "- 8 = Sexual Orientation\n",
    "- 9 = Other reason"
   ]
  },
  {
   "cell_type": "code",
   "execution_count": 10,
   "metadata": {
    "collapsed": false,
    "scrolled": true
   },
   "outputs": [
    {
     "data": {
      "text/plain": [
       "NaN    1764\n",
       " 1      422\n",
       " 2       47\n",
       " 3      199\n",
       " 4       76\n",
       " 5       89\n",
       " 6       61\n",
       " 7      183\n",
       " 8       23\n",
       " 9      398\n",
       "Name: MAINREA0, dtype: int64"
      ]
     },
     "execution_count": 10,
     "metadata": {},
     "output_type": "execute_result"
    }
   ],
   "source": [
    "data.MAINREA0.value_counts(sort=False, dropna=False)"
   ]
  },
  {
   "cell_type": "markdown",
   "metadata": {},
   "source": [
    "Of the 1,498 participants who recorded a reason for discrimination, 469 (31.3%) attributed their discrimination to their racial or ethnic identity (Race was the most frequent reason, followed by 'Other' and then Gender)."
   ]
  },
  {
   "cell_type": "code",
   "execution_count": 11,
   "metadata": {
    "collapsed": false
   },
   "outputs": [
    {
     "data": {
      "text/plain": [
       "Black        319\n",
       "Asian         80\n",
       "Caucasian     39\n",
       "Hispanic      31\n",
       "Name: RACE, dtype: int64"
      ]
     },
     "execution_count": 11,
     "metadata": {},
     "output_type": "execute_result"
    }
   ],
   "source": [
    "data[(data.MAINREA0 == 1) | (data.MAINREA0 == 2)].RACE.value_counts(dropna=False)"
   ]
  },
  {
   "cell_type": "markdown",
   "metadata": {},
   "source": [
    "###Age###"
   ]
  },
  {
   "cell_type": "code",
   "execution_count": 12,
   "metadata": {
    "collapsed": false
   },
   "outputs": [
    {
     "data": {
      "text/plain": [
       "count    3262.000000\n",
       "mean       45.851931\n",
       "std         2.692083\n",
       "min        42.000000\n",
       "25%        44.000000\n",
       "50%        46.000000\n",
       "75%        48.000000\n",
       "max        53.000000\n",
       "Name: AGE0, dtype: float64"
      ]
     },
     "execution_count": 12,
     "metadata": {},
     "output_type": "execute_result"
    }
   ],
   "source": [
    "data.AGE0.describe()"
   ]
  },
  {
   "cell_type": "code",
   "execution_count": 13,
   "metadata": {
    "collapsed": false
   },
   "outputs": [
    {
     "data": {
      "text/plain": [
       "<matplotlib.text.Text at 0x1f9e6128>"
      ]
     },
     "execution_count": 13,
     "metadata": {},
     "output_type": "execute_result"
    },
    {
     "data": {
      "image/png": "[encoded data removed]",
      "text/plain": [
       "<matplotlib.figure.Figure at 0x1f28d470>"
      ]
     },
     "metadata": {},
     "output_type": "display_data"
    }
   ],
   "source": [
    "data.AGE0.plot(kind='density', xlim=(42, 53), title='Density Plot of Age')\n",
    "plt.xlabel('Age')\n",
    "plt.ylabel('Density')"
   ]
  },
  {
   "cell_type": "code",
   "execution_count": 14,
   "metadata": {
    "collapsed": false
   },
   "outputs": [
    {
     "data": {
      "text/plain": [
       "[<matplotlib.lines.Line2D at 0x1fb2e860>]"
      ]
     },
     "execution_count": 14,
     "metadata": {},
     "output_type": "execute_result"
    },
    {
     "data": {
      "image/png": "[encoded data removed]",
      "text/plain": [
       "<matplotlib.figure.Figure at 0x1fb2ee10>"
      ]
     },
     "metadata": {},
     "output_type": "display_data"
    }
   ],
   "source": [
    "age_data = data[pd.notnull(data['AGE0'])]\n",
    "\n",
    "n, bins, patches = plt.hist(age_data.AGE0, 50, normed=1)\n",
    "mu = np.mean(age_data.AGE0)\n",
    "sigma = np.std(age_data.AGE0)\n",
    "plt.plot(bins, mlab.normpdf(bins, mu, sigma))"
   ]
  },
  {
   "cell_type": "markdown",
   "metadata": {},
   "source": [
    "###Perceived Stress Score###\n",
    "\n",
    "Note: minimum perceived stress score is 4, maximum possible is 20."
   ]
  },
  {
   "cell_type": "code",
   "execution_count": 15,
   "metadata": {
    "collapsed": false
   },
   "outputs": [
    {
     "data": {
      "text/plain": [
       "count    3262.000000\n",
       "mean        8.582771\n",
       "std         2.929256\n",
       "min         4.000000\n",
       "25%         6.000000\n",
       "50%         8.000000\n",
       "75%        11.000000\n",
       "max        19.000000\n",
       "Name: MOD_PSTRESS, dtype: float64"
      ]
     },
     "execution_count": 15,
     "metadata": {},
     "output_type": "execute_result"
    }
   ],
   "source": [
    "data.MOD_PSTRESS.describe()"
   ]
  },
  {
   "cell_type": "code",
   "execution_count": 16,
   "metadata": {
    "collapsed": false
   },
   "outputs": [
    {
     "data": {
      "text/plain": [
       "<matplotlib.text.Text at 0x1ef1b470>"
      ]
     },
     "execution_count": 16,
     "metadata": {},
     "output_type": "execute_result"
    },
    {
     "data": {
      "image/png": "[encoded data removed]",
      "text/plain": [
       "<matplotlib.figure.Figure at 0x1f1dea20>"
      ]
     },
     "metadata": {},
     "output_type": "display_data"
    }
   ],
   "source": [
    "data.MOD_PSTRESS.plot(kind='density', xlim=(4,20), title='Density Plot of Perceived Stress Scores')\n",
    "plt.xlabel('Perceived Stress Score')\n",
    "plt.ylabel('Density')"
   ]
  },
  {
   "cell_type": "code",
   "execution_count": 17,
   "metadata": {
    "collapsed": false
   },
   "outputs": [
    {
     "data": {
      "text/plain": [
       "[<matplotlib.lines.Line2D at 0x1f3ab630>]"
      ]
     },
     "execution_count": 17,
     "metadata": {},
     "output_type": "execute_result"
    },
    {
     "data": {
      "image/png": "[encoded data removed]",
      "text/plain": [
       "<matplotlib.figure.Figure at 0x1f3abd30>"
      ]
     },
     "metadata": {},
     "output_type": "display_data"
    }
   ],
   "source": [
    "norm_data = data[pd.notnull(data['MOD_PSTRESS'])]\n",
    "\n",
    "n, bins, patches = plt.hist(norm_data.MOD_PSTRESS, 50, normed=1)\n",
    "mu = np.mean(norm_data.MOD_PSTRESS)\n",
    "sigma = np.std(norm_data.MOD_PSTRESS)\n",
    "plt.plot(bins, mlab.normpdf(bins, mu, sigma))"
   ]
  },
  {
   "cell_type": "code",
   "execution_count": 18,
   "metadata": {
    "collapsed": false
   },
   "outputs": [
    {
     "data": {
      "text/plain": [
       "KstestResult(statistic=0.99996832875816688, pvalue=0.0)"
      ]
     },
     "execution_count": 18,
     "metadata": {},
     "output_type": "execute_result"
    }
   ],
   "source": [
    "stats.kstest(data.MOD_PSTRESS, 'norm')"
   ]
  },
  {
   "cell_type": "markdown",
   "metadata": {},
   "source": [
    "###Income###\n",
    "\n",
    "The key for income scores is:\n",
    "\n",
    "- 1 = Less than 19,999\n",
    "- 2 = 20-49,999\n",
    "- 3 = 50-99,999\n",
    "- 4 = 100,000 or more"
   ]
  },
  {
   "cell_type": "code",
   "execution_count": 19,
   "metadata": {
    "collapsed": false
   },
   "outputs": [
    {
     "data": {
      "text/plain": [
       "1     483\n",
       "2    1077\n",
       "3    1240\n",
       "4     462\n",
       "Name: INCOME0, dtype: int64"
      ]
     },
     "execution_count": 19,
     "metadata": {},
     "output_type": "execute_result"
    }
   ],
   "source": [
    "data.INCOME0.value_counts(sort=False, dropna=False)"
   ]
  },
  {
   "cell_type": "code",
   "execution_count": 20,
   "metadata": {
    "collapsed": false
   },
   "outputs": [
    {
     "data": {
      "text/plain": [
       "<matplotlib.text.Text at 0x22672a20>"
      ]
     },
     "execution_count": 20,
     "metadata": {},
     "output_type": "execute_result"
    },
    {
     "data": {
      "image/png": "[encoded data removed]",
      "text/plain": [
       "<matplotlib.figure.Figure at 0x1f20bfd0>"
      ]
     },
     "metadata": {},
     "output_type": "display_data"
    }
   ],
   "source": [
    "data.INCOME0.value_counts(sort=False).plot(kind='bar', title='Bar plot of Income Categories')\n",
    "plt.xlabel('Income Category')\n",
    "plt.ylabel('Count')"
   ]
  },
  {
   "cell_type": "markdown",
   "metadata": {},
   "source": [
    "###Education###\n",
    "\n",
    "Key for \"DEGREE\" is:\n",
    "\n",
    "- 1 = Less than High School\n",
    "- 2 = High School Graduate\n",
    "- 3 = Some College/Technical School\n",
    "- 4 = College Graduate\n",
    "- 5 = Post Graduate Education"
   ]
  },
  {
   "cell_type": "code",
   "execution_count": 21,
   "metadata": {
    "collapsed": false
   },
   "outputs": [
    {
     "data": {
      "text/plain": [
       "1     235\n",
       "2     572\n",
       "3    1069\n",
       "4     651\n",
       "5     735\n",
       "Name: DEGREE, dtype: int64"
      ]
     },
     "execution_count": 21,
     "metadata": {},
     "output_type": "execute_result"
    }
   ],
   "source": [
    "data.DEGREE.value_counts(sort=False, dropna=False)"
   ]
  },
  {
   "cell_type": "code",
   "execution_count": 22,
   "metadata": {
    "collapsed": false
   },
   "outputs": [
    {
     "data": {
      "text/plain": [
       "<matplotlib.text.Text at 0x2261b0f0>"
      ]
     },
     "execution_count": 22,
     "metadata": {},
     "output_type": "execute_result"
    },
    {
     "data": {
      "image/png": "[encoded data removed]",
      "text/plain": [
       "<matplotlib.figure.Figure at 0x22152c18>"
      ]
     },
     "metadata": {},
     "output_type": "display_data"
    }
   ],
   "source": [
    "data.DEGREE.value_counts(sort=False).plot(kind='bar', title='Bar plot of Education Categories')\n",
    "plt.xlabel('Education Category')\n",
    "plt.ylabel('Count')"
   ]
  },
  {
   "cell_type": "markdown",
   "metadata": {},
   "source": [
    "It seems like education is skewed slightly to the right."
   ]
  },
  {
   "cell_type": "markdown",
   "metadata": {},
   "source": [
    "###Body Mass Index###\n",
    "\n",
    "Measured in kg/m^2\n",
    "\n",
    "Categories for BMI follow WHO classification guidelines.\n",
    "\n",
    "- Less than 18.5: Underweight\n",
    "- Greater than 18.5, less than 25: Normal\n",
    "- Greater than 25, less than 30: Overweight\n",
    "- Greater than 30: Obese"
   ]
  },
  {
   "cell_type": "code",
   "execution_count": 23,
   "metadata": {
    "collapsed": false
   },
   "outputs": [
    {
     "data": {
      "text/plain": [
       "count    3262.000000\n",
       "mean       28.254157\n",
       "std         7.170365\n",
       "min        14.989652\n",
       "25%        22.921744\n",
       "50%        26.745730\n",
       "75%        32.042421\n",
       "max        64.838400\n",
       "Name: BMI0, dtype: float64"
      ]
     },
     "execution_count": 23,
     "metadata": {},
     "output_type": "execute_result"
    }
   ],
   "source": [
    "data.BMI0.describe()"
   ]
  },
  {
   "cell_type": "code",
   "execution_count": 24,
   "metadata": {
    "collapsed": false
   },
   "outputs": [
    {
     "data": {
      "text/plain": [
       "<matplotlib.text.Text at 0x22b44208>"
      ]
     },
     "execution_count": 24,
     "metadata": {},
     "output_type": "execute_result"
    },
    {
     "data": {
      "image/png": "[encoded data removed]",
      "text/plain": [
       "<matplotlib.figure.Figure at 0x2215d748>"
      ]
     },
     "metadata": {},
     "output_type": "display_data"
    }
   ],
   "source": [
    "data.BMI0.plot(kind='density', xlim=(14,65), title='Density Plot of BMI')\n",
    "plt.xlabel('BMI')\n",
    "plt.ylabel('Density')"
   ]
  },
  {
   "cell_type": "code",
   "execution_count": 25,
   "metadata": {
    "collapsed": false
   },
   "outputs": [
    {
     "data": {
      "text/plain": [
       "[<matplotlib.lines.Line2D at 0x22dd71d0>]"
      ]
     },
     "execution_count": 25,
     "metadata": {},
     "output_type": "execute_result"
    },
    {
     "data": {
      "image/png": "[encoded data removed]",
      "text/plain": [
       "<matplotlib.figure.Figure at 0x22c26d68>"
      ]
     },
     "metadata": {},
     "output_type": "display_data"
    }
   ],
   "source": [
    "BMI_data = data[pd.notnull(data['BMI0'])]\n",
    "\n",
    "n, bins, patches = plt.hist(BMI_data.BMI0, 50, normed=1)\n",
    "mu = np.mean(BMI_data.BMI0)\n",
    "sigma = np.std(BMI_data.BMI0)\n",
    "plt.plot(bins, mlab.normpdf(bins, mu, sigma))"
   ]
  },
  {
   "cell_type": "code",
   "execution_count": 26,
   "metadata": {
    "collapsed": false
   },
   "outputs": [
    {
     "data": {
      "text/plain": [
       "0_Underweight        37\n",
       "2_Overweight        911\n",
       "1_HealthyWeight    1256\n",
       "3_Obese            1058\n",
       "Name: BMI_CAT, dtype: int64"
      ]
     },
     "execution_count": 26,
     "metadata": {},
     "output_type": "execute_result"
    }
   ],
   "source": [
    "data.BMI_CAT.value_counts(sort=False, dropna=False)"
   ]
  },
  {
   "cell_type": "code",
   "execution_count": 27,
   "metadata": {
    "collapsed": false
   },
   "outputs": [
    {
     "data": {
      "text/plain": [
       "<matplotlib.text.Text at 0x285a7a58>"
      ]
     },
     "execution_count": 27,
     "metadata": {},
     "output_type": "execute_result"
    },
    {
     "data": {
      "image/png": "[encoded data removed]",
      "text/plain": [
       "<matplotlib.figure.Figure at 0x22dd7048>"
      ]
     },
     "metadata": {},
     "output_type": "display_data"
    }
   ],
   "source": [
    "data.BMI_CAT.value_counts(sort=False).plot(kind='bar', title='Bar plot of BMI classifications')\n",
    "plt.xlabel('BMI Classification')\n",
    "plt.ylabel('Count')"
   ]
  },
  {
   "cell_type": "markdown",
   "metadata": {},
   "source": [
    "Not really sure why it won't sort correctly..."
   ]
  },
  {
   "cell_type": "markdown",
   "metadata": {},
   "source": [
    "###Lipid Vascular Age###"
   ]
  },
  {
   "cell_type": "code",
   "execution_count": 28,
   "metadata": {
    "collapsed": false
   },
   "outputs": [
    {
     "data": {
      "text/plain": [
       "count    3262.000000\n",
       "mean       46.018087\n",
       "std        14.882283\n",
       "min        21.000000\n",
       "25%        36.000000\n",
       "50%        43.000000\n",
       "75%        52.000000\n",
       "max       168.000000\n",
       "Name: LV_AGE0, dtype: float64"
      ]
     },
     "execution_count": 28,
     "metadata": {},
     "output_type": "execute_result"
    }
   ],
   "source": [
    "data.LV_AGE0.describe()"
   ]
  },
  {
   "cell_type": "code",
   "execution_count": 29,
   "metadata": {
    "collapsed": false
   },
   "outputs": [
    {
     "data": {
      "text/plain": [
       "<matplotlib.text.Text at 0x28728748>"
      ]
     },
     "execution_count": 29,
     "metadata": {},
     "output_type": "execute_result"
    },
    {
     "data": {
      "image/png": "[encoded data removed]",
      "text/plain": [
       "<matplotlib.figure.Figure at 0x22d734a8>"
      ]
     },
     "metadata": {},
     "output_type": "display_data"
    }
   ],
   "source": [
    "data.LV_AGE0.plot(kind='density', xlim=(21,168), title='Density Plot of Lipid Vascular Ages')\n",
    "plt.xlabel('Lipid Vascular Age')\n",
    "plt.ylabel('Density')"
   ]
  },
  {
   "cell_type": "code",
   "execution_count": 30,
   "metadata": {
    "collapsed": false
   },
   "outputs": [
    {
     "data": {
      "text/plain": [
       "<matplotlib.axes._subplots.AxesSubplot at 0x28a49588>"
      ]
     },
     "execution_count": 30,
     "metadata": {},
     "output_type": "execute_result"
    },
    {
     "data": {
      "image/png": "[encoded data removed]",
      "text/plain": [
       "<matplotlib.figure.Figure at 0x22d73550>"
      ]
     },
     "metadata": {},
     "output_type": "display_data"
    }
   ],
   "source": [
    "data.LV_AGE0.plot(kind='box')"
   ]
  },
  {
   "cell_type": "code",
   "execution_count": 31,
   "metadata": {
    "collapsed": false
   },
   "outputs": [
    {
     "data": {
      "text/plain": [
       "count    3262.000000\n",
       "mean        0.166156\n",
       "std        14.353084\n",
       "min       -22.000000\n",
       "25%        -9.000000\n",
       "50%        -3.000000\n",
       "75%         6.000000\n",
       "max       117.000000\n",
       "Name: LV_AGE_DIFF0, dtype: float64"
      ]
     },
     "execution_count": 31,
     "metadata": {},
     "output_type": "execute_result"
    }
   ],
   "source": [
    "data.LV_AGE_DIFF0.describe()"
   ]
  },
  {
   "cell_type": "markdown",
   "metadata": {},
   "source": [
    "The fact that there is a 117 year difference between vascular age and actual age for one participant is interesting/scary.\n",
    "\n",
    "For fun: that participant is 51 years old, has an average systolic blood pressure of 195, cholesterol level is 328, hdl level is 58, takes blood pressure medication, and is not a smoker."
   ]
  },
  {
   "cell_type": "code",
   "execution_count": 32,
   "metadata": {
    "collapsed": false
   },
   "outputs": [
    {
     "data": {
      "text/plain": [
       "<matplotlib.text.Text at 0x28c9cf28>"
      ]
     },
     "execution_count": 32,
     "metadata": {},
     "output_type": "execute_result"
    },
    {
     "data": {
      "image/png": "[encoded data removed]",
      "text/plain": [
       "<matplotlib.figure.Figure at 0x28d05ac8>"
      ]
     },
     "metadata": {},
     "output_type": "display_data"
    }
   ],
   "source": [
    "data.LV_AGE_DIFF0.plot(kind='density', xlim=(-22,117), title='Density Plot of Difference between Lipid Vascular Age and Actual Age')\n",
    "plt.xlabel('Age Difference')\n",
    "plt.ylabel('Density')"
   ]
  },
  {
   "cell_type": "code",
   "execution_count": 33,
   "metadata": {
    "collapsed": false
   },
   "outputs": [
    {
     "data": {
      "text/plain": [
       "count    3262.000000\n",
       "mean        0.001720\n",
       "std         0.311080\n",
       "min        -0.500000\n",
       "25%        -0.208333\n",
       "50%        -0.066667\n",
       "75%         0.119048\n",
       "max         2.347826\n",
       "Name: LV_AGE_PCT0, dtype: float64"
      ]
     },
     "execution_count": 33,
     "metadata": {},
     "output_type": "execute_result"
    }
   ],
   "source": [
    "data.LV_AGE_PCT0.describe()"
   ]
  },
  {
   "cell_type": "code",
   "execution_count": 34,
   "metadata": {
    "collapsed": true
   },
   "outputs": [],
   "source": [
    "data['LV_AGE_ABSPCT0'] = data.LV_AGE_PCT0.abs()"
   ]
  },
  {
   "cell_type": "code",
   "execution_count": 35,
   "metadata": {
    "collapsed": false
   },
   "outputs": [
    {
     "data": {
      "text/plain": [
       "count    3262.000000\n",
       "mean        0.225836\n",
       "std         0.213907\n",
       "min         0.000000\n",
       "25%         0.087440\n",
       "50%         0.186047\n",
       "75%         0.297872\n",
       "max         2.347826\n",
       "Name: LV_AGE_ABSPCT0, dtype: float64"
      ]
     },
     "execution_count": 35,
     "metadata": {},
     "output_type": "execute_result"
    }
   ],
   "source": [
    "data.LV_AGE_ABSPCT0.describe()"
   ]
  },
  {
   "cell_type": "markdown",
   "metadata": {},
   "source": [
    "###C-Reactive Protein Levels###"
   ]
  },
  {
   "cell_type": "code",
   "execution_count": 36,
   "metadata": {
    "collapsed": false
   },
   "outputs": [
    {
     "data": {
      "text/plain": [
       "count    3262.000000\n",
       "mean        3.890664\n",
       "std         6.226116\n",
       "min         0.043000\n",
       "25%         0.600000\n",
       "50%         1.600000\n",
       "75%         4.600000\n",
       "max       105.600000\n",
       "Name: CRPRESU0, dtype: float64"
      ]
     },
     "execution_count": 36,
     "metadata": {},
     "output_type": "execute_result"
    }
   ],
   "source": [
    "data.CRPRESU0.describe()"
   ]
  },
  {
   "cell_type": "code",
   "execution_count": 37,
   "metadata": {
    "collapsed": false
   },
   "outputs": [
    {
     "data": {
      "text/plain": [
       "<matplotlib.text.Text at 0x28f062e8>"
      ]
     },
     "execution_count": 37,
     "metadata": {},
     "output_type": "execute_result"
    },
    {
     "data": {
      "image/png": "[encoded data removed]",
      "text/plain": [
       "<matplotlib.figure.Figure at 0x28ee8390>"
      ]
     },
     "metadata": {},
     "output_type": "display_data"
    }
   ],
   "source": [
    "data.CRPRESU0.plot(kind='density', xlim=(0,106), title='Density Plot of C-Reactive Protein Levels')\n",
    "plt.xlabel('C-Reactive Protein Level')\n",
    "plt.ylabel('Density')"
   ]
  }
 ],
 "metadata": {
  "kernelspec": {
   "display_name": "Python 2",
   "language": "python",
   "name": "python2"
  },
  "language_info": {
   "codemirror_mode": {
    "name": "ipython",
    "version": 2
   },
   "file_extension": ".py",
   "mimetype": "text/x-python",
   "name": "python",
   "nbconvert_exporter": "python",
   "pygments_lexer": "ipython2",
   "version": "2.7.10"
  }
 },
 "nbformat": 4,
 "nbformat_minor": 0
}
