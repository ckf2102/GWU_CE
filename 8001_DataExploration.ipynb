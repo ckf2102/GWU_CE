{
 "cells": [
  {
   "cell_type": "markdown",
   "metadata": {},
   "source": [
    "#**Data Exploration**"
   ]
  },
  {
   "cell_type": "markdown",
   "metadata": {},
   "source": [
    "## Importing Data"
   ]
  },
  {
   "cell_type": "code",
   "execution_count": 1,
   "metadata": {
    "collapsed": false
   },
   "outputs": [],
   "source": [
    "import pandas as pd\n",
    "import numpy as np\n",
    "import matplotlib.pyplot as plt\n",
    "%matplotlib inline\n",
    "\n",
    "data = pd.read_csv('99053_AllData.csv')\n",
    "\n",
    "pd.set_option('display.max_rows', 120)"
   ]
  },
  {
   "cell_type": "markdown",
   "metadata": {},
   "source": [
    "## Some data cleaning\n",
    "\n",
    "Change all missing or NA values to numpy nan"
   ]
  },
  {
   "cell_type": "code",
   "execution_count": 2,
   "metadata": {
    "collapsed": true
   },
   "outputs": [],
   "source": [
    "data.replace(' ', np.nan, inplace=True)\n",
    "data.replace('-9', np.nan, inplace=True)\n",
    "data.replace('-1', np.nan, inplace=True)"
   ]
  },
  {
   "cell_type": "markdown",
   "metadata": {},
   "source": [
    "Converting object type to float"
   ]
  },
  {
   "cell_type": "code",
   "execution_count": 3,
   "metadata": {
    "collapsed": true
   },
   "outputs": [],
   "source": [
    "data.dtypes\n",
    "\n",
    "    # data types that need to change from object to float\n",
    "    # AGE0, INTDAY7, AGE7,INTDAY10, AGE10, P_STRESS, BMI0, BMI7, BMI10\n",
    "\n",
    "data[['AGE0', 'INTDAY7', 'AGE7','INTDAY10', 'AGE10', 'P_STRESS', 'BMI0', 'BMI7', 'BMI10']] = data[['AGE0', 'INTDAY7', 'AGE7','INTDAY10', 'AGE10', 'P_STRESS', 'BMI0', 'BMI7', 'BMI10']].astype(float)"
   ]
  },
  {
   "cell_type": "markdown",
   "metadata": {},
   "source": [
    "Adding a race column to combine Japanese and Chinese to Asian, rewriting Ethnic categories to show Ethnicity name instead of data code"
   ]
  },
  {
   "cell_type": "code",
   "execution_count": 4,
   "metadata": {
    "collapsed": true
   },
   "outputs": [],
   "source": [
    "data['RACE'] = data.ETHNIC.map({1:'Black', 8:'Asian', 9:'Asian', 10:'Caucasian', 13:'Hispanic'})\n",
    "data['ETHNIC_CAT'] = data.ETHNIC.map({1:'Black', 8:'Japanese', 9:'Chinese', 10:'Caucasian', 13:'Hispanic'})"
   ]
  },
  {
   "cell_type": "markdown",
   "metadata": {},
   "source": [
    "##Handling Null Values\n",
    "\n",
    "dot dot dot"
   ]
  },
  {
   "cell_type": "code",
   "execution_count": 5,
   "metadata": {
    "collapsed": false
   },
   "outputs": [
    {
     "data": {
      "text/plain": [
       "SWANID                0\n",
       "AGE0                  5\n",
       "COURTES0             12\n",
       "RESPECT0             13\n",
       "POORSER0              8\n",
       "NOTSMAR0             10\n",
       "AFRAIDO0              9\n",
       "DISHONS0             10\n",
       "BETTER0               8\n",
       "INSULTE0              9\n",
       "HARASSE0              8\n",
       "IGNORED0              8\n",
       "DISC_AVGSCORE0        6\n",
       "DISC_SUMSCORE0        0\n",
       "MAINREA0           1791\n",
       "RACE_REASON0       1788\n",
       "INTDAY7             982\n",
       "AGE7                982\n",
       "COURTES7           1146\n",
       "RESPECT7           1147\n",
       "POORSER7           1146\n",
       "NOTSMAR7           1146\n",
       "AFRAIDO7           1146\n",
       "DISHONS7           1146\n",
       "BETTER7            1146\n",
       "INSULTE7           1146\n",
       "HARASSE7           1146\n",
       "IGNORED7           1146\n",
       "DISC_AVGSCORE7     1147\n",
       "DISC_SUMSCORE7     1147\n",
       "BCRACE7            2330\n",
       "BCETHN7            2330\n",
       "BCGENDR7           2329\n",
       "BCAGE7             2329\n",
       "BCINCML7           2329\n",
       "BCLANG7            2330\n",
       "BCWGHT7            2330\n",
       "BCPHAPP7           2329\n",
       "BCORIEN7           2329\n",
       "OTHEREX7           2329\n",
       "RACE_REASON7       2297\n",
       "INTDAY10           1063\n",
       "AGE10              1063\n",
       "COURTES10          1227\n",
       "RESPECT10          1227\n",
       "POORSER10          1227\n",
       "NOTSMAR10          1227\n",
       "AFRAIDO10          1227\n",
       "DISHONS10          1227\n",
       "BETTER10           1227\n",
       "INSULTE10          1227\n",
       "HARASSE10          1228\n",
       "IGNORED10          1227\n",
       "DISC_AVGSCORE10    1228\n",
       "DISC_SUMSCORE10    1228\n",
       "BCRACE10           2472\n",
       "BCETHN10           2472\n",
       "BCGENDR10          2472\n",
       "BCAGE10            2472\n",
       "BCINCML10          2472\n",
       "BCLANG10           2472\n",
       "BCWGHT10           2472\n",
       "BCPHAPP10          2472\n",
       "BCORIEN10          2472\n",
       "OTHEREX10          2472\n",
       "RACE_REASON10      2433\n",
       "P_STRESS            108\n",
       "INCOME0              18\n",
       "DEGREE               31\n",
       "PHY_ACT_COV           3\n",
       "BMI0                 42\n",
       "ETHNIC                0\n",
       "SYSBP10               9\n",
       "SYSBP20              12\n",
       "SYSBP30              20\n",
       "BP0                  11\n",
       "CHOLRES0             23\n",
       "HDLRESU0             23\n",
       "SMOKENO0           1908\n",
       "DIABETE0             54\n",
       "SYSBP0                7\n",
       "SMOKERSTAT0           0\n",
       "BPMEDSTAT0            0\n",
       "DIABSTAT0             0\n",
       "LV_AGE0              35\n",
       "SYSBP17            1245\n",
       "SYSBP27            1252\n",
       "BP17                982\n",
       "CHOLRES7           1302\n",
       "HDLRESU7           1303\n",
       "AVCIGDA7           2988\n",
       "DIABETE7            982\n",
       "SYSBP7             1245\n",
       "SMOKERSTAT7         975\n",
       "BPMEDSTAT7          975\n",
       "DIABSTAT7           975\n",
       "LV_AGE7            1374\n",
       "BV_AGE0              54\n",
       "BMI7               1248\n",
       "BV_AGE7            1261\n",
       "SYSBP110           1349\n",
       "SYSBP210           1351\n",
       "BP110              1065\n",
       "AVCIGDA10          3026\n",
       "BMI10              1355\n",
       "DIABETE10          1065\n",
       "SMOKERSTAT10       1057\n",
       "BPMEDSTAT10        1057\n",
       "DIABSTAT10         1057\n",
       "BV_AGE10           1361\n",
       "RACE                  0\n",
       "ETHNIC_CAT            0\n",
       "dtype: int64"
      ]
     },
     "execution_count": 5,
     "metadata": {},
     "output_type": "execute_result"
    }
   ],
   "source": [
    "data.isnull().sum()"
   ]
  },
  {
   "cell_type": "code",
   "execution_count": null,
   "metadata": {
    "collapsed": true
   },
   "outputs": [],
   "source": [
    "# Need to figure out how to handle null values\n",
    "## data.dropna()            drops a row if any values are null\n",
    "## data.dropna(how='all')   drops a row only if all values are null\n",
    "## data.dropna(subset = ['col1', 'col2', 'col4'])       # drops a row if col 1, 2, and 4 are null"
   ]
  },
  {
   "cell_type": "markdown",
   "metadata": {},
   "source": [
    "# Descriptive Analysis"
   ]
  },
  {
   "cell_type": "markdown",
   "metadata": {},
   "source": [
    "##Perceived Stress"
   ]
  },
  {
   "cell_type": "markdown",
   "metadata": {},
   "source": [
    "Examining frequencies of Perceived Stress values. P_STRESS is measured from 4-20, with 20 indicating high perceived stress. There are 108 null values."
   ]
  },
  {
   "cell_type": "code",
   "execution_count": null,
   "metadata": {
    "collapsed": false
   },
   "outputs": [],
   "source": [
    "data.P_STRESS.value_counts(sort=False, dropna=False)"
   ]
  },
  {
   "cell_type": "markdown",
   "metadata": {},
   "source": [
    "The average perceived stress score is 8.6. Perceived stress scores are skewed to the left, as seen visually in the below bar and box plots. "
   ]
  },
  {
   "cell_type": "code",
   "execution_count": null,
   "metadata": {
    "collapsed": false
   },
   "outputs": [],
   "source": [
    "data.P_STRESS.describe()"
   ]
  },
  {
   "cell_type": "code",
   "execution_count": null,
   "metadata": {
    "collapsed": false
   },
   "outputs": [],
   "source": [
    "data.P_STRESS.plot(kind = 'hist', bins = 16, title='Histogram of Perceived Stress')\n",
    "plt.xlabel('Perceived Stress Score')\n",
    "plt.ylabel('Count')"
   ]
  },
  {
   "cell_type": "code",
   "execution_count": null,
   "metadata": {
    "collapsed": false
   },
   "outputs": [],
   "source": [
    "data.P_STRESS.value_counts(sort=False, dropna=False).plot(kind='bar', title='Bar Plot of Perceived Stress (includes null)')\n",
    "plt.xlabel('Perceived Stress Score')\n",
    "plt.ylabel('Count')"
   ]
  },
  {
   "cell_type": "code",
   "execution_count": null,
   "metadata": {
    "collapsed": false
   },
   "outputs": [],
   "source": [
    "data.P_STRESS.plot(kind='box', title='Boxplot of Perceived Stress')"
   ]
  },
  {
   "cell_type": "markdown",
   "metadata": {},
   "source": [
    "##Ethnicity\n",
    "*note: the next couple cells will be repeated for race*"
   ]
  },
  {
   "cell_type": "code",
   "execution_count": null,
   "metadata": {
    "collapsed": false,
    "scrolled": true
   },
   "outputs": [],
   "source": [
    "data.ETHNIC_CAT.value_counts(ascending=True, dropna=False)"
   ]
  },
  {
   "cell_type": "code",
   "execution_count": null,
   "metadata": {
    "collapsed": false
   },
   "outputs": [],
   "source": [
    "data.ETHNIC_CAT.value_counts(ascending=True, sort=True, dropna=False).plot(kind='bar', title='Bar Plot of Ethnicity')\n",
    "plt.xlabel('Ethnicity')\n",
    "plt.ylabel('Count')"
   ]
  },
  {
   "cell_type": "markdown",
   "metadata": {},
   "source": [
    "**Ethnicity and Perceived Stress**"
   ]
  },
  {
   "cell_type": "code",
   "execution_count": null,
   "metadata": {
    "collapsed": false
   },
   "outputs": [],
   "source": [
    " data.groupby('ETHNIC_CAT').P_STRESS.describe()"
   ]
  },
  {
   "cell_type": "code",
   "execution_count": null,
   "metadata": {
    "collapsed": false
   },
   "outputs": [],
   "source": [
    "data.boxplot(column='P_STRESS', by = 'ETHNIC_CAT')\n",
    "plt.xlabel('Ethnicity')\n",
    "plt.ylabel('Perceived Stress')"
   ]
  },
  {
   "cell_type": "markdown",
   "metadata": {},
   "source": [
    "**Ethnicity and Age**"
   ]
  },
  {
   "cell_type": "code",
   "execution_count": null,
   "metadata": {
    "collapsed": false
   },
   "outputs": [],
   "source": [
    "data.ETHNIC_CAT.isnull().sum()     # no null values hurrah!"
   ]
  },
  {
   "cell_type": "code",
   "execution_count": null,
   "metadata": {
    "collapsed": false
   },
   "outputs": [],
   "source": [
    "data.groupby('ETHNIC_CAT').AGE0.describe()"
   ]
  },
  {
   "cell_type": "code",
   "execution_count": null,
   "metadata": {
    "collapsed": false
   },
   "outputs": [],
   "source": [
    "data.boxplot(column='AGE0', by = 'ETHNIC_CAT')\n",
    "plt.xlabel('Ethnicity')\n",
    "plt.ylabel('Perceived Stress')"
   ]
  },
  {
   "cell_type": "markdown",
   "metadata": {},
   "source": [
    "**Ethnicity and Education**"
   ]
  },
  {
   "cell_type": "code",
   "execution_count": null,
   "metadata": {
    "collapsed": false
   },
   "outputs": [],
   "source": [
    "data.groupby('ETHNIC_CAT').DEGREE.value_counts(ascending=True, sort=False, dropna=False)"
   ]
  },
  {
   "cell_type": "code",
   "execution_count": null,
   "metadata": {
    "collapsed": false
   },
   "outputs": [],
   "source": [
    "data.groupby('DEGREE').ETHNIC_CAT.value_counts(ascending=True, sort=True, dropna=False)"
   ]
  },
  {
   "cell_type": "markdown",
   "metadata": {},
   "source": [
    "##Race"
   ]
  },
  {
   "cell_type": "markdown",
   "metadata": {},
   "source": [
    "Of the 3,302 participants, nearly half are Caucasian. The next largest racial group is Black (28.3%), then Asians (16.1%), and Hispanics (8.6%)."
   ]
  },
  {
   "cell_type": "code",
   "execution_count": null,
   "metadata": {
    "collapsed": false
   },
   "outputs": [],
   "source": [
    "data.RACE.value_counts(ascending=True, dropna=False)"
   ]
  },
  {
   "cell_type": "code",
   "execution_count": null,
   "metadata": {
    "collapsed": false,
    "scrolled": true
   },
   "outputs": [],
   "source": [
    "data.RACE.value_counts(ascending=True, dropna=False)/len(covariate.RACE)*100"
   ]
  },
  {
   "cell_type": "code",
   "execution_count": null,
   "metadata": {
    "collapsed": false
   },
   "outputs": [],
   "source": [
    "data.RACE.value_counts(ascending=True, sort=True, dropna=False).plot(kind='bar', title='Bar Plot of Race')\n",
    "plt.xlabel('Race')\n",
    "plt.ylabel('Count')"
   ]
  },
  {
   "cell_type": "markdown",
   "metadata": {},
   "source": [
    "**Race and Perceived Stress**"
   ]
  },
  {
   "cell_type": "markdown",
   "metadata": {},
   "source": [
    "Overall, Hispanics have the highest average perceived stress score (10.1). Blacks and Caucasians have similar average perceived stress scores, but Black perceived stress scores skew to the right. "
   ]
  },
  {
   "cell_type": "code",
   "execution_count": null,
   "metadata": {
    "collapsed": false
   },
   "outputs": [],
   "source": [
    "data.groupby('RACE').P_STRESS.describe()"
   ]
  },
  {
   "cell_type": "code",
   "execution_count": null,
   "metadata": {
    "collapsed": false
   },
   "outputs": [],
   "source": [
    "data.boxplot(column='P_STRESS', by = 'RACE')\n",
    "plt.xlabel('Race')\n",
    "plt.ylabel('Perceived Stress')"
   ]
  },
  {
   "cell_type": "markdown",
   "metadata": {},
   "source": [
    "**Race and Age**"
   ]
  },
  {
   "cell_type": "code",
   "execution_count": null,
   "metadata": {
    "collapsed": false
   },
   "outputs": [],
   "source": [
    "data.groupby('RACE').AGE0.describe()"
   ]
  },
  {
   "cell_type": "code",
   "execution_count": null,
   "metadata": {
    "collapsed": false
   },
   "outputs": [],
   "source": [
    "data.boxplot(column='AGE0', by = 'RACE')\n",
    "plt.xlabel('Race')\n",
    "plt.ylabel('Age at Baseline')"
   ]
  },
  {
   "cell_type": "markdown",
   "metadata": {
    "collapsed": true
   },
   "source": [
    "**Race and Education**"
   ]
  },
  {
   "cell_type": "code",
   "execution_count": null,
   "metadata": {
    "collapsed": false
   },
   "outputs": [],
   "source": [
    "data.groupby('RACE').DEGREE.value_counts(ascending=True, sort=False, dropna=False)"
   ]
  },
  {
   "cell_type": "code",
   "execution_count": null,
   "metadata": {
    "collapsed": false
   },
   "outputs": [],
   "source": [
    "data.groupby('DEGREE').RACE.value_counts(ascending=True, sort=True, dropna=False)"
   ]
  }
 ],
 "metadata": {
  "kernelspec": {
   "display_name": "Python 2",
   "language": "python",
   "name": "python2"
  },
  "language_info": {
   "codemirror_mode": {
    "name": "ipython",
    "version": 2
   },
   "file_extension": ".py",
   "mimetype": "text/x-python",
   "name": "python",
   "nbconvert_exporter": "python",
   "pygments_lexer": "ipython2",
   "version": "2.7.10"
  }
 },
 "nbformat": 4,
 "nbformat_minor": 0
}
