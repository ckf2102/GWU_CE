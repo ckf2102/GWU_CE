{
 "cells": [
  {
   "cell_type": "markdown",
   "metadata": {},
   "source": [
    "#**Data Exploration**"
   ]
  },
  {
   "cell_type": "markdown",
   "metadata": {},
   "source": [
    "## Importing Data"
   ]
  },
  {
   "cell_type": "code",
   "execution_count": 3,
   "metadata": {
    "collapsed": false
   },
   "outputs": [],
   "source": [
    "import pandas as pd\n",
    "import numpy as np\n",
    "import matplotlib.pyplot as plt\n",
    "%matplotlib inline\n",
    "\n",
    "data = pd.read_csv('99053_AllData.csv')\n",
    "\n",
    "pd.set_option('display.max_rows', 120)"
   ]
  },
  {
   "cell_type": "markdown",
   "metadata": {},
   "source": [
    "## Some data cleaning\n",
    "\n",
    "Change all missing or NA values to numpy nan"
   ]
  },
  {
   "cell_type": "code",
   "execution_count": 4,
   "metadata": {
    "collapsed": true
   },
   "outputs": [],
   "source": [
    "data.replace(' ', np.nan, inplace=True)\n",
    "data.replace('-9', np.nan, inplace=True)\n",
    "data.replace('-1', np.nan, inplace=True)"
   ]
  },
  {
   "cell_type": "markdown",
   "metadata": {},
   "source": [
    "Converting object type to float"
   ]
  },
  {
   "cell_type": "code",
   "execution_count": 5,
   "metadata": {
    "collapsed": true
   },
   "outputs": [],
   "source": [
    "data.dtypes\n",
    "\n",
    "    # data types that need to change from object to float\n",
    "    # AGE0, INTDAY7, AGE7,INTDAY10, AGE10, P_STRESS, BMI0, BMI7, BMI10\n",
    "\n",
    "data[['AGE0', 'INTDAY7', 'AGE7','INTDAY10', 'AGE10', 'P_STRESS', 'BMI0', 'BMI7', 'BMI10']] = data[['AGE0', 'INTDAY7', 'AGE7','INTDAY10', 'AGE10', 'P_STRESS', 'BMI0', 'BMI7', 'BMI10']].astype(float)"
   ]
  },
  {
   "cell_type": "markdown",
   "metadata": {},
   "source": [
    "Adding a race column to combine Japanese and Chinese to Asian, rewriting Ethnic categories to show Ethnicity name instead of data code"
   ]
  },
  {
   "cell_type": "code",
   "execution_count": 6,
   "metadata": {
    "collapsed": true
   },
   "outputs": [],
   "source": [
    "data['RACE'] = data.ETHNIC.map({1:'Black', 8:'Asian', 9:'Asian', 10:'Caucasian', 13:'Hispanic'})\n",
    "data['ETHNIC_CAT'] = data.ETHNIC.map({1:'Black', 8:'Japanese', 9:'Chinese', 10:'Caucasian', 13:'Hispanic'})"
   ]
  },
  {
   "cell_type": "markdown",
   "metadata": {},
   "source": [
    "##Handling Null Values\n",
    "\n",
    "dot dot dot"
   ]
  },
  {
   "cell_type": "code",
   "execution_count": 40,
   "metadata": {
    "collapsed": false
   },
   "outputs": [
    {
     "data": {
      "text/plain": [
       "SWANID                0\n",
       "AGE0                  5\n",
       "COURTES0             12\n",
       "RESPECT0             13\n",
       "POORSER0              8\n",
       "NOTSMAR0             10\n",
       "AFRAIDO0              9\n",
       "DISHONS0             10\n",
       "BETTER0               8\n",
       "INSULTE0              9\n",
       "HARASSE0              8\n",
       "IGNORED0              8\n",
       "DISC_AVGSCORE0        6\n",
       "DISC_SUMSCORE0        0\n",
       "MAINREA0           1791\n",
       "RACE_REASON0       1788\n",
       "INTDAY7             982\n",
       "AGE7                982\n",
       "COURTES7           1146\n",
       "RESPECT7           1147\n",
       "POORSER7           1146\n",
       "NOTSMAR7           1146\n",
       "AFRAIDO7           1146\n",
       "DISHONS7           1146\n",
       "BETTER7            1146\n",
       "INSULTE7           1146\n",
       "HARASSE7           1146\n",
       "IGNORED7           1146\n",
       "DISC_AVGSCORE7     1147\n",
       "DISC_SUMSCORE7     1147\n",
       "BCRACE7            2330\n",
       "BCETHN7            2330\n",
       "BCGENDR7           2329\n",
       "BCAGE7             2329\n",
       "BCINCML7           2329\n",
       "BCLANG7            2330\n",
       "BCWGHT7            2330\n",
       "BCPHAPP7           2329\n",
       "BCORIEN7           2329\n",
       "OTHEREX7           2329\n",
       "RACE_REASON7       2297\n",
       "INTDAY10           1063\n",
       "AGE10              1063\n",
       "COURTES10          1227\n",
       "RESPECT10          1227\n",
       "POORSER10          1227\n",
       "NOTSMAR10          1227\n",
       "AFRAIDO10          1227\n",
       "DISHONS10          1227\n",
       "BETTER10           1227\n",
       "INSULTE10          1227\n",
       "HARASSE10          1228\n",
       "IGNORED10          1227\n",
       "DISC_AVGSCORE10    1228\n",
       "DISC_SUMSCORE10    1228\n",
       "BCRACE10           2472\n",
       "BCETHN10           2472\n",
       "BCGENDR10          2472\n",
       "BCAGE10            2472\n",
       "BCINCML10          2472\n",
       "BCLANG10           2472\n",
       "BCWGHT10           2472\n",
       "BCPHAPP10          2472\n",
       "BCORIEN10          2472\n",
       "OTHEREX10          2472\n",
       "RACE_REASON10      2433\n",
       "P_STRESS            108\n",
       "INCOME0              18\n",
       "DEGREE               31\n",
       "PHY_ACT_COV           3\n",
       "BMI0                 42\n",
       "ETHNIC                0\n",
       "SYSBP10               9\n",
       "SYSBP20              12\n",
       "SYSBP30              20\n",
       "BP0                  11\n",
       "CHOLRES0             23\n",
       "HDLRESU0             23\n",
       "SMOKENO0           1908\n",
       "DIABETE0             54\n",
       "SYSBP0                7\n",
       "SMOKERSTAT0           0\n",
       "BPMEDSTAT0            0\n",
       "DIABSTAT0             0\n",
       "LV_AGE0              35\n",
       "SYSBP17            1245\n",
       "SYSBP27            1252\n",
       "BP17                982\n",
       "CHOLRES7           1302\n",
       "HDLRESU7           1303\n",
       "AVCIGDA7           2988\n",
       "DIABETE7            982\n",
       "SYSBP7             1245\n",
       "SMOKERSTAT7         975\n",
       "BPMEDSTAT7          975\n",
       "DIABSTAT7           975\n",
       "LV_AGE7            1374\n",
       "BV_AGE0              54\n",
       "BMI7               1248\n",
       "BV_AGE7            1261\n",
       "SYSBP110           1349\n",
       "SYSBP210           1351\n",
       "BP110              1065\n",
       "AVCIGDA10          3026\n",
       "BMI10              1355\n",
       "DIABETE10          1065\n",
       "SMOKERSTAT10       1057\n",
       "BPMEDSTAT10        1057\n",
       "DIABSTAT10         1057\n",
       "BV_AGE10           1361\n",
       "RACE                  0\n",
       "ETHNIC_CAT            0\n",
       "dtype: int64"
      ]
     },
     "execution_count": 40,
     "metadata": {},
     "output_type": "execute_result"
    }
   ],
   "source": [
    "data.isnull().sum()"
   ]
  },
  {
   "cell_type": "code",
   "execution_count": 14,
   "metadata": {
    "collapsed": false
   },
   "outputs": [
    {
     "data": {
      "text/plain": [
       "Caucasian    37\n",
       "Asian        35\n",
       "Hispanic     20\n",
       "Black        16\n",
       "dtype: int64"
      ]
     },
     "execution_count": 14,
     "metadata": {},
     "output_type": "execute_result"
    }
   ],
   "source": [
    "covariate[covariate.P_STRESS.isnull() == True].RACE.value_counts()"
   ]
  },
  {
   "cell_type": "code",
   "execution_count": 15,
   "metadata": {
    "collapsed": true
   },
   "outputs": [],
   "source": [
    "# Need to figure out how to handle null values\n",
    "## data.dropna()            drops a row if any values are null\n",
    "## data.dropna(how='all')   drops a row only if all values are null\n",
    "## data.dropna(subset = ['col1', 'col2', 'col4'])       # drops a row if col 1, 2, and 4 are null"
   ]
  },
  {
   "cell_type": "markdown",
   "metadata": {},
   "source": [
    "# Descriptive Analysis"
   ]
  },
  {
   "cell_type": "code",
   "execution_count": 7,
   "metadata": {
    "collapsed": true
   },
   "outputs": [],
   "source": [
    "covariate_cols = ['P_STRESS','INCOME0','DEGREE','PHY_ACT_COV','BMI0','ETHNIC', 'RACE','ETHNIC_CAT','AGE0']\n",
    "covariate = data[covariate_cols]"
   ]
  },
  {
   "cell_type": "markdown",
   "metadata": {},
   "source": [
    "##Perceived Stress"
   ]
  },
  {
   "cell_type": "markdown",
   "metadata": {},
   "source": [
    "Examining frequencies of Perceived Stress values. P_STRESS is measured from 4-20, with 20 indicating high perceived stress. There are 108 null values."
   ]
  },
  {
   "cell_type": "code",
   "execution_count": 8,
   "metadata": {
    "collapsed": false
   },
   "outputs": [
    {
     "data": {
      "text/plain": [
       "NaN    108\n",
       " 4     255\n",
       " 5     277\n",
       " 6     365\n",
       " 7     342\n",
       " 8     409\n",
       " 9     344\n",
       " 10    346\n",
       " 11    249\n",
       " 12    331\n",
       " 13    121\n",
       " 14     66\n",
       " 15     30\n",
       " 16     33\n",
       " 17     15\n",
       " 18      9\n",
       " 19      2\n",
       "dtype: int64"
      ]
     },
     "execution_count": 8,
     "metadata": {},
     "output_type": "execute_result"
    }
   ],
   "source": [
    "covariate.P_STRESS.value_counts(sort=False, dropna=False)"
   ]
  },
  {
   "cell_type": "markdown",
   "metadata": {},
   "source": [
    "The average perceived stress score is 8.6. Perceived stress scores are skewed to the left, as seen visually in the below bar and box plots. "
   ]
  },
  {
   "cell_type": "code",
   "execution_count": 9,
   "metadata": {
    "collapsed": false
   },
   "outputs": [
    {
     "data": {
      "text/plain": [
       "count    3194.000000\n",
       "mean        8.596744\n",
       "std         2.952946\n",
       "min         4.000000\n",
       "25%         6.000000\n",
       "50%         8.000000\n",
       "75%        11.000000\n",
       "max        19.000000\n",
       "Name: P_STRESS, dtype: float64"
      ]
     },
     "execution_count": 9,
     "metadata": {},
     "output_type": "execute_result"
    }
   ],
   "source": [
    "covariate.P_STRESS.describe()"
   ]
  },
  {
   "cell_type": "code",
   "execution_count": 10,
   "metadata": {
    "collapsed": false
   },
   "outputs": [
    {
     "data": {
      "text/plain": [
       "<matplotlib.text.Text at 0xc0958d0>"
      ]
     },
     "execution_count": 10,
     "metadata": {},
     "output_type": "execute_result"
    },
    {
     "data": {
      "image/png": "[encoded data removed]",
      "text/plain": [
       "<matplotlib.figure.Figure at 0x3d7ff28>"
      ]
     },
     "metadata": {},
     "output_type": "display_data"
    }
   ],
   "source": [
    "covariate.P_STRESS.plot(kind = 'hist', bins = 16, title='Histogram of Perceived Stress')\n",
    "plt.xlabel('Perceived Stress Score')\n",
    "plt.ylabel('Count')"
   ]
  },
  {
   "cell_type": "code",
   "execution_count": 11,
   "metadata": {
    "collapsed": false
   },
   "outputs": [
    {
     "data": {
      "text/plain": [
       "<matplotlib.text.Text at 0xc5396a0>"
      ]
     },
     "execution_count": 11,
     "metadata": {},
     "output_type": "execute_result"
    },
    {
     "data": {
      "image/png": "[encoded data removed]",
      "text/plain": [
       "<matplotlib.figure.Figure at 0x3cb8a58>"
      ]
     },
     "metadata": {},
     "output_type": "display_data"
    }
   ],
   "source": [
    "covariate.P_STRESS.value_counts(sort=False, dropna=False).plot(kind='bar', title='Bar Plot of Perceived Stress (includes null)')\n",
    "plt.xlabel('Perceived Stress Score')\n",
    "plt.ylabel('Count')"
   ]
  },
  {
   "cell_type": "code",
   "execution_count": 12,
   "metadata": {
    "collapsed": false
   },
   "outputs": [
    {
     "data": {
      "text/plain": [
       "<matplotlib.axes._subplots.AxesSubplot at 0xc2c4e10>"
      ]
     },
     "execution_count": 12,
     "metadata": {},
     "output_type": "execute_result"
    },
    {
     "data": {
      "image/png": "[encoded data removed]",
      "text/plain": [
       "<matplotlib.figure.Figure at 0xc697710>"
      ]
     },
     "metadata": {},
     "output_type": "display_data"
    }
   ],
   "source": [
    "covariate.P_STRESS.plot(kind='box', title='Boxplot of Perceived Stress')"
   ]
  },
  {
   "cell_type": "markdown",
   "metadata": {},
   "source": [
    "##Ethnicity\n",
    "*note: the next couple cells will be repeated for race*"
   ]
  },
  {
   "cell_type": "code",
   "execution_count": 16,
   "metadata": {
    "collapsed": false,
    "scrolled": true
   },
   "outputs": [
    {
     "data": {
      "text/plain": [
       "Japanese      250\n",
       "Chinese       281\n",
       "Hispanic      285\n",
       "Black         935\n",
       "Caucasian    1551\n",
       "dtype: int64"
      ]
     },
     "execution_count": 16,
     "metadata": {},
     "output_type": "execute_result"
    }
   ],
   "source": [
    "covariate.ETHNIC_CAT.value_counts(ascending=True, dropna=False)"
   ]
  },
  {
   "cell_type": "code",
   "execution_count": 17,
   "metadata": {
    "collapsed": false
   },
   "outputs": [
    {
     "data": {
      "text/plain": [
       "<matplotlib.text.Text at 0xd5c1198>"
      ]
     },
     "execution_count": 17,
     "metadata": {},
     "output_type": "execute_result"
    },
    {
     "data": {
      "image/png": "[encoded data removed]",
      "text/plain": [
       "<matplotlib.figure.Figure at 0xc697d30>"
      ]
     },
     "metadata": {},
     "output_type": "display_data"
    }
   ],
   "source": [
    "covariate.ETHNIC_CAT.value_counts(ascending=True, sort=True, dropna=False).plot(kind='bar', title='Bar Plot of Ethnicity')\n",
    "plt.xlabel('Ethnicity')\n",
    "plt.ylabel('Count')"
   ]
  },
  {
   "cell_type": "markdown",
   "metadata": {},
   "source": [
    "**Ethnicity and Perceived Stress**"
   ]
  },
  {
   "cell_type": "code",
   "execution_count": 18,
   "metadata": {
    "collapsed": false
   },
   "outputs": [
    {
     "data": {
      "text/plain": [
       "ETHNIC_CAT       \n",
       "Black       count     919.000000\n",
       "            mean        8.491839\n",
       "            std         3.086214\n",
       "            min         4.000000\n",
       "            25%         6.000000\n",
       "            50%         8.000000\n",
       "            75%        11.000000\n",
       "            max        19.000000\n",
       "Caucasian   count    1514.000000\n",
       "            mean        8.435271\n",
       "            std         2.900892\n",
       "            min         4.000000\n",
       "            25%         6.000000\n",
       "            50%         8.000000\n",
       "            75%        10.000000\n",
       "            max        19.000000\n",
       "Chinese     count     266.000000\n",
       "            mean        8.770677\n",
       "            std         2.692415\n",
       "            min         4.000000\n",
       "            25%         7.000000\n",
       "            50%         9.000000\n",
       "            75%        10.000000\n",
       "            max        18.000000\n",
       "Hispanic    count     265.000000\n",
       "            mean       10.067925\n",
       "            std         3.030637\n",
       "            min         4.000000\n",
       "            25%         8.000000\n",
       "            50%        11.000000\n",
       "            75%        12.000000\n",
       "            max        18.000000\n",
       "Japanese    count     230.000000\n",
       "            mean        8.182609\n",
       "            std         2.428300\n",
       "            min         4.000000\n",
       "            25%         6.000000\n",
       "            50%         8.000000\n",
       "            75%        10.000000\n",
       "            max        17.000000\n",
       "dtype: float64"
      ]
     },
     "execution_count": 18,
     "metadata": {},
     "output_type": "execute_result"
    }
   ],
   "source": [
    " covariate.groupby('ETHNIC_CAT').P_STRESS.describe()"
   ]
  },
  {
   "cell_type": "code",
   "execution_count": 19,
   "metadata": {
    "collapsed": false
   },
   "outputs": [
    {
     "data": {
      "text/plain": [
       "<matplotlib.text.Text at 0xc706550>"
      ]
     },
     "execution_count": 19,
     "metadata": {},
     "output_type": "execute_result"
    },
    {
     "data": {
      "image/png": "[encoded data removed]",
      "text/plain": [
       "<matplotlib.figure.Figure at 0xd5da2b0>"
      ]
     },
     "metadata": {},
     "output_type": "display_data"
    }
   ],
   "source": [
    "covariate.boxplot(column='P_STRESS', by = 'ETHNIC_CAT')\n",
    "plt.xlabel('Ethnicity')\n",
    "plt.ylabel('Perceived Stress')"
   ]
  },
  {
   "cell_type": "markdown",
   "metadata": {},
   "source": [
    "**Ethnicity and Age**"
   ]
  },
  {
   "cell_type": "code",
   "execution_count": 20,
   "metadata": {
    "collapsed": false
   },
   "outputs": [
    {
     "data": {
      "text/plain": [
       "0"
      ]
     },
     "execution_count": 20,
     "metadata": {},
     "output_type": "execute_result"
    }
   ],
   "source": [
    "covariate.ETHNIC_CAT.isnull().sum()     # no null values hurrah!"
   ]
  },
  {
   "cell_type": "code",
   "execution_count": 21,
   "metadata": {
    "collapsed": false
   },
   "outputs": [
    {
     "data": {
      "text/plain": [
       "ETHNIC_CAT       \n",
       "Black       count     934.000000\n",
       "            mean       45.739829\n",
       "            std         2.660049\n",
       "            min        42.000000\n",
       "            25%        43.250000\n",
       "            50%        46.000000\n",
       "            75%        48.000000\n",
       "            max        53.000000\n",
       "Caucasian   count    1549.000000\n",
       "            mean       45.834732\n",
       "            std         2.706783\n",
       "            min        42.000000\n",
       "            25%        44.000000\n",
       "            50%        46.000000\n",
       "            75%        48.000000\n",
       "            max        53.000000\n",
       "Chinese     count     281.000000\n",
       "            mean       46.153025\n",
       "            std         2.670219\n",
       "            min        42.000000\n",
       "            25%        44.000000\n",
       "            50%        46.000000\n",
       "            75%        48.000000\n",
       "            max        52.000000\n",
       "Hispanic    count     283.000000\n",
       "            mean       45.855124\n",
       "            std         2.791235\n",
       "            min        42.000000\n",
       "            25%        44.000000\n",
       "            50%        46.000000\n",
       "            75%        48.000000\n",
       "            max        53.000000\n",
       "Japanese    count     250.000000\n",
       "            mean       46.004000\n",
       "            std         2.579652\n",
       "            min        42.000000\n",
       "            25%        44.000000\n",
       "            50%        46.000000\n",
       "            75%        48.000000\n",
       "            max        52.000000\n",
       "dtype: float64"
      ]
     },
     "execution_count": 21,
     "metadata": {},
     "output_type": "execute_result"
    }
   ],
   "source": [
    " covariate.groupby('ETHNIC_CAT').AGE0.describe()"
   ]
  },
  {
   "cell_type": "code",
   "execution_count": 22,
   "metadata": {
    "collapsed": false
   },
   "outputs": [
    {
     "data": {
      "text/plain": [
       "<matplotlib.text.Text at 0xdbba8d0>"
      ]
     },
     "execution_count": 22,
     "metadata": {},
     "output_type": "execute_result"
    },
    {
     "data": {
      "image/png": "[encoded data removed]",
      "text/plain": [
       "<matplotlib.figure.Figure at 0xdb18940>"
      ]
     },
     "metadata": {},
     "output_type": "display_data"
    }
   ],
   "source": [
    "covariate.boxplot(column='AGE0', by = 'ETHNIC_CAT')\n",
    "plt.xlabel('Ethnicity')\n",
    "plt.ylabel('Perceived Stress')"
   ]
  },
  {
   "cell_type": "markdown",
   "metadata": {},
   "source": [
    "**Ethnicity and Education**"
   ]
  },
  {
   "cell_type": "code",
   "execution_count": 23,
   "metadata": {
    "collapsed": false
   },
   "outputs": [
    {
     "data": {
      "text/plain": [
       "ETHNIC_CAT     \n",
       "Black       NaN     11\n",
       "            1       52\n",
       "            3      376\n",
       "            2      197\n",
       "            5      153\n",
       "            4      146\n",
       "Caucasian   NaN     11\n",
       "            2      227\n",
       "            4      337\n",
       "            1       23\n",
       "            3      472\n",
       "            5      481\n",
       "Chinese     1        2\n",
       "            3       97\n",
       "            2       49\n",
       "            5       47\n",
       "            4       86\n",
       "Hispanic    NaN      9\n",
       "            1      129\n",
       "            3       52\n",
       "            2       68\n",
       "            5        7\n",
       "            4       20\n",
       "Japanese    1       32\n",
       "            3       54\n",
       "            2       40\n",
       "            5       52\n",
       "            4       72\n",
       "dtype: int64"
      ]
     },
     "execution_count": 23,
     "metadata": {},
     "output_type": "execute_result"
    }
   ],
   "source": [
    " covariate.groupby('ETHNIC_CAT').DEGREE.value_counts(ascending=True, sort=False, dropna=False)"
   ]
  },
  {
   "cell_type": "code",
   "execution_count": 24,
   "metadata": {
    "collapsed": false
   },
   "outputs": [
    {
     "data": {
      "text/plain": [
       "DEGREE           \n",
       "1       Chinese        2\n",
       "        Caucasian     23\n",
       "        Japanese      32\n",
       "        Black         52\n",
       "        Hispanic     129\n",
       "2       Japanese      40\n",
       "        Chinese       49\n",
       "        Hispanic      68\n",
       "        Black        197\n",
       "        Caucasian    227\n",
       "3       Hispanic      52\n",
       "        Japanese      54\n",
       "        Chinese       97\n",
       "        Black        376\n",
       "        Caucasian    472\n",
       "4       Hispanic      20\n",
       "        Japanese      72\n",
       "        Chinese       86\n",
       "        Black        146\n",
       "        Caucasian    337\n",
       "5       Hispanic       7\n",
       "        Chinese       47\n",
       "        Japanese      52\n",
       "        Black        153\n",
       "        Caucasian    481\n",
       "dtype: int64"
      ]
     },
     "execution_count": 24,
     "metadata": {},
     "output_type": "execute_result"
    }
   ],
   "source": [
    "covariate.groupby('DEGREE').ETHNIC_CAT.value_counts(ascending=True, sort=True, dropna=False)"
   ]
  },
  {
   "cell_type": "markdown",
   "metadata": {},
   "source": [
    "##Race"
   ]
  },
  {
   "cell_type": "markdown",
   "metadata": {},
   "source": [
    "Of the 3,302 participants, nearly half are Caucasian. The next largest racial group is Black (28.3%), then Asians (16.1%), and Hispanics (8.6%)."
   ]
  },
  {
   "cell_type": "code",
   "execution_count": 29,
   "metadata": {
    "collapsed": false
   },
   "outputs": [
    {
     "data": {
      "text/plain": [
       "Hispanic      285\n",
       "Asian         531\n",
       "Black         935\n",
       "Caucasian    1551\n",
       "dtype: int64"
      ]
     },
     "execution_count": 29,
     "metadata": {},
     "output_type": "execute_result"
    }
   ],
   "source": [
    "covariate.RACE.value_counts(ascending=True, dropna=False)"
   ]
  },
  {
   "cell_type": "code",
   "execution_count": 30,
   "metadata": {
    "collapsed": false,
    "scrolled": true
   },
   "outputs": [
    {
     "data": {
      "text/plain": [
       "Hispanic      8.631133\n",
       "Asian        16.081163\n",
       "Black        28.316172\n",
       "Caucasian    46.971532\n",
       "dtype: float64"
      ]
     },
     "execution_count": 30,
     "metadata": {},
     "output_type": "execute_result"
    }
   ],
   "source": [
    "covariate.RACE.value_counts(ascending=True, dropna=False)/len(covariate.RACE)*100"
   ]
  },
  {
   "cell_type": "code",
   "execution_count": 31,
   "metadata": {
    "collapsed": false
   },
   "outputs": [
    {
     "data": {
      "text/plain": [
       "<matplotlib.text.Text at 0xde5c828>"
      ]
     },
     "execution_count": 31,
     "metadata": {},
     "output_type": "execute_result"
    },
    {
     "data": {
      "image/png": "[encoded data removed]",
      "text/plain": [
       "<matplotlib.figure.Figure at 0xd815828>"
      ]
     },
     "metadata": {},
     "output_type": "display_data"
    }
   ],
   "source": [
    "covariate.RACE.value_counts(ascending=True, sort=True, dropna=False).plot(kind='bar', title='Bar Plot of Race')\n",
    "plt.xlabel('Race')\n",
    "plt.ylabel('Count')"
   ]
  },
  {
   "cell_type": "markdown",
   "metadata": {},
   "source": [
    "**Race and Perceived Stress**"
   ]
  },
  {
   "cell_type": "markdown",
   "metadata": {},
   "source": [
    "Overall, Hispanics have the highest average perceived stress score (10.1). Blacks and Caucasians have similar average perceived stress scores, but Black perceived stress scores skew to the right. "
   ]
  },
  {
   "cell_type": "code",
   "execution_count": 34,
   "metadata": {
    "collapsed": false
   },
   "outputs": [
    {
     "data": {
      "text/plain": [
       "RACE            \n",
       "Asian      count     496.000000\n",
       "           mean        8.497984\n",
       "           std         2.587459\n",
       "           min         4.000000\n",
       "           25%         7.000000\n",
       "           50%         9.000000\n",
       "           75%        10.000000\n",
       "           max        18.000000\n",
       "Black      count     919.000000\n",
       "           mean        8.491839\n",
       "           std         3.086214\n",
       "           min         4.000000\n",
       "           25%         6.000000\n",
       "           50%         8.000000\n",
       "           75%        11.000000\n",
       "           max        19.000000\n",
       "Caucasian  count    1514.000000\n",
       "           mean        8.435271\n",
       "           std         2.900892\n",
       "           min         4.000000\n",
       "           25%         6.000000\n",
       "           50%         8.000000\n",
       "           75%        10.000000\n",
       "           max        19.000000\n",
       "Hispanic   count     265.000000\n",
       "           mean       10.067925\n",
       "           std         3.030637\n",
       "           min         4.000000\n",
       "           25%         8.000000\n",
       "           50%        11.000000\n",
       "           75%        12.000000\n",
       "           max        18.000000\n",
       "dtype: float64"
      ]
     },
     "execution_count": 34,
     "metadata": {},
     "output_type": "execute_result"
    }
   ],
   "source": [
    " covariate.groupby('RACE').P_STRESS.describe()"
   ]
  },
  {
   "cell_type": "code",
   "execution_count": 37,
   "metadata": {
    "collapsed": false
   },
   "outputs": [
    {
     "data": {
      "text/plain": [
       "<matplotlib.text.Text at 0xea41be0>"
      ]
     },
     "execution_count": 37,
     "metadata": {},
     "output_type": "execute_result"
    },
    {
     "data": {
      "image/png": "[encoded data removed]",
      "text/plain": [
       "<matplotlib.figure.Figure at 0xe38e860>"
      ]
     },
     "metadata": {},
     "output_type": "display_data"
    }
   ],
   "source": [
    "covariate.boxplot(column='P_STRESS', by = 'RACE')\n",
    "plt.xlabel('Race')\n",
    "plt.ylabel('Perceived Stress')"
   ]
  },
  {
   "cell_type": "markdown",
   "metadata": {},
   "source": [
    "**Race and Age**"
   ]
  },
  {
   "cell_type": "code",
   "execution_count": 38,
   "metadata": {
    "collapsed": false
   },
   "outputs": [
    {
     "data": {
      "text/plain": [
       "RACE            \n",
       "Asian      count     531.000000\n",
       "           mean       46.082863\n",
       "           std         2.626553\n",
       "           min        42.000000\n",
       "           25%        44.000000\n",
       "           50%        46.000000\n",
       "           75%        48.000000\n",
       "           max        52.000000\n",
       "Black      count     934.000000\n",
       "           mean       45.739829\n",
       "           std         2.660049\n",
       "           min        42.000000\n",
       "           25%        43.250000\n",
       "           50%        46.000000\n",
       "           75%        48.000000\n",
       "           max        53.000000\n",
       "Caucasian  count    1549.000000\n",
       "           mean       45.834732\n",
       "           std         2.706783\n",
       "           min        42.000000\n",
       "           25%        44.000000\n",
       "           50%        46.000000\n",
       "           75%        48.000000\n",
       "           max        53.000000\n",
       "Hispanic   count     283.000000\n",
       "           mean       45.855124\n",
       "           std         2.791235\n",
       "           min        42.000000\n",
       "           25%        44.000000\n",
       "           50%        46.000000\n",
       "           75%        48.000000\n",
       "           max        53.000000\n",
       "dtype: float64"
      ]
     },
     "execution_count": 38,
     "metadata": {},
     "output_type": "execute_result"
    }
   ],
   "source": [
    " covariate.groupby('RACE').AGE0.describe()"
   ]
  },
  {
   "cell_type": "code",
   "execution_count": null,
   "metadata": {
    "collapsed": false
   },
   "outputs": [],
   "source": [
    "covariate.boxplot(column='AGE0', by = 'RACE')\n",
    "plt.xlabel('Race')\n",
    "plt.ylabel('Age at Baseline')"
   ]
  },
  {
   "cell_type": "markdown",
   "metadata": {
    "collapsed": true
   },
   "source": [
    "**Race and Education**"
   ]
  },
  {
   "cell_type": "code",
   "execution_count": null,
   "metadata": {
    "collapsed": false
   },
   "outputs": [],
   "source": [
    " covariate.groupby('RACE').DEGREE.value_counts(ascending=True, sort=False, dropna=False)"
   ]
  },
  {
   "cell_type": "code",
   "execution_count": null,
   "metadata": {
    "collapsed": false
   },
   "outputs": [],
   "source": [
    "covariate.groupby('DEGREE').RACE.value_counts(ascending=True, sort=True, dropna=False)"
   ]
  }
 ],
 "metadata": {
  "kernelspec": {
   "display_name": "Python 2",
   "language": "python",
   "name": "python2"
  },
  "language_info": {
   "codemirror_mode": {
    "name": "ipython",
    "version": 2
   },
   "file_extension": ".py",
   "mimetype": "text/x-python",
   "name": "python",
   "nbconvert_exporter": "python",
   "pygments_lexer": "ipython2",
   "version": "2.7.10"
  }
 },
 "nbformat": 4,
 "nbformat_minor": 0
}
