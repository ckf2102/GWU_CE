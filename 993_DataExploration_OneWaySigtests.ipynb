{
 "cells": [
  {
   "cell_type": "code",
   "execution_count": 140,
   "metadata": {
    "collapsed": false
   },
   "outputs": [],
   "source": [
    "import pandas as pd\n",
    "import numpy as np\n",
    "import matplotlib.pyplot as plt\n",
    "import scipy as sp\n",
    "from scipy import stats\n",
    "import scipy.stats.mstats as mst\n",
    "import statsmodels.formula.api as smf\n",
    "\n",
    "%matplotlib inline\n",
    "\n",
    "data = pd.read_csv('991_CleanedData.csv', low_memory=False)"
   ]
  },
  {
   "cell_type": "code",
   "execution_count": 141,
   "metadata": {
    "collapsed": true
   },
   "outputs": [],
   "source": [
    "black = data[data.RACE == 'Black']\n",
    "asian = data[data.RACE == 'Asian']\n",
    "white = data[data.RACE == 'Caucasian']\n",
    "hispanic = data[data.RACE == 'Hispanic']"
   ]
  },
  {
   "cell_type": "markdown",
   "metadata": {},
   "source": [
    "#Significance across Racial Categories#"
   ]
  },
  {
   "cell_type": "code",
   "execution_count": 142,
   "metadata": {
    "collapsed": true
   },
   "outputs": [],
   "source": [
    "black = data[data.RACE == 'Black']\n",
    "asian = data[data.RACE == 'Asian']\n",
    "white = data[data.RACE == 'Caucasian']\n",
    "hispanic = data[data.RACE == 'Hispanic']"
   ]
  },
  {
   "cell_type": "markdown",
   "metadata": {},
   "source": [
    "Testing for significance across racial categories (nominal variable) vs:\n",
    "- Age (continuous)\n",
    "- BMI (continuous)\n",
    "- Discrimination score (continuous)\n",
    "- Discrimination category (nominal)\n",
    "- History of CVD (nominal)\n",
    "- Education (greater than HS) (nominal)\n",
    "- Income (greater than 50K) (nominal)\n",
    "- CRP level (continuous)\n",
    "- Perceived stress (continuous)"
   ]
  },
  {
   "cell_type": "markdown",
   "metadata": {},
   "source": [
    "###ANOVA (normal) or Kruskal-Wallis (non-parametric) tests for continuous variables###\n",
    "- Age\n",
    "- BMI\n",
    "- Discrimination score\n",
    "- CRP\n",
    "- Perceived stress"
   ]
  },
  {
   "cell_type": "code",
   "execution_count": 143,
   "metadata": {
    "collapsed": false
   },
   "outputs": [],
   "source": [
    "cont_race = ['AGE0', 'BMI0', 'DISC_SCORE0', 'CRPRESU0', 'P_STRESS']\n",
    "\n",
    "mean_race = []\n",
    "std_race = []\n",
    "\n",
    "for x in cont_race:\n",
    "    mean_race.append([x, black[x].mean(), asian[x].mean(), white[x].mean(), hispanic[x].mean()])\n",
    "    std_race.append([x, black[x].std(), asian[x].std(), white[x].std(), hispanic[x].std()]) "
   ]
  },
  {
   "cell_type": "code",
   "execution_count": 144,
   "metadata": {
    "collapsed": false
   },
   "outputs": [],
   "source": [
    "mr_array = np.array(mean_race)\n",
    "stdr_array = np.array(std_race)"
   ]
  },
  {
   "cell_type": "code",
   "execution_count": 145,
   "metadata": {
    "collapsed": false
   },
   "outputs": [
    {
     "name": "stdout",
     "output_type": "stream",
     "text": [
      "Average values, order = black, asian, white, hispanic\n",
      "[['AGE0' '45.7472885033' '46.0888468809' '45.8358404186' '45.8368794326']\n",
      " ['BMI0' '31.639420505' '23.1275045232' '27.7705893783' '29.4249467314']\n",
      " ['DISC_SCORE0' '1.92379790311' '1.72354547364' '1.68444153768'\n",
      "  '1.2328999212']\n",
      " ['CRPRESU0' '5.87169303537' '1.478875817' '3.5022310661' '4.04400471128']\n",
      " ['P_STRESS' '8.46583582832' '8.51565715737' '8.4452469825' '9.9640985537']]\n",
      "\n",
      "Std values, order = black, asian, white, hispanic\n",
      "[['AGE0' '2.66071231702' '2.62953223336' '2.71362134458' '2.77924210329']\n",
      " ['BMI0' '7.69146586484' '3.85451094058' '6.78291193244' '5.91095945042']\n",
      " ['DISC_SCORE0' '0.533526767596' '0.492036160397' '0.432333073853'\n",
      "  '0.371459131112']\n",
      " ['CRPRESU0' '7.56264085088' '3.76998057149' '5.78484417388'\n",
      "  '5.39050182258']\n",
      " ['P_STRESS' '3.03214135714' '2.49836241617' '2.87105341446'\n",
      "  '2.94745506951']]\n"
     ]
    }
   ],
   "source": [
    "print \"Average values, order = black, asian, white, hispanic\"\n",
    "print (mr_array)\n",
    "print \"\"\n",
    "print \"Std values, order = black, asian, white, hispanic\"\n",
    "print (stdr_array)"
   ]
  },
  {
   "cell_type": "code",
   "execution_count": 146,
   "metadata": {
    "collapsed": false,
    "scrolled": true
   },
   "outputs": [
    {
     "data": {
      "text/plain": [
       "[['AGE0', 1.8526219697166522, 0.13544527182025834],\n",
       " ['BMI0', 192.22532048436685, 8.9365946153013265e-115],\n",
       " ['DISC_SCORE0', 162.8801318715054, 2.2467131959013777e-98],\n",
       " ['CRPRESU0', 63.015209803718591, 1.3379718131206926e-39],\n",
       " ['P_STRESS', 23.567572160040672, 4.359403329133781e-15]]"
      ]
     },
     "execution_count": 146,
     "metadata": {},
     "output_type": "execute_result"
    }
   ],
   "source": [
    "results_anova = []\n",
    "\n",
    "for x in cont_race:\n",
    "    f_val, p_val = stats.f_oneway(black[x], asian[x], white[x], hispanic[x])\n",
    "    results_anova.append([x, f_val, p_val])\n",
    "\n",
    "results_anova"
   ]
  },
  {
   "cell_type": "code",
   "execution_count": 147,
   "metadata": {
    "collapsed": false,
    "scrolled": true
   },
   "outputs": [
    {
     "data": {
      "text/plain": [
       "[['AGE0', 6.7611957141592844, 0.079911599310126355],\n",
       " ['BMI0', 614.63690588520717, 6.7646596232844907e-133],\n",
       " ['DISC_SCORE0', 439.11841853626896, 7.42785659032371e-95],\n",
       " ['CRPRESU0', 420.30343362258805, 8.8515674322415942e-91],\n",
       " ['P_STRESS', 73.909502800655403, 6.2059284032738504e-16]]"
      ]
     },
     "execution_count": 147,
     "metadata": {},
     "output_type": "execute_result"
    }
   ],
   "source": [
    "results_kw = []\n",
    "\n",
    "for x in cont_race:\n",
    "    h_val, p_val = mst.kruskalwallis(black[x], asian[x], white[x], hispanic[x])\n",
    "    results_kw.append([x, h_val, p_val])\n",
    "\n",
    "results_kw"
   ]
  },
  {
   "cell_type": "markdown",
   "metadata": {},
   "source": [
    "###Chi-Squared test for Categorical Data###\n",
    "\n",
    "- Discrimination category (high v low)\n",
    "- Income (% of participants that are above 50K, values = 3 and 4\n",
    "- Education (% of participants that are greater than high school graduate, values = 3, 4, and 5\n",
    "- History of CVD"
   ]
  },
  {
   "cell_type": "code",
   "execution_count": 148,
   "metadata": {
    "collapsed": false
   },
   "outputs": [
    {
     "data": {
      "text/plain": [
       "RACE       DISC_CAT0\n",
       "Asian      LOW          0.525520\n",
       "           HIGH         0.474480\n",
       "Black      HIGH         0.651844\n",
       "           LOW          0.348156\n",
       "Caucasian  LOW          0.530412\n",
       "           HIGH         0.469588\n",
       "Hispanic   LOW          0.730496\n",
       "           HIGH         0.269504\n",
       "dtype: float64"
      ]
     },
     "execution_count": 148,
     "metadata": {},
     "output_type": "execute_result"
    }
   ],
   "source": [
    "data.groupby('RACE').DISC_CAT0.value_counts(normalize=True)"
   ]
  },
  {
   "cell_type": "code",
   "execution_count": 149,
   "metadata": {
    "collapsed": false
   },
   "outputs": [
    {
     "data": {
      "text/plain": [
       "RACE       NEWINCOME\n",
       "Asian      1            0.691871\n",
       "           0            0.308129\n",
       "Black      0            0.600868\n",
       "           1            0.399132\n",
       "Caucasian  1            0.610857\n",
       "           0            0.389143\n",
       "Hispanic   0            0.879433\n",
       "           1            0.120567\n",
       "dtype: float64"
      ]
     },
     "execution_count": 149,
     "metadata": {},
     "output_type": "execute_result"
    }
   ],
   "source": [
    "data.groupby('RACE').NEWINCOME.value_counts(normalize=True)"
   ]
  },
  {
   "cell_type": "code",
   "execution_count": 150,
   "metadata": {
    "collapsed": false
   },
   "outputs": [
    {
     "data": {
      "text/plain": [
       "RACE       NEWEDU\n",
       "Asian      1         0.769376\n",
       "           0         0.230624\n",
       "Black      1         0.735358\n",
       "           0         0.264642\n",
       "Caucasian  1         0.839111\n",
       "           0         0.160889\n",
       "Hispanic   0         0.691489\n",
       "           1         0.308511\n",
       "dtype: float64"
      ]
     },
     "execution_count": 150,
     "metadata": {},
     "output_type": "execute_result"
    }
   ],
   "source": [
    "data.groupby('RACE').NEWEDU.value_counts(normalize=True)"
   ]
  },
  {
   "cell_type": "code",
   "execution_count": 151,
   "metadata": {
    "collapsed": false
   },
   "outputs": [
    {
     "data": {
      "text/plain": [
       "RACE       CVD\n",
       "Asian      0      0.992439\n",
       "           1      0.007561\n",
       "Black      0      0.950108\n",
       "           1      0.049892\n",
       "Caucasian  0      0.982995\n",
       "           1      0.017005\n",
       "Hispanic   0      0.946809\n",
       "           1      0.053191\n",
       "dtype: float64"
      ]
     },
     "execution_count": 151,
     "metadata": {},
     "output_type": "execute_result"
    }
   ],
   "source": [
    "data.groupby('RACE').CVD.value_counts(normalize=True)"
   ]
  },
  {
   "cell_type": "code",
   "execution_count": 152,
   "metadata": {
    "collapsed": false
   },
   "outputs": [
    {
     "data": {
      "text/plain": [
       "[['DISC_CAT0', 151.73325558443955, 1.1139279218091261e-32],\n",
       " ['NEWINCOME', 347.45758783873111, 5.2988177675961739e-75],\n",
       " ['NEWEDU', 362.42946022681332, 3.0352037235847402e-78],\n",
       " ['CVD', 37.856509954225558, 3.0312539262732809e-08]]"
      ]
     },
     "execution_count": 152,
     "metadata": {},
     "output_type": "execute_result"
    }
   ],
   "source": [
    "cat_race = ['DISC_CAT0', 'NEWINCOME', 'NEWEDU', 'CVD']\n",
    "\n",
    "results_cat = []\n",
    "\n",
    "# test = pd.pivot_table(data, values='DEGREE', index='RACE', columns='NEWEDU', aggfunc=len)\n",
    "\n",
    "for x in cat_race:\n",
    "    chi_array = pd.pivot_table(data, values='SWANID', index='RACE', columns=x, aggfunc=len)\n",
    "    chi2, p, dof, expected = stats.chi2_contingency(chi_array)\n",
    "    results_cat.append([x, chi2, p])\n",
    "\n",
    "results_cat"
   ]
  },
  {
   "cell_type": "markdown",
   "metadata": {},
   "source": [
    "#Signficance between High/Low Discrimination Classification#"
   ]
  },
  {
   "cell_type": "code",
   "execution_count": 153,
   "metadata": {
    "collapsed": true
   },
   "outputs": [],
   "source": [
    "high = data[data.DISC_CAT0 == 'HIGH']\n",
    "low = data[data.DISC_CAT0 == 'LOW']"
   ]
  },
  {
   "cell_type": "markdown",
   "metadata": {},
   "source": [
    "Testing for significance between High and Low Discrimination classification (nominal variable) vs:\n",
    "- Age (continuous)\n",
    "- BMI (continuous)\n",
    "- History of CVD (nominal)\n",
    "- Education (greater than HS) (nominal)\n",
    "- Income (greater than 50K) (nominal)\n",
    "- CRP level (continuous)\n",
    "- Perceived stress (continuous)"
   ]
  },
  {
   "cell_type": "markdown",
   "metadata": {},
   "source": [
    "###ANOVA (normal) or Kruskal-Wallis (non-parametric) tests for continuous variables:###\n",
    "\n",
    "- Age\n",
    "- BMI\n",
    "- CRP\n",
    "- Perceived Stress"
   ]
  },
  {
   "cell_type": "code",
   "execution_count": 163,
   "metadata": {
    "collapsed": false
   },
   "outputs": [],
   "source": [
    "cont_hl = ['AGE0', 'BMI0', 'CRPRESU0', 'P_STRESS']\n",
    "\n",
    "mean_hl = []\n",
    "std_hl = []\n",
    "\n",
    "for x in cont_hl:\n",
    "    mean_hl.append([x, high[x].mean(), low[x].mean()])\n",
    "    std_hl.append([x, high[x].std(), low[x].std()]) "
   ]
  },
  {
   "cell_type": "code",
   "execution_count": 164,
   "metadata": {
    "collapsed": false
   },
   "outputs": [],
   "source": [
    "mhl_array = np.array(mean_hl)\n",
    "stdhl_array = np.array(std_hl)"
   ]
  },
  {
   "cell_type": "code",
   "execution_count": 165,
   "metadata": {
    "collapsed": false
   },
   "outputs": [
    {
     "name": "stdout",
     "output_type": "stream",
     "text": [
      "Average values, order = high, low\n",
      "[['AGE0' '45.6780072904' '46.0290841584']\n",
      " ['BMI0' '29.2915615061' '27.1974947383']\n",
      " ['CRPRESU0' '4.2923509287' '3.48152059765']\n",
      " ['P_STRESS' '9.08477093141' '8.09369353047']]\n",
      "\n",
      "Std values, order = high, low\n",
      "[['AGE0' '2.63358526459' '2.73987107836']\n",
      " ['BMI0' '7.54831677555' '6.60042302557']\n",
      " ['CRPRESU0' '6.6231227088' '5.76719934717']\n",
      " ['P_STRESS' '2.97039771549' '2.733354']]\n"
     ]
    }
   ],
   "source": [
    "print \"Average values, order = high, low\"\n",
    "print (mhl_array)\n",
    "print \"\"\n",
    "print \"Std values, order = high, low\"\n",
    "print (stdhl_array)"
   ]
  },
  {
   "cell_type": "code",
   "execution_count": 166,
   "metadata": {
    "collapsed": false,
    "scrolled": true
   },
   "outputs": [
    {
     "data": {
      "text/plain": [
       "[['AGE0', 13.922986199645944, 0.0001937023530168299],\n",
       " ['BMI0', 71.041983699927641, 5.1765059445336388e-17],\n",
       " ['CRPRESU0', 13.88434075475412, 0.00019770891514352256],\n",
       " ['P_STRESS', 98.233631453013984, 7.7951120372558098e-23]]"
      ]
     },
     "execution_count": 166,
     "metadata": {},
     "output_type": "execute_result"
    }
   ],
   "source": [
    "results_anova = []\n",
    "\n",
    "for x in cont_hl:\n",
    "    f_val, p_val = stats.f_oneway(high[x], low[x])\n",
    "    results_anova.append([x, f_val, p_val])\n",
    "\n",
    "results_anova"
   ]
  },
  {
   "cell_type": "code",
   "execution_count": 167,
   "metadata": {
    "collapsed": false,
    "scrolled": true
   },
   "outputs": [
    {
     "data": {
      "text/plain": [
       "[['AGE0', 12.240688266485645, 0.00046758578234873762],\n",
       " ['BMI0', 73.48293482326568, 1.0151000839236607e-17],\n",
       " ['CRPRESU0', 25.863630179251899, 3.6640819276179106e-07],\n",
       " ['P_STRESS', 90.782916214508504, 1.6033171196056811e-21]]"
      ]
     },
     "execution_count": 167,
     "metadata": {},
     "output_type": "execute_result"
    }
   ],
   "source": [
    "results_kw = []\n",
    "\n",
    "for x in cont_hl:\n",
    "    h_val, p_val = mst.kruskalwallis(high[x], low[x])\n",
    "    results_kw.append([x, h_val, p_val])\n",
    "\n",
    "results_kw"
   ]
  },
  {
   "cell_type": "markdown",
   "metadata": {},
   "source": [
    "###Chi-Squared test for Categorical Data###\n",
    "\n",
    "- Income (% of participants that are above 50K, values = 3 and 4\n",
    "- Education (% of participants that are greater than high school graduate, values = 3, 4, and 5\n",
    "- History of CVD"
   ]
  },
  {
   "cell_type": "code",
   "execution_count": 168,
   "metadata": {
    "collapsed": false
   },
   "outputs": [
    {
     "data": {
      "text/plain": [
       "DISC_CAT0  NEWINCOME\n",
       "HIGH       0            0.524909\n",
       "           1            0.475091\n",
       "LOW        1            0.569307\n",
       "           0            0.430693\n",
       "dtype: float64"
      ]
     },
     "execution_count": 168,
     "metadata": {},
     "output_type": "execute_result"
    }
   ],
   "source": [
    "data.groupby('DISC_CAT0').NEWINCOME.value_counts(normalize=True)"
   ]
  },
  {
   "cell_type": "code",
   "execution_count": 169,
   "metadata": {
    "collapsed": false
   },
   "outputs": [
    {
     "data": {
      "text/plain": [
       "DISC_CAT0  NEWEDU\n",
       "HIGH       1         0.745443\n",
       "           0         0.254557\n",
       "LOW        1         0.759901\n",
       "           0         0.240099\n",
       "dtype: float64"
      ]
     },
     "execution_count": 169,
     "metadata": {},
     "output_type": "execute_result"
    }
   ],
   "source": [
    "data.groupby('DISC_CAT0').NEWEDU.value_counts(normalize=True)"
   ]
  },
  {
   "cell_type": "code",
   "execution_count": 170,
   "metadata": {
    "collapsed": false
   },
   "outputs": [
    {
     "data": {
      "text/plain": [
       "DISC_CAT0  CVD\n",
       "HIGH       0      0.968408\n",
       "           1      0.031592\n",
       "LOW        0      0.975866\n",
       "           1      0.024134\n",
       "dtype: float64"
      ]
     },
     "execution_count": 170,
     "metadata": {},
     "output_type": "execute_result"
    }
   ],
   "source": [
    "data.groupby('DISC_CAT0').CVD.value_counts(normalize=True)"
   ]
  },
  {
   "cell_type": "code",
   "execution_count": 171,
   "metadata": {
    "collapsed": false
   },
   "outputs": [
    {
     "data": {
      "text/plain": [
       "[['NEWINCOME', 28.631696027909694, 8.7537528767456565e-08],\n",
       " ['NEWEDU', 0.83940828081304131, 0.35956605763980687],\n",
       " ['CVD', 1.4088083578938995, 0.23525431335003533]]"
      ]
     },
     "execution_count": 171,
     "metadata": {},
     "output_type": "execute_result"
    }
   ],
   "source": [
    "cat_hl = ['NEWINCOME', 'NEWEDU', 'CVD']\n",
    "\n",
    "results_cat = []\n",
    "\n",
    "for x in cat_hl:\n",
    "    chi_array = pd.pivot_table(data, values='SWANID', index='DISC_CAT0', columns=x, aggfunc=len)\n",
    "    chi2, p, dof, expected = stats.chi2_contingency(chi_array)\n",
    "    results_cat.append([x, chi2, p])\n",
    "\n",
    "results_cat"
   ]
  }
 ],
 "metadata": {
  "kernelspec": {
   "display_name": "Python 2",
   "language": "python",
   "name": "python2"
  },
  "language_info": {
   "codemirror_mode": {
    "name": "ipython",
    "version": 2
   },
   "file_extension": ".py",
   "mimetype": "text/x-python",
   "name": "python",
   "nbconvert_exporter": "python",
   "pygments_lexer": "ipython2",
   "version": "2.7.10"
  }
 },
 "nbformat": 4,
 "nbformat_minor": 0
}
