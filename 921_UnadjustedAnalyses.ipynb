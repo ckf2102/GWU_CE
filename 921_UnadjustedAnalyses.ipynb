{
 "cells": [
  {
   "cell_type": "markdown",
   "metadata": {},
   "source": [
    "#Unadjusted Analyses#\n",
    "\n",
    "Running one way ANOVA tests (for nominal data) and unadjusted linear regression (for continuous data) with excess vascular age.\n",
    "\n",
    "##Table of Contents##\n",
    "\n",
    "**1. ANOVA: Nominal variables to be tested**\n",
    "- Race\n",
    "- Education\n",
    "- Income\n",
    "- History of CVD\n",
    "- Discrimination score classification\n",
    "\n",
    "**2. Linear regression: Continuous variables to be tested**\n",
    "- C-Reactive Protein\n",
    "- BMI"
   ]
  },
  {
   "cell_type": "code",
   "execution_count": 3,
   "metadata": {
    "collapsed": true
   },
   "outputs": [],
   "source": [
    "import pandas as pd\n",
    "import numpy as np\n",
    "import statsmodels.formula.api as smf\n",
    "import scipy as sp\n",
    "from scipy import stats\n",
    "import scipy.stats.mstats as mst\n",
    "import statsmodels.formula.api as smf\n",
    "from statsmodels.stats.anova import anova_lm\n",
    "from statsmodels.stats.multicomp import (pairwise_tukeyhsd, MultiComparison)\n",
    "\n",
    "import matplotlib.pyplot as plt\n",
    "import seaborn as sns\n",
    "\n",
    "%matplotlib inline\n",
    "\n",
    "data = pd.read_csv('901_CleanedData.csv', low_memory=False)"
   ]
  },
  {
   "cell_type": "markdown",
   "metadata": {},
   "source": [
    "Modifying the independent variable (perceived discrimination score) to make it a nominal variable.\n",
    "\n",
    "If the average discrimination score is less than two (less than a 'Once' on Likert scale) then 0, otherwise 1. In this example, 0 represents low discrimination and 1 represents high discrimination."
   ]
  },
  {
   "cell_type": "code",
   "execution_count": 4,
   "metadata": {
    "collapsed": false
   },
   "outputs": [],
   "source": [
    "def newIV(row):\n",
    "    if row['DISC_SCORE0'] < 2:\n",
    "        val = 0\n",
    "    else:\n",
    "        val = 1\n",
    "    return val\n",
    "\n",
    "data['DISC'] = data.apply(newIV, axis=1)"
   ]
  },
  {
   "cell_type": "markdown",
   "metadata": {},
   "source": [
    "##ANOVA##"
   ]
  },
  {
   "cell_type": "code",
   "execution_count": 7,
   "metadata": {
    "collapsed": true
   },
   "outputs": [],
   "source": [
    "def onewayANOVA(var, var_list):\n",
    "    formula = 'LV_AGE_DIFF0 ~ C(' + var + ')'\n",
    "    var_lm = smf.ols(formula, data).fit()\n",
    "    var_tk = pairwise_tukeyhsd(data['LV_AGE_DIFF0'], data[var])\n",
    "    var_anova = anova_lm(var_lm)\n",
    "    \n",
    "    var_ms = var_anova.mean_sq[1]\n",
    "    \n",
    "    results = []\n",
    "    \n",
    "    for x in var_list:\n",
    "        var_mean = data[data[var] == x].groupby(var).LV_AGE_DIFF0.mean()[0]\n",
    "        var_count = data[data[var] == x][var].count()\n",
    "        se = np.sqrt(var_ms/var_count)\n",
    "        tcrit = stats.t.ppf(1-0.025, var_count - 1)\n",
    "        lower = var_mean - tcrit * se\n",
    "        upper = var_mean + tcrit * se\n",
    "        results.append([x, var_count, var_mean, se, lower, upper])\n",
    "\n",
    "    print var_anova.F[0]\n",
    "    print var_anova['PR(>F)'][0]\n",
    "    print \"\"\n",
    "    \n",
    "    print var_anova\n",
    "    \n",
    "    for x in results:\n",
    "        print x\n",
    "    \n",
    "    print \"\"\n",
    "    \n",
    "    print var_tk\n",
    "    \n",
    "    return;"
   ]
  },
  {
   "cell_type": "markdown",
   "metadata": {},
   "source": [
    "###Race###"
   ]
  },
  {
   "cell_type": "code",
   "execution_count": 8,
   "metadata": {
    "collapsed": false,
    "scrolled": true
   },
   "outputs": [
    {
     "name": "stdout",
     "output_type": "stream",
     "text": [
      "110.94183462\n",
      "2.1336232527e-68\n",
      "\n",
      "            df         sum_sq       mean_sq           F        PR(>F)\n",
      "C(RACE)      3   62267.804473  20755.934824  110.941835  2.133623e-68\n",
      "Residual  3258  609534.139120    187.088440         NaN           NaN\n",
      "['Caucasian', 1529, -2.147155003270111, 0.3497999432835745, -2.8332937931605948, -1.4610162133796272]\n",
      "['Black', 922, 5.9316702819956619, 0.45046185083489021, 5.0476194977831748, 6.8157210662081491]\n",
      "['Asian', 529, -5.6105860113421553, 0.59469685450189413, -6.7788483951829912, -4.4423236275013194]\n",
      "['Hispanic', 282, 4.6950354609929077, 0.81451469362968598, 3.0917104536352329, 6.2983604683505821]\n",
      "\n",
      " Multiple Comparison of Means - Tukey HSD,FWER=0.05\n",
      "===================================================\n",
      "  group1    group2  meandiff  lower   upper  reject\n",
      "---------------------------------------------------\n",
      "  Asian     Black   11.5423   9.6247 13.4599  True \n",
      "  Asian   Caucasian  3.4634    1.69   5.2368  True \n",
      "  Asian    Hispanic 10.3056   7.7134 12.8979  True \n",
      "  Black   Caucasian -8.0788  -9.5448 -6.6129  True \n",
      "  Black    Hispanic -1.2366  -3.6291  1.1558 False \n",
      "Caucasian  Hispanic  6.8422   4.5637  9.1207  True \n",
      "---------------------------------------------------\n"
     ]
    }
   ],
   "source": [
    "race = 'RACE'\n",
    "race_list = ['Caucasian', 'Black', 'Asian', 'Hispanic']\n",
    "onewayANOVA(race, race_list)"
   ]
  },
  {
   "cell_type": "markdown",
   "metadata": {},
   "source": [
    "###Education###"
   ]
  },
  {
   "cell_type": "code",
   "execution_count": 28,
   "metadata": {
    "collapsed": false
   },
   "outputs": [
    {
     "data": {
      "text/plain": [
       "3    1069\n",
       "5     735\n",
       "4     651\n",
       "2     572\n",
       "1     235\n",
       "Name: DEGREE, dtype: int64"
      ]
     },
     "execution_count": 28,
     "metadata": {},
     "output_type": "execute_result"
    }
   ],
   "source": [
    "data.DEGREE.value_counts(dropna=False)"
   ]
  },
  {
   "cell_type": "code",
   "execution_count": 29,
   "metadata": {
    "collapsed": false
   },
   "outputs": [],
   "source": [
    "def stringy_degree(row):\n",
    "    if row['DEGREE'] == 1:\n",
    "        val = '1'\n",
    "    elif row['DEGREE'] == 2:\n",
    "        val = '2'\n",
    "    elif row['DEGREE'] == 3:\n",
    "        val = '3'\n",
    "    elif row['DEGREE'] == 4:\n",
    "        val = '4'\n",
    "    else:\n",
    "        val = '5'\n",
    "    return val\n",
    "\n",
    "data['ST_DGREE'] = data.apply(stringy_degree, axis=1)"
   ]
  },
  {
   "cell_type": "code",
   "execution_count": 30,
   "metadata": {
    "collapsed": false
   },
   "outputs": [
    {
     "name": "stdout",
     "output_type": "stream",
     "text": [
      "39.5843281698\n",
      "2.0452652722e-32\n",
      "\n",
      "['1', 235, 4.5361702127659571, 0.914892137724448, 2.7336921350213315, 6.3386482905105828]\n",
      "['2', 572, 3.4458041958041958, 0.58641600123784476, 2.2940085504221046, 4.5975998411862875]\n",
      "['3', 1069, 1.9859681945743686, 0.42895819971459653, 1.1442716960397141, 2.827664693109023]\n",
      "['4', 651, -3.2672811059907834, 0.54968429923090534, -4.3466523668495975, -2.1879098451319692]\n",
      "['5', 735, -3.3891156462585035, 0.51732105790864302, -4.4047209715926137, -2.3735103209243933]\n",
      "\n",
      "Multiple Comparison of Means - Tukey HSD,FWER=0.05\n",
      "==============================================\n",
      "group1 group2 meandiff  lower    upper  reject\n",
      "----------------------------------------------\n",
      "  1      2    -1.0904  -4.0563   1.8755 False \n",
      "  1      3    -2.5502   -5.308   0.2076 False \n",
      "  1      4    -7.8035  -10.7165 -4.8904  True \n",
      "  1      5    -7.9253  -10.7938 -5.0567  True \n",
      "  2      3    -1.4598  -3.4428   0.5232 False \n",
      "  2      4    -6.7131  -8.9068  -4.5194  True \n",
      "  2      5    -6.8349  -8.9692  -4.7007  True \n",
      "  3      4    -5.2532  -7.1562  -3.3503  True \n",
      "  3      5    -5.3751  -7.2093  -3.5409  True \n",
      "  4      5    -0.1218   -2.182   1.9383 False \n",
      "----------------------------------------------\n"
     ]
    }
   ],
   "source": [
    "edu = 'ST_DGREE'\n",
    "edu_list = ['1', '2', '3', '4', '5']\n",
    "\n",
    "onewayANOVA(edu, edu_list)"
   ]
  },
  {
   "cell_type": "markdown",
   "metadata": {},
   "source": [
    "###Income###"
   ]
  },
  {
   "cell_type": "code",
   "execution_count": 31,
   "metadata": {
    "collapsed": false
   },
   "outputs": [
    {
     "data": {
      "text/plain": [
       "3    1240\n",
       "2    1077\n",
       "1     483\n",
       "4     462\n",
       "Name: INCOME0, dtype: int64"
      ]
     },
     "execution_count": 31,
     "metadata": {},
     "output_type": "execute_result"
    }
   ],
   "source": [
    "data.INCOME0.value_counts(dropna=False)"
   ]
  },
  {
   "cell_type": "code",
   "execution_count": 32,
   "metadata": {
    "collapsed": true
   },
   "outputs": [],
   "source": [
    "def stringy_income(row):\n",
    "    if row['INCOME0'] == 1:\n",
    "        val = '1'\n",
    "    elif row['INCOME0'] == 2:\n",
    "        val = '2'\n",
    "    elif row['INCOME0'] == 3:\n",
    "        val = '3'\n",
    "    else:\n",
    "        val = '4'\n",
    "    return val\n",
    "\n",
    "data['ST_INC'] = data.apply(stringy_income, axis=1)"
   ]
  },
  {
   "cell_type": "code",
   "execution_count": 33,
   "metadata": {
    "collapsed": false
   },
   "outputs": [
    {
     "name": "stdout",
     "output_type": "stream",
     "text": [
      "52.2788142891\n",
      "5.37063239021e-33\n",
      "\n",
      "['1', 483, 6.3913043478260869, 0.63820780165243851, 5.1372911907767751, 7.6453175048753987]\n",
      "['2', 1077, 0.82636954503249771, 0.42739341107959433, -0.012249470543251539, 1.6649885606082471]\n",
      "['3', 1240, -1.1370967741935485, 0.39831332159402461, -1.9185399089535622, -0.3556536394335349]\n",
      "['4', 462, -4.383116883116883, 0.65255134092933742, -5.6654606729880852, -3.1007730932456807]\n",
      "\n",
      "Multiple Comparison of Means - Tukey HSD,FWER=0.05\n",
      "==============================================\n",
      "group1 group2 meandiff  lower    upper  reject\n",
      "----------------------------------------------\n",
      "  1      2    -5.5649  -7.5392  -3.5907  True \n",
      "  1      3    -7.5284  -9.4621  -5.5947  True \n",
      "  1      4    -10.7744 -13.1205 -8.4283  True \n",
      "  2      3    -1.9635  -3.4651  -0.4618  True \n",
      "  2      4    -5.2095  -7.2145  -3.2045  True \n",
      "  3      4     -3.246  -5.2111   -1.281  True \n",
      "----------------------------------------------\n"
     ]
    }
   ],
   "source": [
    "inc = 'ST_INC'\n",
    "inc_list = ['1', '2', '3', '4']\n",
    "\n",
    "onewayANOVA(inc, inc_list)"
   ]
  },
  {
   "cell_type": "markdown",
   "metadata": {},
   "source": [
    "###History of CVD###"
   ]
  },
  {
   "cell_type": "code",
   "execution_count": 34,
   "metadata": {
    "collapsed": false
   },
   "outputs": [
    {
     "data": {
      "text/plain": [
       "0    3171\n",
       "1      91\n",
       "Name: CVD, dtype: int64"
      ]
     },
     "execution_count": 34,
     "metadata": {},
     "output_type": "execute_result"
    }
   ],
   "source": [
    "data.CVD.value_counts(dropna=False)"
   ]
  },
  {
   "cell_type": "code",
   "execution_count": 35,
   "metadata": {
    "collapsed": true
   },
   "outputs": [],
   "source": [
    "def stringy_cvd(row):\n",
    "    if row['CVD'] == 1:\n",
    "        val = '1'\n",
    "    else:\n",
    "        val = '0'\n",
    "    return val\n",
    "\n",
    "data['ST_CVD'] = data.apply(stringy_cvd, axis=1)"
   ]
  },
  {
   "cell_type": "code",
   "execution_count": 36,
   "metadata": {
    "collapsed": false,
    "scrolled": true
   },
   "outputs": [
    {
     "name": "stdout",
     "output_type": "stream",
     "text": [
      "72.8687662344\n",
      "2.09253070027e-17\n",
      "\n",
      "['0', 3171, -0.19331441185745821, 0.25212354230321321, -0.68765622205269705, 0.30102739833778069]\n",
      "['1', 91, 12.692307692307692, 1.4883011767250354, 9.7355376357950885, 15.649077748820295]\n",
      "\n",
      "Multiple Comparison of Means - Tukey HSD,FWER=0.05\n",
      "============================================\n",
      "group1 group2 meandiff lower   upper  reject\n",
      "--------------------------------------------\n",
      "  0      1    12.8856  9.9259 15.8453  True \n",
      "--------------------------------------------\n"
     ]
    }
   ],
   "source": [
    "cvd = 'ST_CVD'\n",
    "cvd_list = ['0', '1']\n",
    "\n",
    "onewayANOVA(cvd, cvd_list)"
   ]
  },
  {
   "cell_type": "markdown",
   "metadata": {},
   "source": [
    "###Discrimination Classification###"
   ]
  },
  {
   "cell_type": "code",
   "execution_count": 9,
   "metadata": {
    "collapsed": false
   },
   "outputs": [
    {
     "data": {
      "text/plain": [
       "0    2226\n",
       "1    1036\n",
       "Name: DISC, dtype: int64"
      ]
     },
     "execution_count": 9,
     "metadata": {},
     "output_type": "execute_result"
    }
   ],
   "source": [
    "data.DISC.value_counts(dropna=False)"
   ]
  },
  {
   "cell_type": "code",
   "execution_count": 10,
   "metadata": {
    "collapsed": true
   },
   "outputs": [],
   "source": [
    "def stringy_disc(row):\n",
    "    if row['DISC'] == 1:\n",
    "        val = '1'\n",
    "    else:\n",
    "        val = '0'\n",
    "    return val\n",
    "\n",
    "data['ST_DISC'] = data.apply(stringy_disc, axis=1)"
   ]
  },
  {
   "cell_type": "code",
   "execution_count": 11,
   "metadata": {
    "collapsed": false
   },
   "outputs": [
    {
     "name": "stdout",
     "output_type": "stream",
     "text": [
      "28.5577752353\n",
      "9.71953739998e-08\n",
      "\n",
      "              df         sum_sq      mean_sq          F        PR(>F)\n",
      "C(ST_DISC)     1    5833.915722  5833.915722  28.557775  9.719537e-08\n",
      "Residual    3260  665968.027871   204.284671        NaN           NaN\n",
      "['0', 2226, -0.74618149146451029, 0.30293908538622299, -1.3402543515324457, -0.15210863139657493]\n",
      "['1', 1036, 2.1264478764478763, 0.44405627570205325, 1.2550945989608682, 2.9978011539348843]\n",
      "\n",
      "Multiple Comparison of Means - Tukey HSD,FWER=0.05\n",
      "===========================================\n",
      "group1 group2 meandiff lower  upper  reject\n",
      "-------------------------------------------\n",
      "  0      1     2.8726  1.8187 3.9266  True \n",
      "-------------------------------------------\n"
     ]
    }
   ],
   "source": [
    "disc = 'ST_DISC'\n",
    "disc_list = ['0', '1']\n",
    "\n",
    "onewayANOVA(disc, disc_list)"
   ]
  },
  {
   "cell_type": "markdown",
   "metadata": {},
   "source": [
    "##Linear Regression##"
   ]
  },
  {
   "cell_type": "markdown",
   "metadata": {},
   "source": [
    "###BMI###"
   ]
  },
  {
   "cell_type": "code",
   "execution_count": 40,
   "metadata": {
    "collapsed": false
   },
   "outputs": [
    {
     "data": {
      "text/html": [
       "<table class=\"simpletable\">\n",
       "<caption>OLS Regression Results</caption>\n",
       "<tr>\n",
       "  <th>Dep. Variable:</th>      <td>LV_AGE_DIFF0</td>   <th>  R-squared:         </th> <td>   0.176</td> \n",
       "</tr>\n",
       "<tr>\n",
       "  <th>Model:</th>                   <td>OLS</td>       <th>  Adj. R-squared:    </th> <td>   0.176</td> \n",
       "</tr>\n",
       "<tr>\n",
       "  <th>Method:</th>             <td>Least Squares</td>  <th>  F-statistic:       </th> <td>   696.2</td> \n",
       "</tr>\n",
       "<tr>\n",
       "  <th>Date:</th>             <td>Sat, 05 Dec 2015</td> <th>  Prob (F-statistic):</th> <td>3.14e-139</td>\n",
       "</tr>\n",
       "<tr>\n",
       "  <th>Time:</th>                 <td>23:28:15</td>     <th>  Log-Likelihood:    </th> <td> -13002.</td> \n",
       "</tr>\n",
       "<tr>\n",
       "  <th>No. Observations:</th>      <td>  3262</td>      <th>  AIC:               </th> <td>2.601e+04</td>\n",
       "</tr>\n",
       "<tr>\n",
       "  <th>Df Residuals:</th>          <td>  3260</td>      <th>  BIC:               </th> <td>2.602e+04</td>\n",
       "</tr>\n",
       "<tr>\n",
       "  <th>Df Model:</th>              <td>     1</td>      <th>                     </th>     <td> </td>    \n",
       "</tr>\n",
       "<tr>\n",
       "  <th>Covariance Type:</th>      <td>nonrobust</td>    <th>                     </th>     <td> </td>    \n",
       "</tr>\n",
       "</table>\n",
       "<table class=\"simpletable\">\n",
       "<tr>\n",
       "      <td></td>         <th>coef</th>     <th>std err</th>      <th>t</th>      <th>P>|t|</th> <th>[95.0% Conf. Int.]</th> \n",
       "</tr>\n",
       "<tr>\n",
       "  <th>Intercept</th> <td>  -23.5598</td> <td>    0.928</td> <td>  -25.397</td> <td> 0.000</td> <td>  -25.379   -21.741</td>\n",
       "</tr>\n",
       "<tr>\n",
       "  <th>BMI0</th>      <td>    0.8397</td> <td>    0.032</td> <td>   26.386</td> <td> 0.000</td> <td>    0.777     0.902</td>\n",
       "</tr>\n",
       "</table>\n",
       "<table class=\"simpletable\">\n",
       "<tr>\n",
       "  <th>Omnibus:</th>       <td>1287.723</td> <th>  Durbin-Watson:     </th> <td>   1.878</td>\n",
       "</tr>\n",
       "<tr>\n",
       "  <th>Prob(Omnibus):</th>  <td> 0.000</td>  <th>  Jarque-Bera (JB):  </th> <td>7171.370</td>\n",
       "</tr>\n",
       "<tr>\n",
       "  <th>Skew:</th>           <td> 1.797</td>  <th>  Prob(JB):          </th> <td>    0.00</td>\n",
       "</tr>\n",
       "<tr>\n",
       "  <th>Kurtosis:</th>       <td> 9.313</td>  <th>  Cond. No.          </th> <td>    119.</td>\n",
       "</tr>\n",
       "</table>"
      ],
      "text/plain": [
       "<class 'statsmodels.iolib.summary.Summary'>\n",
       "\"\"\"\n",
       "                            OLS Regression Results                            \n",
       "==============================================================================\n",
       "Dep. Variable:           LV_AGE_DIFF0   R-squared:                       0.176\n",
       "Model:                            OLS   Adj. R-squared:                  0.176\n",
       "Method:                 Least Squares   F-statistic:                     696.2\n",
       "Date:                Sat, 05 Dec 2015   Prob (F-statistic):          3.14e-139\n",
       "Time:                        23:28:15   Log-Likelihood:                -13002.\n",
       "No. Observations:                3262   AIC:                         2.601e+04\n",
       "Df Residuals:                    3260   BIC:                         2.602e+04\n",
       "Df Model:                           1                                         \n",
       "Covariance Type:            nonrobust                                         \n",
       "==============================================================================\n",
       "                 coef    std err          t      P>|t|      [95.0% Conf. Int.]\n",
       "------------------------------------------------------------------------------\n",
       "Intercept    -23.5598      0.928    -25.397      0.000       -25.379   -21.741\n",
       "BMI0           0.8397      0.032     26.386      0.000         0.777     0.902\n",
       "==============================================================================\n",
       "Omnibus:                     1287.723   Durbin-Watson:                   1.878\n",
       "Prob(Omnibus):                  0.000   Jarque-Bera (JB):             7171.370\n",
       "Skew:                           1.797   Prob(JB):                         0.00\n",
       "Kurtosis:                       9.313   Cond. No.                         119.\n",
       "==============================================================================\n",
       "\n",
       "Warnings:\n",
       "[1] Standard Errors assume that the covariance matrix of the errors is correctly specified.\n",
       "\"\"\""
      ]
     },
     "execution_count": 40,
     "metadata": {},
     "output_type": "execute_result"
    }
   ],
   "source": [
    "bmi_lm = smf.ols('LV_AGE_DIFF0 ~ BMI0', data).fit()\n",
    "bmi_lm.summary()"
   ]
  },
  {
   "cell_type": "markdown",
   "metadata": {},
   "source": [
    "###CRP###"
   ]
  },
  {
   "cell_type": "code",
   "execution_count": 41,
   "metadata": {
    "collapsed": false
   },
   "outputs": [
    {
     "data": {
      "text/html": [
       "<table class=\"simpletable\">\n",
       "<caption>OLS Regression Results</caption>\n",
       "<tr>\n",
       "  <th>Dep. Variable:</th>      <td>LV_AGE_DIFF0</td>   <th>  R-squared:         </th> <td>   0.070</td> \n",
       "</tr>\n",
       "<tr>\n",
       "  <th>Model:</th>                   <td>OLS</td>       <th>  Adj. R-squared:    </th> <td>   0.070</td> \n",
       "</tr>\n",
       "<tr>\n",
       "  <th>Method:</th>             <td>Least Squares</td>  <th>  F-statistic:       </th> <td>   246.5</td> \n",
       "</tr>\n",
       "<tr>\n",
       "  <th>Date:</th>             <td>Sat, 05 Dec 2015</td> <th>  Prob (F-statistic):</th> <td>1.31e-53</td> \n",
       "</tr>\n",
       "<tr>\n",
       "  <th>Time:</th>                 <td>23:28:15</td>     <th>  Log-Likelihood:    </th> <td> -13199.</td> \n",
       "</tr>\n",
       "<tr>\n",
       "  <th>No. Observations:</th>      <td>  3262</td>      <th>  AIC:               </th> <td>2.640e+04</td>\n",
       "</tr>\n",
       "<tr>\n",
       "  <th>Df Residuals:</th>          <td>  3260</td>      <th>  BIC:               </th> <td>2.641e+04</td>\n",
       "</tr>\n",
       "<tr>\n",
       "  <th>Df Model:</th>              <td>     1</td>      <th>                     </th>     <td> </td>    \n",
       "</tr>\n",
       "<tr>\n",
       "  <th>Covariance Type:</th>      <td>nonrobust</td>    <th>                     </th>     <td> </td>    \n",
       "</tr>\n",
       "</table>\n",
       "<table class=\"simpletable\">\n",
       "<tr>\n",
       "      <td></td>         <th>coef</th>     <th>std err</th>      <th>t</th>      <th>P>|t|</th> <th>[95.0% Conf. Int.]</th> \n",
       "</tr>\n",
       "<tr>\n",
       "  <th>Intercept</th> <td>   -2.2120</td> <td>    0.286</td> <td>   -7.740</td> <td> 0.000</td> <td>   -2.772    -1.652</td>\n",
       "</tr>\n",
       "<tr>\n",
       "  <th>CRPRESU0</th>  <td>    0.6112</td> <td>    0.039</td> <td>   15.701</td> <td> 0.000</td> <td>    0.535     0.688</td>\n",
       "</tr>\n",
       "</table>\n",
       "<table class=\"simpletable\">\n",
       "<tr>\n",
       "  <th>Omnibus:</th>       <td>1266.296</td> <th>  Durbin-Watson:     </th> <td>   1.833</td>\n",
       "</tr>\n",
       "<tr>\n",
       "  <th>Prob(Omnibus):</th>  <td> 0.000</td>  <th>  Jarque-Bera (JB):  </th> <td>7437.785</td>\n",
       "</tr>\n",
       "<tr>\n",
       "  <th>Skew:</th>           <td> 1.741</td>  <th>  Prob(JB):          </th> <td>    0.00</td>\n",
       "</tr>\n",
       "<tr>\n",
       "  <th>Kurtosis:</th>       <td> 9.526</td>  <th>  Cond. No.          </th> <td>    8.70</td>\n",
       "</tr>\n",
       "</table>"
      ],
      "text/plain": [
       "<class 'statsmodels.iolib.summary.Summary'>\n",
       "\"\"\"\n",
       "                            OLS Regression Results                            \n",
       "==============================================================================\n",
       "Dep. Variable:           LV_AGE_DIFF0   R-squared:                       0.070\n",
       "Model:                            OLS   Adj. R-squared:                  0.070\n",
       "Method:                 Least Squares   F-statistic:                     246.5\n",
       "Date:                Sat, 05 Dec 2015   Prob (F-statistic):           1.31e-53\n",
       "Time:                        23:28:15   Log-Likelihood:                -13199.\n",
       "No. Observations:                3262   AIC:                         2.640e+04\n",
       "Df Residuals:                    3260   BIC:                         2.641e+04\n",
       "Df Model:                           1                                         \n",
       "Covariance Type:            nonrobust                                         \n",
       "==============================================================================\n",
       "                 coef    std err          t      P>|t|      [95.0% Conf. Int.]\n",
       "------------------------------------------------------------------------------\n",
       "Intercept     -2.2120      0.286     -7.740      0.000        -2.772    -1.652\n",
       "CRPRESU0       0.6112      0.039     15.701      0.000         0.535     0.688\n",
       "==============================================================================\n",
       "Omnibus:                     1266.296   Durbin-Watson:                   1.833\n",
       "Prob(Omnibus):                  0.000   Jarque-Bera (JB):             7437.785\n",
       "Skew:                           1.741   Prob(JB):                         0.00\n",
       "Kurtosis:                       9.526   Cond. No.                         8.70\n",
       "==============================================================================\n",
       "\n",
       "Warnings:\n",
       "[1] Standard Errors assume that the covariance matrix of the errors is correctly specified.\n",
       "\"\"\""
      ]
     },
     "execution_count": 41,
     "metadata": {},
     "output_type": "execute_result"
    }
   ],
   "source": [
    "crp_lm = smf.ols('LV_AGE_DIFF0 ~ CRPRESU0', data).fit()\n",
    "crp_lm.summary()"
   ]
  },
  {
   "cell_type": "code",
   "execution_count": 42,
   "metadata": {
    "collapsed": true
   },
   "outputs": [],
   "source": [
    "data.to_csv('900_CleanedData.csv', index = False)"
   ]
  }
 ],
 "metadata": {
  "kernelspec": {
   "display_name": "Python 2",
   "language": "python",
   "name": "python2"
  },
  "language_info": {
   "codemirror_mode": {
    "name": "ipython",
    "version": 2
   },
   "file_extension": ".py",
   "mimetype": "text/x-python",
   "name": "python",
   "nbconvert_exporter": "python",
   "pygments_lexer": "ipython2",
   "version": "2.7.10"
  }
 },
 "nbformat": 4,
 "nbformat_minor": 0
}
