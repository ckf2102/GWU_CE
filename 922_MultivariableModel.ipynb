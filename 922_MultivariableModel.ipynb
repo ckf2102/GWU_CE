{
 "cells": [
  {
   "cell_type": "code",
   "execution_count": 1,
   "metadata": {
    "collapsed": true
   },
   "outputs": [],
   "source": [
    "import pandas as pd\n",
    "import numpy as np\n",
    "import statsmodels.formula.api as smf\n",
    "import scipy as sp\n",
    "from scipy import stats\n",
    "import scipy.stats.mstats as mst\n",
    "import patsy\n",
    "from statsmodels.stats.anova import anova_lm\n",
    "from statsmodels.stats.multicomp import (pairwise_tukeyhsd, MultiComparison)\n",
    "\n",
    "import matplotlib.pyplot as plt\n",
    "import seaborn as sns\n",
    "\n",
    "%matplotlib inline\n",
    "\n",
    "data = pd.read_csv('901_CleanedData.csv', low_memory=False)"
   ]
  },
  {
   "cell_type": "code",
   "execution_count": 2,
   "metadata": {
    "collapsed": true
   },
   "outputs": [],
   "source": [
    "def newIV(row):\n",
    "    if row['DISC_SCORE0'] < 2:\n",
    "        val = 0\n",
    "    else:\n",
    "        val = 1\n",
    "    return val\n",
    "\n",
    "data['DISC'] = data.apply(newIV, axis=1)"
   ]
  },
  {
   "cell_type": "code",
   "execution_count": 3,
   "metadata": {
    "collapsed": false
   },
   "outputs": [],
   "source": [
    "def ancova_lm(formula):\n",
    "    lm = smf.ols(formula, data).fit()\n",
    "    y,X = patsy.dmatrices(formula, data, return_type='dataframe')\n",
    "    p_lm = smf.OLS(y, X).fit()\n",
    "    anova = anova_lm(p_lm, typ=3)\n",
    "    print \"F stats\"\n",
    "    print anova\n",
    "    print \"\"\n",
    "    print \"OLS Results\"\n",
    "    print p_lm.summary()\n",
    "    return"
   ]
  },
  {
   "cell_type": "code",
   "execution_count": null,
   "metadata": {
    "collapsed": false
   },
   "outputs": [],
   "source": [
    "formula = 'LV_AGE_DIFF0 ~ C(DISC) + C(RACE) + C(DEGREE) + C(INCOME0) + C(CVD) + BMI0'\n",
    "\n",
    "ancova_lm(formula)"
   ]
  },
  {
   "cell_type": "code",
   "execution_count": null,
   "metadata": {
    "collapsed": false
   },
   "outputs": [],
   "source": [
    "formula = 'LV_AGE_DIFF0 ~ C(DISC) + BMI0'\n",
    "\n",
    "ancova_lm(formula)"
   ]
  },
  {
   "cell_type": "code",
   "execution_count": null,
   "metadata": {
    "collapsed": false
   },
   "outputs": [],
   "source": [
    "formula = 'LV_AGE_DIFF0 ~ C(DISC) + BMI0 + C(DISC)*BMI0'\n",
    "\n",
    "ancova_lm(formula)"
   ]
  },
  {
   "cell_type": "code",
   "execution_count": null,
   "metadata": {
    "collapsed": false
   },
   "outputs": [],
   "source": [
    "#disc two way interactions\n",
    "disc_int = 'C(DISC)*C(RACE) + C(DISC)*C(DEGREE) + C(DISC)*C(INCOME0) + C(DISC)*C(CVD) + C(DISC)*BMI0'\n",
    "formula = 'LV_AGE_DIFF0 ~ C(DISC) + C(RACE) + C(DEGREE) + C(INCOME0) + C(CVD) + BMI0 + ' + disc_int\n",
    "\n",
    "ancova_lm(formula)"
   ]
  },
  {
   "cell_type": "code",
   "execution_count": null,
   "metadata": {
    "collapsed": false,
    "scrolled": true
   },
   "outputs": [],
   "source": [
    "#disc two way interactions - complete?\n",
    "disc_int = '+ C(DISC)*C(RACE) + C(DISC)*C(DEGREE)'\n",
    "formula = 'LV_AGE_DIFF0 ~ C(DISC) + C(RACE) + C(DEGREE) + C(INCOME0) + C(CVD) + BMI0' + disc_int\n",
    "\n",
    "ancova_lm(formula)"
   ]
  },
  {
   "cell_type": "code",
   "execution_count": null,
   "metadata": {
    "collapsed": false,
    "scrolled": true
   },
   "outputs": [],
   "source": [
    "# race interactions\n",
    "inter = '+ C(RACE)*C(DEGREE) + C(RACE)*C(CVD) + C(RACE)*BMI0 + C(DEGREE)*C(CVD) + C(DEGREE)*BMI0'\n",
    "formula = 'LV_AGE_DIFF0 ~ C(DISC) + C(RACE) + C(DEGREE) + C(INCOME0) + C(CVD) + BMI0' + inter\n",
    "\n",
    "ancova_lm(formula)"
   ]
  },
  {
   "cell_type": "code",
   "execution_count": null,
   "metadata": {
    "collapsed": false
   },
   "outputs": [],
   "source": [
    "inter = '+ C(RACE)*C(DEGREE) + C(RACE)*C(CVD) + C(RACE)*BMI0 + C(DEGREE)*C(CVD) + C(DEGREE)*BMI0'\n",
    "\n",
    "formula = 'LV_AGE_DIFF0 ~ C(DISC) + C(RACE) + C(DEGREE) + C(INCOME0) + C(CVD) + BMI0' + inter\n",
    "ancova_lm(formula)"
   ]
  },
  {
   "cell_type": "code",
   "execution_count": null,
   "metadata": {
    "collapsed": false
   },
   "outputs": [],
   "source": [
    "inter = ' + C(RACE)*C(DEGREE) + C(RACE)*C(CVD) + C(RACE)*BMI0 + C(RACE)*C(DEGREE)*C(CVD) + C(RACE)*C(DEGREE)*BMI0'\n",
    "# not significant interactions:\n",
    "# C(RACE)*C(INCOME0)\n",
    "formula = 'LV_AGE_DIFF0 ~ C(RACE) + C(DEGREE) + C(INCOME0) + C(CVD) + BMI0' + inter\n",
    "ancova_lm(formula)"
   ]
  },
  {
   "cell_type": "code",
   "execution_count": 8,
   "metadata": {
    "collapsed": false
   },
   "outputs": [
    {
     "name": "stdout",
     "output_type": "stream",
     "text": [
      "F stats\n",
      "                          sum_sq    df           F        PR(>F)\n",
      "Intercept           27460.454554     1  173.820086  1.055710e-38\n",
      "C(DISC)              2800.855879     1   17.728949  2.616478e-05\n",
      "C(RACE)              6742.995810     3   14.227345  3.283732e-09\n",
      "C(DEGREE)            5569.818593     4    8.814005  4.480374e-07\n",
      "C(INCOME0)           1359.965182     3    2.869451  3.513765e-02\n",
      "C(CVD)               5245.651810     1   33.204099  9.074440e-09\n",
      "C(DISC):C(RACE)      2023.333256     3    4.269120  5.127560e-03\n",
      "C(DISC):C(DEGREE)    2021.658020     4    3.199189  1.242647e-02\n",
      "BMI0                63996.555369     1  405.087495  5.460317e-85\n",
      "Residual           512019.843862  3241         NaN           NaN\n",
      "\n",
      "OLS Results\n",
      "                            OLS Regression Results                            \n",
      "==============================================================================\n",
      "Dep. Variable:           LV_AGE_DIFF0   R-squared:                       0.238\n",
      "Model:                            OLS   Adj. R-squared:                  0.233\n",
      "Method:                 Least Squares   F-statistic:                     50.57\n",
      "Date:                Tue, 08 Dec 2015   Prob (F-statistic):          3.87e-174\n",
      "Time:                        19:35:02   Log-Likelihood:                -12875.\n",
      "No. Observations:                3262   AIC:                         2.579e+04\n",
      "Df Residuals:                    3241   BIC:                         2.592e+04\n",
      "Df Model:                          20                                         \n",
      "Covariance Type:            nonrobust                                         \n",
      "=====================================================================================================\n",
      "                                        coef    std err          t      P>|t|      [95.0% Conf. Int.]\n",
      "-----------------------------------------------------------------------------------------------------\n",
      "Intercept                           -20.7176      1.571    -13.184      0.000       -23.799   -17.637\n",
      "C(DISC)[T.1]                          9.9957      2.374      4.211      0.000         5.341    14.650\n",
      "C(RACE)[T.Black]                      4.9655      0.934      5.315      0.000         3.134     6.797\n",
      "C(RACE)[T.Caucasian]                  1.3155      0.790      1.665      0.096        -0.233     2.864\n",
      "C(RACE)[T.Hispanic]                   5.2016      1.168      4.455      0.000         2.912     7.491\n",
      "C(DEGREE)[T.2.0]                      2.8615      1.235      2.317      0.021         0.440     5.283\n",
      "C(DEGREE)[T.3.0]                      1.3707      1.201      1.142      0.254        -0.983     3.725\n",
      "C(DEGREE)[T.4.0]                     -1.3182      1.280     -1.030      0.303        -3.829     1.192\n",
      "C(DEGREE)[T.5.0]                     -1.4240      1.298     -1.097      0.273        -3.970     1.122\n",
      "C(INCOME0)[T.2.0]                    -2.0833      0.745     -2.796      0.005        -3.544    -0.622\n",
      "C(INCOME0)[T.3.0]                    -2.0333      0.776     -2.620      0.009        -3.555    -0.512\n",
      "C(INCOME0)[T.4.0]                    -2.1973      0.949     -2.315      0.021        -4.058    -0.336\n",
      "C(CVD)[T.1]                           7.8276      1.358      5.762      0.000         5.164    10.491\n",
      "C(DISC)[T.1]:C(RACE)[T.Black]        -2.1162      1.445     -1.464      0.143        -4.950     0.718\n",
      "C(DISC)[T.1]:C(RACE)[T.Caucasian]    -3.2123      1.385     -2.319      0.020        -5.928    -0.497\n",
      "C(DISC)[T.1]:C(RACE)[T.Hispanic]    -10.9360      3.428     -3.190      0.001       -17.657    -4.215\n",
      "C(DISC)[T.1]:C(DEGREE)[T.2.0]        -8.3302      2.380     -3.500      0.000       -12.997    -3.664\n",
      "C(DISC)[T.1]:C(DEGREE)[T.3.0]        -6.4264      2.274     -2.826      0.005       -10.885    -1.968\n",
      "C(DISC)[T.1]:C(DEGREE)[T.4.0]        -7.4322      2.397     -3.101      0.002       -12.132    -2.733\n",
      "C(DISC)[T.1]:C(DEGREE)[T.5.0]        -6.9338      2.383     -2.910      0.004       -11.606    -2.261\n",
      "BMI0                                  0.6836      0.034     20.127      0.000         0.617     0.750\n",
      "==============================================================================\n",
      "Omnibus:                     1262.577   Durbin-Watson:                   1.922\n",
      "Prob(Omnibus):                  0.000   Jarque-Bera (JB):             7544.204\n",
      "Skew:                           1.729   Prob(JB):                         0.00\n",
      "Kurtosis:                       9.599   Cond. No.                         706.\n",
      "==============================================================================\n",
      "\n",
      "Warnings:\n",
      "[1] Standard Errors assume that the covariance matrix of the errors is correctly specified.\n"
     ]
    }
   ],
   "source": [
    "disc_inter = '+ C(DISC)*C(RACE) + C(DISC)*C(DEGREE) + C(DISC)*C(INCOME0) + C(DISC)*C(CVD) + C(DISC)*BMI0'\n",
    "disc_inter2 = '+ C(DISC)*C(RACE) + C(DISC)*C(DEGREE) + C(DISC)*C(INCOME0) + C(DISC)*C(CVD)'\n",
    "disc_inter3 = '+ C(DISC)*C(RACE) + C(DISC)*C(DEGREE) + C(DISC)*C(CVD)'\n",
    "disc_inter4 = '+ C(DISC)*C(RACE) + C(DISC)*C(DEGREE)'\n",
    "\n",
    "formula = 'LV_AGE_DIFF0 ~ C(DISC) + C(RACE) + C(DEGREE) + C(INCOME0) + C(CVD) + BMI0' + disc_inter4\n",
    "\n",
    "ancova_lm(formula)"
   ]
  }
 ],
 "metadata": {
  "kernelspec": {
   "display_name": "Python 2",
   "language": "python",
   "name": "python2"
  },
  "language_info": {
   "codemirror_mode": {
    "name": "ipython",
    "version": 2
   },
   "file_extension": ".py",
   "mimetype": "text/x-python",
   "name": "python",
   "nbconvert_exporter": "python",
   "pygments_lexer": "ipython2",
   "version": "2.7.10"
  }
 },
 "nbformat": 4,
 "nbformat_minor": 0
}
